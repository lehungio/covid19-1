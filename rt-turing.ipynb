{
 "cells": [
  {
   "cell_type": "markdown",
   "metadata": {},
   "source": [
    "# Exploring estimation of Rt for Indian states using Turing.jl\n",
    "\n",
    "The data I'll be pulling in live identifies Indian states using their two-letter codes. So I need a table that translates them to their full names.\n",
    "\n",
    "Rt values for Indian states (the \"effective reproduction number\") calculated according to the model described by Kevin Systrom (his [jupyter notebook](https://github.com/k-sys/covid-19/blob/master/Realtime%20R0.ipynb))."
   ]
  },
  {
   "cell_type": "code",
   "execution_count": 1,
   "metadata": {},
   "outputs": [],
   "source": [
    "using HTTP, JSON\n",
    "\n",
    "india_state_codes = Dict(\n",
    "    \"ap\" => \"Andhra Pradesh\",\n",
    "    \"ar\" => \"Arunachal Pradesh\",\n",
    "    \"as\" => \"Assam\",\n",
    "    \"br\" => \"Bihar\",\n",
    "    \"ct\" => \"Chhattisgarh\",\n",
    "    \"ga\" => \"Goa\",\n",
    "    \"gj\" => \"Gujarat\",\n",
    "    \"hr\" => \"Haryana\",\n",
    "    \"hp\" => \"Himachal Pradesh\",\n",
    "    \"jh\" => \"Jharkhand\",\n",
    "    \"ka\" => \"Karnataka\",\n",
    "    \"kl\" => \"Kerala\",\n",
    "    \"mp\" => \"Madhya Pradesh\",\n",
    "    \"mh\" => \"Maharashtra\",\n",
    "    \"mn\" => \"Manipur\",\n",
    "    \"ml\" => \"Meghalaya\",\n",
    "    \"mz\" => \"Mizoram\",\n",
    "    \"nl\" => \"Nagaland\",\n",
    "    \"or\" => \"Odisha\",\n",
    "    \"pb\" => \"Punjab\",\n",
    "    \"rj\" => \"Rajasthan\",\n",
    "    \"sk\" => \"Sikkim\",\n",
    "    \"tn\" => \"Tamil Nadu\",\n",
    "    \"tg\" => \"Telangana\",\n",
    "    \"tr\" => \"Tripura\",\n",
    "    \"ut\" => \"Uttarakhand\",\n",
    "    \"up\" => \"Uttar Pradesh\",\n",
    "    \"wb\" => \"West Bengal\",\n",
    "    \"an\" => \"Andaman and Nicobar Islands\",\n",
    "    \"ch\" => \"Chandigarh\",\n",
    "    \"dn\" => \"Dadra and Nagar Haveli\",\n",
    "    \"dd\" => \"Daman and Diu\",\n",
    "    \"dl\" => \"Delhi\",\n",
    "    \"jk\" => \"Jammu and Kashmir\",\n",
    "    \"la\" => \"Ladakh\",\n",
    "    \"ld\" => \"Lakshadweep\",\n",
    "    \"py\" => \"Puducherry\",\n",
    "    \"in\" => \"INDIA\"\n",
    ");"
   ]
  },
  {
   "cell_type": "markdown",
   "metadata": {},
   "source": [
    "## Getting the data\n",
    "\n",
    "Grab the \"state-wise daily\" data from https://covid19india.org . They provide mostly straightforward JSON API end points to grab the data."
   ]
  },
  {
   "cell_type": "code",
   "execution_count": 2,
   "metadata": {},
   "outputs": [
    {
     "name": "stdout",
     "output_type": "stream",
     "text": [
      "Computing estimates for 07-May-20\n"
     ]
    }
   ],
   "source": [
    "# Grab the data\n",
    "state_wise_dailies = JSON.parse(String(HTTP.get(\"https://api.covid19india.org/states_daily.json\").body))    \n",
    "ignorable_tail = 0\n",
    "\n",
    "# Make a function to extract state-wise. We skip the last data point since it can be in error quite often.\n",
    "dailies_for_state(state_code) = [parse(Int, x[state_code]) for x in state_wise_dailies[\"states_daily\"] if x[\"status\"] === \"Confirmed\"][1:end-ignorable_tail]\n",
    "state_data_available(state_code) = all([haskey(x, state_code) && (tryparse(Int, x[state_code]) !== nothing) for x in state_wise_dailies[\"states_daily\"] if x[\"status\"] === \"Confirmed\"])\n",
    "\n",
    "# Also make a note of the date series to keep track of which dat each data point corresponds to.\n",
    "date_series = [x[\"date\"] for x in state_wise_dailies[\"states_daily\"] if x[\"status\"] === \"Confirmed\"][1:end-ignorable_tail]\n",
    "\n",
    "println(\"Computing estimates for \", date_series[end])"
   ]
  },
  {
   "cell_type": "markdown",
   "metadata": {},
   "source": [
    "## Filtering the data\n",
    "\n",
    "We normally want to filter the data because there is considerable noise from day to day in the per-state dataset. We know that the state-wise data is going to give us some significant variance in the Rt estimates due to the interventions in effect, so the filtering may not have that much of an impact.\n",
    "\n",
    "However, we do need the filter to satisfy some key properties -\n",
    "\n",
    "1. It must preserve the total number of cases.\n",
    "2. At the ends, it must assume the status quo at the worst. This means constant padding must be used."
   ]
  },
  {
   "cell_type": "code",
   "execution_count": 3,
   "metadata": {},
   "outputs": [
    {
     "data": {
      "image/svg+xml": [
       "<?xml version=\"1.0\" encoding=\"utf-8\"?>\n",
       "<svg xmlns=\"http://www.w3.org/2000/svg\" xmlns:xlink=\"http://www.w3.org/1999/xlink\" width=\"600\" height=\"400\" viewBox=\"0 0 2400 1600\">\n",
       "<defs>\n",
       "  <clipPath id=\"clip2400\">\n",
       "    <rect x=\"0\" y=\"0\" width=\"2400\" height=\"1600\"/>\n",
       "  </clipPath>\n",
       "</defs>\n",
       "<path clip-path=\"url(#clip2400)\" d=\"\n",
       "M0 1600 L2400 1600 L2400 0 L0 0  Z\n",
       "  \" fill=\"#ffffff\" fill-rule=\"evenodd\" fill-opacity=\"1\"/>\n",
       "<defs>\n",
       "  <clipPath id=\"clip2401\">\n",
       "    <rect x=\"480\" y=\"0\" width=\"1681\" height=\"1600\"/>\n",
       "  </clipPath>\n",
       "</defs>\n",
       "<path clip-path=\"url(#clip2400)\" d=\"\n",
       "M188.612 1486.45 L2352.76 1486.45 L2352.76 47.2441 L188.612 47.2441  Z\n",
       "  \" fill=\"#ffffff\" fill-rule=\"evenodd\" fill-opacity=\"1\"/>\n",
       "<defs>\n",
       "  <clipPath id=\"clip2402\">\n",
       "    <rect x=\"188\" y=\"47\" width=\"2165\" height=\"1440\"/>\n",
       "  </clipPath>\n",
       "</defs>\n",
       "<polyline clip-path=\"url(#clip2402)\" style=\"stroke:#000000; stroke-width:2; stroke-opacity:0.1; fill:none\" points=\"\n",
       "  212.053,1486.45 212.053,47.2441 \n",
       "  \"/>\n",
       "<polyline clip-path=\"url(#clip2402)\" style=\"stroke:#000000; stroke-width:2; stroke-opacity:0.1; fill:none\" points=\"\n",
       "  590.136,1486.45 590.136,47.2441 \n",
       "  \"/>\n",
       "<polyline clip-path=\"url(#clip2402)\" style=\"stroke:#000000; stroke-width:2; stroke-opacity:0.1; fill:none\" points=\"\n",
       "  968.218,1486.45 968.218,47.2441 \n",
       "  \"/>\n",
       "<polyline clip-path=\"url(#clip2402)\" style=\"stroke:#000000; stroke-width:2; stroke-opacity:0.1; fill:none\" points=\"\n",
       "  1346.3,1486.45 1346.3,47.2441 \n",
       "  \"/>\n",
       "<polyline clip-path=\"url(#clip2402)\" style=\"stroke:#000000; stroke-width:2; stroke-opacity:0.1; fill:none\" points=\"\n",
       "  1724.38,1486.45 1724.38,47.2441 \n",
       "  \"/>\n",
       "<polyline clip-path=\"url(#clip2402)\" style=\"stroke:#000000; stroke-width:2; stroke-opacity:0.1; fill:none\" points=\"\n",
       "  2102.47,1486.45 2102.47,47.2441 \n",
       "  \"/>\n",
       "<polyline clip-path=\"url(#clip2402)\" style=\"stroke:#000000; stroke-width:2; stroke-opacity:0.1; fill:none\" points=\"\n",
       "  188.612,1448.32 2352.76,1448.32 \n",
       "  \"/>\n",
       "<polyline clip-path=\"url(#clip2402)\" style=\"stroke:#000000; stroke-width:2; stroke-opacity:0.1; fill:none\" points=\"\n",
       "  188.612,1014.26 2352.76,1014.26 \n",
       "  \"/>\n",
       "<polyline clip-path=\"url(#clip2402)\" style=\"stroke:#000000; stroke-width:2; stroke-opacity:0.1; fill:none\" points=\"\n",
       "  188.612,580.2 2352.76,580.2 \n",
       "  \"/>\n",
       "<polyline clip-path=\"url(#clip2402)\" style=\"stroke:#000000; stroke-width:2; stroke-opacity:0.1; fill:none\" points=\"\n",
       "  188.612,146.14 2352.76,146.14 \n",
       "  \"/>\n",
       "<polyline clip-path=\"url(#clip2400)\" style=\"stroke:#000000; stroke-width:4; stroke-opacity:1; fill:none\" points=\"\n",
       "  188.612,1486.45 2352.76,1486.45 \n",
       "  \"/>\n",
       "<polyline clip-path=\"url(#clip2400)\" style=\"stroke:#000000; stroke-width:4; stroke-opacity:1; fill:none\" points=\"\n",
       "  188.612,1486.45 188.612,47.2441 \n",
       "  \"/>\n",
       "<polyline clip-path=\"url(#clip2400)\" style=\"stroke:#000000; stroke-width:4; stroke-opacity:1; fill:none\" points=\"\n",
       "  212.053,1486.45 212.053,1469.18 \n",
       "  \"/>\n",
       "<polyline clip-path=\"url(#clip2400)\" style=\"stroke:#000000; stroke-width:4; stroke-opacity:1; fill:none\" points=\"\n",
       "  590.136,1486.45 590.136,1469.18 \n",
       "  \"/>\n",
       "<polyline clip-path=\"url(#clip2400)\" style=\"stroke:#000000; stroke-width:4; stroke-opacity:1; fill:none\" points=\"\n",
       "  968.218,1486.45 968.218,1469.18 \n",
       "  \"/>\n",
       "<polyline clip-path=\"url(#clip2400)\" style=\"stroke:#000000; stroke-width:4; stroke-opacity:1; fill:none\" points=\"\n",
       "  1346.3,1486.45 1346.3,1469.18 \n",
       "  \"/>\n",
       "<polyline clip-path=\"url(#clip2400)\" style=\"stroke:#000000; stroke-width:4; stroke-opacity:1; fill:none\" points=\"\n",
       "  1724.38,1486.45 1724.38,1469.18 \n",
       "  \"/>\n",
       "<polyline clip-path=\"url(#clip2400)\" style=\"stroke:#000000; stroke-width:4; stroke-opacity:1; fill:none\" points=\"\n",
       "  2102.47,1486.45 2102.47,1469.18 \n",
       "  \"/>\n",
       "<polyline clip-path=\"url(#clip2400)\" style=\"stroke:#000000; stroke-width:4; stroke-opacity:1; fill:none\" points=\"\n",
       "  188.612,1448.32 214.582,1448.32 \n",
       "  \"/>\n",
       "<polyline clip-path=\"url(#clip2400)\" style=\"stroke:#000000; stroke-width:4; stroke-opacity:1; fill:none\" points=\"\n",
       "  188.612,1014.26 214.582,1014.26 \n",
       "  \"/>\n",
       "<polyline clip-path=\"url(#clip2400)\" style=\"stroke:#000000; stroke-width:4; stroke-opacity:1; fill:none\" points=\"\n",
       "  188.612,580.2 214.582,580.2 \n",
       "  \"/>\n",
       "<polyline clip-path=\"url(#clip2400)\" style=\"stroke:#000000; stroke-width:4; stroke-opacity:1; fill:none\" points=\"\n",
       "  188.612,146.14 214.582,146.14 \n",
       "  \"/>\n",
       "<path clip-path=\"url(#clip2400)\" d=\"M 0 0 M212.053 1508.44 Q208.442 1508.44 206.613 1512 Q204.808 1515.55 204.808 1522.67 Q204.808 1529.78 206.613 1533.35 Q208.442 1536.89 212.053 1536.89 Q215.687 1536.89 217.493 1533.35 Q219.322 1529.78 219.322 1522.67 Q219.322 1515.55 217.493 1512 Q215.687 1508.44 212.053 1508.44 M212.053 1504.73 Q217.863 1504.73 220.919 1509.34 Q223.997 1513.92 223.997 1522.67 Q223.997 1531.4 220.919 1536.01 Q217.863 1540.59 212.053 1540.59 Q206.243 1540.59 203.164 1536.01 Q200.109 1531.4 200.109 1522.67 Q200.109 1513.92 203.164 1509.34 Q206.243 1504.73 212.053 1504.73 Z\" fill=\"#000000\" fill-rule=\"evenodd\" fill-opacity=\"1\" /><path clip-path=\"url(#clip2400)\" d=\"M 0 0 M567.011 1535.98 L574.649 1535.98 L574.649 1509.62 L566.339 1511.29 L566.339 1507.03 L574.603 1505.36 L579.279 1505.36 L579.279 1535.98 L586.918 1535.98 L586.918 1539.92 L567.011 1539.92 L567.011 1535.98 Z\" fill=\"#000000\" fill-rule=\"evenodd\" fill-opacity=\"1\" /><path clip-path=\"url(#clip2400)\" d=\"M 0 0 M601.987 1508.44 Q598.376 1508.44 596.548 1512 Q594.742 1515.55 594.742 1522.67 Q594.742 1529.78 596.548 1533.35 Q598.376 1536.89 601.987 1536.89 Q605.622 1536.89 607.427 1533.35 Q609.256 1529.78 609.256 1522.67 Q609.256 1515.55 607.427 1512 Q605.622 1508.44 601.987 1508.44 M601.987 1504.73 Q607.797 1504.73 610.853 1509.34 Q613.932 1513.92 613.932 1522.67 Q613.932 1531.4 610.853 1536.01 Q607.797 1540.59 601.987 1540.59 Q596.177 1540.59 593.098 1536.01 Q590.043 1531.4 590.043 1522.67 Q590.043 1513.92 593.098 1509.34 Q596.177 1504.73 601.987 1504.73 Z\" fill=\"#000000\" fill-rule=\"evenodd\" fill-opacity=\"1\" /><path clip-path=\"url(#clip2400)\" d=\"M 0 0 M949.364 1535.98 L965.683 1535.98 L965.683 1539.92 L943.739 1539.92 L943.739 1535.98 Q946.401 1533.23 950.984 1528.6 Q955.591 1523.95 956.771 1522.61 Q959.017 1520.08 959.896 1518.35 Q960.799 1516.59 960.799 1514.9 Q960.799 1512.14 958.855 1510.41 Q956.933 1508.67 953.831 1508.67 Q951.632 1508.67 949.179 1509.43 Q946.748 1510.2 943.97 1511.75 L943.97 1507.03 Q946.794 1505.89 949.248 1505.31 Q951.702 1504.73 953.739 1504.73 Q959.109 1504.73 962.304 1507.42 Q965.498 1510.11 965.498 1514.6 Q965.498 1516.73 964.688 1518.65 Q963.901 1520.54 961.794 1523.14 Q961.216 1523.81 958.114 1527.03 Q955.012 1530.22 949.364 1535.98 Z\" fill=\"#000000\" fill-rule=\"evenodd\" fill-opacity=\"1\" /><path clip-path=\"url(#clip2400)\" d=\"M 0 0 M980.753 1508.44 Q977.142 1508.44 975.313 1512 Q973.507 1515.55 973.507 1522.67 Q973.507 1529.78 975.313 1533.35 Q977.142 1536.89 980.753 1536.89 Q984.387 1536.89 986.192 1533.35 Q988.021 1529.78 988.021 1522.67 Q988.021 1515.55 986.192 1512 Q984.387 1508.44 980.753 1508.44 M980.753 1504.73 Q986.563 1504.73 989.618 1509.34 Q992.697 1513.92 992.697 1522.67 Q992.697 1531.4 989.618 1536.01 Q986.563 1540.59 980.753 1540.59 Q974.942 1540.59 971.864 1536.01 Q968.808 1531.4 968.808 1522.67 Q968.808 1513.92 971.864 1509.34 Q974.942 1504.73 980.753 1504.73 Z\" fill=\"#000000\" fill-rule=\"evenodd\" fill-opacity=\"1\" /><path clip-path=\"url(#clip2400)\" d=\"M 0 0 M1337.04 1521.29 Q1340.4 1522 1342.27 1524.27 Q1344.17 1526.54 1344.17 1529.87 Q1344.17 1534.99 1340.65 1537.79 Q1337.13 1540.59 1330.65 1540.59 Q1328.48 1540.59 1326.16 1540.15 Q1323.87 1539.73 1321.42 1538.88 L1321.42 1534.36 Q1323.36 1535.5 1325.68 1536.08 Q1327.99 1536.66 1330.51 1536.66 Q1334.91 1536.66 1337.2 1534.92 Q1339.52 1533.18 1339.52 1529.87 Q1339.52 1526.82 1337.37 1525.11 Q1335.24 1523.37 1331.42 1523.37 L1327.39 1523.37 L1327.39 1519.53 L1331.6 1519.53 Q1335.05 1519.53 1336.88 1518.16 Q1338.71 1516.77 1338.71 1514.18 Q1338.71 1511.52 1336.81 1510.11 Q1334.93 1508.67 1331.42 1508.67 Q1329.49 1508.67 1327.3 1509.09 Q1325.1 1509.5 1322.46 1510.38 L1322.46 1506.22 Q1325.12 1505.48 1327.43 1505.11 Q1329.77 1504.73 1331.83 1504.73 Q1337.16 1504.73 1340.26 1507.17 Q1343.36 1509.57 1343.36 1513.69 Q1343.36 1516.56 1341.72 1518.55 Q1340.07 1520.52 1337.04 1521.29 Z\" fill=\"#000000\" fill-rule=\"evenodd\" fill-opacity=\"1\" /><path clip-path=\"url(#clip2400)\" d=\"M 0 0 M1359.24 1508.44 Q1355.63 1508.44 1353.8 1512 Q1351.99 1515.55 1351.99 1522.67 Q1351.99 1529.78 1353.8 1533.35 Q1355.63 1536.89 1359.24 1536.89 Q1362.87 1536.89 1364.68 1533.35 Q1366.51 1529.78 1366.51 1522.67 Q1366.51 1515.55 1364.68 1512 Q1362.87 1508.44 1359.24 1508.44 M1359.24 1504.73 Q1365.05 1504.73 1368.11 1509.34 Q1371.18 1513.92 1371.18 1522.67 Q1371.18 1531.4 1368.11 1536.01 Q1365.05 1540.59 1359.24 1540.59 Q1353.43 1540.59 1350.35 1536.01 Q1347.3 1531.4 1347.3 1522.67 Q1347.3 1513.92 1350.35 1509.34 Q1353.43 1504.73 1359.24 1504.73 Z\" fill=\"#000000\" fill-rule=\"evenodd\" fill-opacity=\"1\" /><path clip-path=\"url(#clip2400)\" d=\"M 0 0 M1713.89 1509.43 L1702.08 1527.88 L1713.89 1527.88 L1713.89 1509.43 M1712.66 1505.36 L1718.54 1505.36 L1718.54 1527.88 L1723.47 1527.88 L1723.47 1531.77 L1718.54 1531.77 L1718.54 1539.92 L1713.89 1539.92 L1713.89 1531.77 L1698.28 1531.77 L1698.28 1527.26 L1712.66 1505.36 Z\" fill=\"#000000\" fill-rule=\"evenodd\" fill-opacity=\"1\" /><path clip-path=\"url(#clip2400)\" d=\"M 0 0 M1738.54 1508.44 Q1734.93 1508.44 1733.1 1512 Q1731.29 1515.55 1731.29 1522.67 Q1731.29 1529.78 1733.1 1533.35 Q1734.93 1536.89 1738.54 1536.89 Q1742.17 1536.89 1743.98 1533.35 Q1745.81 1529.78 1745.81 1522.67 Q1745.81 1515.55 1743.98 1512 Q1742.17 1508.44 1738.54 1508.44 M1738.54 1504.73 Q1744.35 1504.73 1747.4 1509.34 Q1750.48 1513.92 1750.48 1522.67 Q1750.48 1531.4 1747.4 1536.01 Q1744.35 1540.59 1738.54 1540.59 Q1732.73 1540.59 1729.65 1536.01 Q1726.59 1531.4 1726.59 1522.67 Q1726.59 1513.92 1729.65 1509.34 Q1732.73 1504.73 1738.54 1504.73 Z\" fill=\"#000000\" fill-rule=\"evenodd\" fill-opacity=\"1\" /><path clip-path=\"url(#clip2400)\" d=\"M 0 0 M2079.24 1505.36 L2097.59 1505.36 L2097.59 1509.3 L2083.52 1509.3 L2083.52 1517.77 Q2084.54 1517.42 2085.56 1517.26 Q2086.57 1517.07 2087.59 1517.07 Q2093.38 1517.07 2096.76 1520.24 Q2100.14 1523.42 2100.14 1528.83 Q2100.14 1534.41 2096.67 1537.51 Q2093.19 1540.59 2086.88 1540.59 Q2084.7 1540.59 2082.43 1540.22 Q2080.19 1539.85 2077.78 1539.11 L2077.78 1534.41 Q2079.86 1535.54 2082.08 1536.1 Q2084.31 1536.66 2086.78 1536.66 Q2090.79 1536.66 2093.13 1534.55 Q2095.46 1532.44 2095.46 1528.83 Q2095.46 1525.22 2093.13 1523.11 Q2090.79 1521.01 2086.78 1521.01 Q2084.91 1521.01 2083.03 1521.42 Q2081.18 1521.84 2079.24 1522.72 L2079.24 1505.36 Z\" fill=\"#000000\" fill-rule=\"evenodd\" fill-opacity=\"1\" /><path clip-path=\"url(#clip2400)\" d=\"M 0 0 M2115.21 1508.44 Q2111.6 1508.44 2109.77 1512 Q2107.96 1515.55 2107.96 1522.67 Q2107.96 1529.78 2109.77 1533.35 Q2111.6 1536.89 2115.21 1536.89 Q2118.84 1536.89 2120.65 1533.35 Q2122.48 1529.78 2122.48 1522.67 Q2122.48 1515.55 2120.65 1512 Q2118.84 1508.44 2115.21 1508.44 M2115.21 1504.73 Q2121.02 1504.73 2124.07 1509.34 Q2127.15 1513.92 2127.15 1522.67 Q2127.15 1531.4 2124.07 1536.01 Q2121.02 1540.59 2115.21 1540.59 Q2109.4 1540.59 2106.32 1536.01 Q2103.26 1531.4 2103.26 1522.67 Q2103.26 1513.92 2106.32 1509.34 Q2109.4 1504.73 2115.21 1504.73 Z\" fill=\"#000000\" fill-rule=\"evenodd\" fill-opacity=\"1\" /><path clip-path=\"url(#clip2400)\" d=\"M 0 0 M152.668 1434.12 Q149.056 1434.12 147.228 1437.68 Q145.422 1441.23 145.422 1448.35 Q145.422 1455.46 147.228 1459.03 Q149.056 1462.57 152.668 1462.57 Q156.302 1462.57 158.107 1459.03 Q159.936 1455.46 159.936 1448.35 Q159.936 1441.23 158.107 1437.68 Q156.302 1434.12 152.668 1434.12 M152.668 1430.42 Q158.478 1430.42 161.533 1435.02 Q164.612 1439.6 164.612 1448.35 Q164.612 1457.08 161.533 1461.69 Q158.478 1466.27 152.668 1466.27 Q146.857 1466.27 143.779 1461.69 Q140.723 1457.08 140.723 1448.35 Q140.723 1439.6 143.779 1435.02 Q146.857 1430.42 152.668 1430.42 Z\" fill=\"#000000\" fill-rule=\"evenodd\" fill-opacity=\"1\" /><path clip-path=\"url(#clip2400)\" d=\"M 0 0 M89.6818 996.98 L108.038 996.98 L108.038 1000.92 L93.9642 1000.92 L93.9642 1009.39 Q94.9827 1009.04 96.0012 1008.88 Q97.0197 1008.69 98.0382 1008.69 Q103.825 1008.69 107.205 1011.86 Q110.584 1015.04 110.584 1020.45 Q110.584 1026.03 107.112 1029.13 Q103.64 1032.21 97.3206 1032.21 Q95.1447 1032.21 92.8762 1031.84 Q90.6309 1031.47 88.2235 1030.73 L88.2235 1026.03 Q90.3068 1027.17 92.529 1027.72 Q94.7512 1028.28 97.2281 1028.28 Q101.233 1028.28 103.571 1026.17 Q105.909 1024.06 105.909 1020.45 Q105.909 1016.84 103.571 1014.73 Q101.233 1012.63 97.2281 1012.63 Q95.3531 1012.63 93.4781 1013.04 Q91.6262 1013.46 89.6818 1014.34 L89.6818 996.98 Z\" fill=\"#000000\" fill-rule=\"evenodd\" fill-opacity=\"1\" /><path clip-path=\"url(#clip2400)\" d=\"M 0 0 M125.654 1000.06 Q122.043 1000.06 120.214 1003.62 Q118.408 1007.17 118.408 1014.29 Q118.408 1021.4 120.214 1024.97 Q122.043 1028.51 125.654 1028.51 Q129.288 1028.51 131.094 1024.97 Q132.922 1021.4 132.922 1014.29 Q132.922 1007.17 131.094 1003.62 Q129.288 1000.06 125.654 1000.06 M125.654 996.355 Q131.464 996.355 134.52 1000.96 Q137.598 1005.54 137.598 1014.29 Q137.598 1023.02 134.52 1027.63 Q131.464 1032.21 125.654 1032.21 Q119.844 1032.21 116.765 1027.63 Q113.709 1023.02 113.709 1014.29 Q113.709 1005.54 116.765 1000.96 Q119.844 996.355 125.654 996.355 Z\" fill=\"#000000\" fill-rule=\"evenodd\" fill-opacity=\"1\" /><path clip-path=\"url(#clip2400)\" d=\"M 0 0 M152.668 1000.06 Q149.056 1000.06 147.228 1003.62 Q145.422 1007.17 145.422 1014.29 Q145.422 1021.4 147.228 1024.97 Q149.056 1028.51 152.668 1028.51 Q156.302 1028.51 158.107 1024.97 Q159.936 1021.4 159.936 1014.29 Q159.936 1007.17 158.107 1003.62 Q156.302 1000.06 152.668 1000.06 M152.668 996.355 Q158.478 996.355 161.533 1000.96 Q164.612 1005.54 164.612 1014.29 Q164.612 1023.02 161.533 1027.63 Q158.478 1032.21 152.668 1032.21 Q146.857 1032.21 143.779 1027.63 Q140.723 1023.02 140.723 1014.29 Q140.723 1005.54 143.779 1000.96 Q146.857 996.355 152.668 996.355 Z\" fill=\"#000000\" fill-rule=\"evenodd\" fill-opacity=\"1\" /><path clip-path=\"url(#clip2400)\" d=\"M 0 0 M63.6634 593.545 L71.3023 593.545 L71.3023 567.179 L62.9921 568.846 L62.9921 564.587 L71.256 562.92 L75.9319 562.92 L75.9319 593.545 L83.5707 593.545 L83.5707 597.48 L63.6634 597.48 L63.6634 593.545 Z\" fill=\"#000000\" fill-rule=\"evenodd\" fill-opacity=\"1\" /><path clip-path=\"url(#clip2400)\" d=\"M 0 0 M98.6401 565.999 Q95.029 565.999 93.2003 569.564 Q91.3948 573.105 91.3948 580.235 Q91.3948 587.341 93.2003 590.906 Q95.029 594.448 98.6401 594.448 Q102.274 594.448 104.08 590.906 Q105.909 587.341 105.909 580.235 Q105.909 573.105 104.08 569.564 Q102.274 565.999 98.6401 565.999 M98.6401 562.295 Q104.45 562.295 107.506 566.902 Q110.584 571.485 110.584 580.235 Q110.584 588.962 107.506 593.568 Q104.45 598.152 98.6401 598.152 Q92.8299 598.152 89.7512 593.568 Q86.6957 588.962 86.6957 580.235 Q86.6957 571.485 89.7512 566.902 Q92.8299 562.295 98.6401 562.295 Z\" fill=\"#000000\" fill-rule=\"evenodd\" fill-opacity=\"1\" /><path clip-path=\"url(#clip2400)\" d=\"M 0 0 M125.654 565.999 Q122.043 565.999 120.214 569.564 Q118.408 573.105 118.408 580.235 Q118.408 587.341 120.214 590.906 Q122.043 594.448 125.654 594.448 Q129.288 594.448 131.094 590.906 Q132.922 587.341 132.922 580.235 Q132.922 573.105 131.094 569.564 Q129.288 565.999 125.654 565.999 M125.654 562.295 Q131.464 562.295 134.52 566.902 Q137.598 571.485 137.598 580.235 Q137.598 588.962 134.52 593.568 Q131.464 598.152 125.654 598.152 Q119.844 598.152 116.765 593.568 Q113.709 588.962 113.709 580.235 Q113.709 571.485 116.765 566.902 Q119.844 562.295 125.654 562.295 Z\" fill=\"#000000\" fill-rule=\"evenodd\" fill-opacity=\"1\" /><path clip-path=\"url(#clip2400)\" d=\"M 0 0 M152.668 565.999 Q149.056 565.999 147.228 569.564 Q145.422 573.105 145.422 580.235 Q145.422 587.341 147.228 590.906 Q149.056 594.448 152.668 594.448 Q156.302 594.448 158.107 590.906 Q159.936 587.341 159.936 580.235 Q159.936 573.105 158.107 569.564 Q156.302 565.999 152.668 565.999 M152.668 562.295 Q158.478 562.295 161.533 566.902 Q164.612 571.485 164.612 580.235 Q164.612 588.962 161.533 593.568 Q158.478 598.152 152.668 598.152 Q146.857 598.152 143.779 593.568 Q140.723 588.962 140.723 580.235 Q140.723 571.485 143.779 566.902 Q146.857 562.295 152.668 562.295 Z\" fill=\"#000000\" fill-rule=\"evenodd\" fill-opacity=\"1\" /><path clip-path=\"url(#clip2400)\" d=\"M 0 0 M64.6588 159.485 L72.2976 159.485 L72.2976 133.12 L63.9875 134.786 L63.9875 130.527 L72.2513 128.86 L76.9272 128.86 L76.9272 159.485 L84.5661 159.485 L84.5661 163.42 L64.6588 163.42 L64.6588 159.485 Z\" fill=\"#000000\" fill-rule=\"evenodd\" fill-opacity=\"1\" /><path clip-path=\"url(#clip2400)\" d=\"M 0 0 M89.6818 128.86 L108.038 128.86 L108.038 132.795 L93.9642 132.795 L93.9642 141.268 Q94.9827 140.92 96.0012 140.758 Q97.0197 140.573 98.0382 140.573 Q103.825 140.573 107.205 143.744 Q110.584 146.916 110.584 152.332 Q110.584 157.911 107.112 161.013 Q103.64 164.092 97.3206 164.092 Q95.1447 164.092 92.8762 163.721 Q90.6309 163.351 88.2235 162.61 L88.2235 157.911 Q90.3068 159.045 92.529 159.601 Q94.7512 160.156 97.2281 160.156 Q101.233 160.156 103.571 158.05 Q105.909 155.943 105.909 152.332 Q105.909 148.721 103.571 146.615 Q101.233 144.508 97.2281 144.508 Q95.3531 144.508 93.4781 144.925 Q91.6262 145.342 89.6818 146.221 L89.6818 128.86 Z\" fill=\"#000000\" fill-rule=\"evenodd\" fill-opacity=\"1\" /><path clip-path=\"url(#clip2400)\" d=\"M 0 0 M125.654 131.939 Q122.043 131.939 120.214 135.504 Q118.408 139.045 118.408 146.175 Q118.408 153.281 120.214 156.846 Q122.043 160.388 125.654 160.388 Q129.288 160.388 131.094 156.846 Q132.922 153.281 132.922 146.175 Q132.922 139.045 131.094 135.504 Q129.288 131.939 125.654 131.939 M125.654 128.235 Q131.464 128.235 134.52 132.842 Q137.598 137.425 137.598 146.175 Q137.598 154.902 134.52 159.508 Q131.464 164.092 125.654 164.092 Q119.844 164.092 116.765 159.508 Q113.709 154.902 113.709 146.175 Q113.709 137.425 116.765 132.842 Q119.844 128.235 125.654 128.235 Z\" fill=\"#000000\" fill-rule=\"evenodd\" fill-opacity=\"1\" /><path clip-path=\"url(#clip2400)\" d=\"M 0 0 M152.668 131.939 Q149.056 131.939 147.228 135.504 Q145.422 139.045 145.422 146.175 Q145.422 153.281 147.228 156.846 Q149.056 160.388 152.668 160.388 Q156.302 160.388 158.107 156.846 Q159.936 153.281 159.936 146.175 Q159.936 139.045 158.107 135.504 Q156.302 131.939 152.668 131.939 M152.668 128.235 Q158.478 128.235 161.533 132.842 Q164.612 137.425 164.612 146.175 Q164.612 154.902 161.533 159.508 Q158.478 164.092 152.668 164.092 Q146.857 164.092 143.779 159.508 Q140.723 154.902 140.723 146.175 Q140.723 137.425 143.779 132.842 Q146.857 128.235 152.668 128.235 Z\" fill=\"#000000\" fill-rule=\"evenodd\" fill-opacity=\"1\" /><polyline clip-path=\"url(#clip2402)\" style=\"stroke:#009af9; stroke-width:4; stroke-opacity:1; fill:none\" points=\"\n",
       "  249.861,1436.17 287.67,1432.69 325.478,1443.11 363.286,1445.72 401.094,1445.72 438.903,1444.85 476.711,1444.85 514.519,1437.9 552.327,1439.64 590.136,1428.35 \n",
       "  627.944,1439.64 665.752,1435.3 703.56,1445.72 741.368,1421.41 779.177,1422.28 816.985,1433.56 854.793,1433.56 892.601,1377.13 930.41,1419.67 968.218,1371.93 \n",
       "  1006.03,1392.76 1043.83,1319.84 1081.64,1351.09 1119.45,1343.28 1157.26,1318.1 1195.07,1346.75 1232.88,1249.52 1270.68,1266.01 1308.49,1285.98 1346.3,1256.47 \n",
       "  1384.11,1142.74 1421.92,1147.95 1459.73,1243.44 1497.53,1200.91 1535.34,1344.15 1573.15,1164.44 1610.96,969.118 1648.77,1043.78 1686.57,969.118 1724.38,1074.16 \n",
       "  1762.19,772.923 1800,1109.75 1837.81,744.275 1875.62,1066.35 1913.42,995.161 1951.23,816.329 1989.04,930.053 2026.85,942.206 2064.66,573.255 2102.47,762.505 \n",
       "  2140.27,859.735 2178.08,87.9763 2215.89,594.09 2253.7,377.928 2291.51,392.686 \n",
       "  \"/>\n",
       "<polyline clip-path=\"url(#clip2402)\" style=\"stroke:#e26f46; stroke-width:4; stroke-opacity:1; fill:none\" points=\"\n",
       "  249.861,1438.31 287.67,1439.18 325.478,1440.54 363.286,1441.83 401.094,1442.54 438.903,1442.38 476.711,1441.4 514.519,1439.95 552.327,1438.43 590.136,1437.09 \n",
       "  627.944,1435.86 665.752,1434.42 703.56,1432.4 741.368,1429.51 779.177,1425.47 816.985,1420.01 854.793,1412.85 892.601,1403.9 930.41,1393.31 968.218,1381.51 \n",
       "  1006.03,1369.18 1043.83,1356.96 1081.64,1345.04 1119.45,1332.93 1157.26,1319.73 1195.07,1304.78 1232.88,1287.91 1270.68,1269.44 1308.49,1250.39 1346.3,1232.84 \n",
       "  1384.11,1219.37 1421.92,1210.8 1459.73,1203.89 1497.53,1191.87 1535.34,1168.58 1573.15,1133.02 1610.96,1090.18 1648.77,1047.6 1686.57,1011.03 1724.38,982.83 \n",
       "  1762.19,962.942 1800,949.978 1837.81,941.088 1875.62,931.735 1913.42,916.665 1951.23,891.615 1989.04,854.35 2026.85,804.507 2064.66,743.163 2102.47,673.279 \n",
       "  2140.27,600.656 2178.08,533.547 2215.89,479.919 2253.7,444.273 2291.51,427.035 \n",
       "  \"/>\n",
       "<path clip-path=\"url(#clip2400)\" d=\"\n",
       "M1989.74 312.204 L2280.76 312.204 L2280.76 130.764 L1989.74 130.764  Z\n",
       "  \" fill=\"#ffffff\" fill-rule=\"evenodd\" fill-opacity=\"1\"/>\n",
       "<polyline clip-path=\"url(#clip2400)\" style=\"stroke:#000000; stroke-width:4; stroke-opacity:1; fill:none\" points=\"\n",
       "  1989.74,312.204 2280.76,312.204 2280.76,130.764 1989.74,130.764 1989.74,312.204 \n",
       "  \"/>\n",
       "<polyline clip-path=\"url(#clip2400)\" style=\"stroke:#009af9; stroke-width:4; stroke-opacity:1; fill:none\" points=\"\n",
       "  2013.74,191.244 2157.74,191.244 \n",
       "  \"/>\n",
       "<path clip-path=\"url(#clip2400)\" d=\"M 0 0 M2195.58 210.931 Q2193.77 215.561 2192.06 216.973 Q2190.35 218.385 2187.48 218.385 L2184.08 218.385 L2184.08 214.82 L2186.58 214.82 Q2188.33 214.82 2189.31 213.987 Q2190.28 213.154 2191.46 210.052 L2192.22 208.107 L2181.74 182.598 L2186.25 182.598 L2194.35 202.876 L2202.46 182.598 L2206.97 182.598 L2195.58 210.931 Z\" fill=\"#000000\" fill-rule=\"evenodd\" fill-opacity=\"1\" /><path clip-path=\"url(#clip2400)\" d=\"M 0 0 M2212.85 204.589 L2220.49 204.589 L2220.49 178.223 L2212.18 179.89 L2212.18 175.631 L2220.44 173.964 L2225.12 173.964 L2225.12 204.589 L2232.76 204.589 L2232.76 208.524 L2212.85 208.524 L2212.85 204.589 Z\" fill=\"#000000\" fill-rule=\"evenodd\" fill-opacity=\"1\" /><polyline clip-path=\"url(#clip2400)\" style=\"stroke:#e26f46; stroke-width:4; stroke-opacity:1; fill:none\" points=\"\n",
       "  2013.74,251.724 2157.74,251.724 \n",
       "  \"/>\n",
       "<path clip-path=\"url(#clip2400)\" d=\"M 0 0 M2195.58 271.411 Q2193.77 276.041 2192.06 277.453 Q2190.35 278.865 2187.48 278.865 L2184.08 278.865 L2184.08 275.3 L2186.58 275.3 Q2188.33 275.3 2189.31 274.467 Q2190.28 273.634 2191.46 270.532 L2192.22 268.587 L2181.74 243.078 L2186.25 243.078 L2194.35 263.356 L2202.46 243.078 L2206.97 243.078 L2195.58 271.411 Z\" fill=\"#000000\" fill-rule=\"evenodd\" fill-opacity=\"1\" /><path clip-path=\"url(#clip2400)\" d=\"M 0 0 M2216.07 265.069 L2232.39 265.069 L2232.39 269.004 L2210.44 269.004 L2210.44 265.069 Q2213.1 262.314 2217.69 257.685 Q2222.29 253.032 2223.47 251.689 Q2225.72 249.166 2226.6 247.43 Q2227.5 245.671 2227.5 243.981 Q2227.5 241.226 2225.56 239.49 Q2223.64 237.754 2220.53 237.754 Q2218.33 237.754 2215.88 238.518 Q2213.45 239.282 2210.67 240.833 L2210.67 236.111 Q2213.5 234.976 2215.95 234.398 Q2218.4 233.819 2220.44 233.819 Q2225.81 233.819 2229.01 236.504 Q2232.2 239.189 2232.2 243.68 Q2232.2 245.81 2231.39 247.731 Q2230.6 249.629 2228.5 252.222 Q2227.92 252.893 2224.82 256.111 Q2221.71 259.305 2216.07 265.069 Z\" fill=\"#000000\" fill-rule=\"evenodd\" fill-opacity=\"1\" /></svg>\n"
      ]
     },
     "execution_count": 3,
     "metadata": {},
     "output_type": "execute_result"
    }
   ],
   "source": [
    "filter(x) = [\n",
    "    [0.75*x[1] + 0.25*x[2]];\n",
    "    [0.25 * x[i-1] + 0.5*x[i] + 0.25*x[i+1] for i in 2:(length(x) - 1)];\n",
    "    [0.25*x[end-1] + 0.75*x[end]]\n",
    "]\n",
    "filter(x,n) = if n === 0 x else filter(filter(x),n-1) end\n",
    "\n",
    "using StatsPlots\n",
    "plot([dailies_for_state(\"tn\"), filter(dailies_for_state(\"tn\"),10)])"
   ]
  },
  {
   "cell_type": "markdown",
   "metadata": {},
   "source": [
    "## Making a \"true\" filter\n",
    "\n",
    "Applying a short gaussian repeatedly gives a nice enough filter for most purposes. However, it has one flaw - it needs to make an assumption about how the values progress beyond the ends of the array, and the consequences of this decision seep into the ends of the filtered output such that you have to discard values close to the ends.\n",
    "\n",
    "Usually, the choice made is to keep the values fixed at the end and extend them. This is unacceptable for our purposes, because it will skew the Rt values downwards near the ends since the daily rate of cases will be seen to be starting to become constant (and hence Rt -> 0) near the ends. \n",
    "\n",
    "What we really want is a semblance of Rt being held constant beyond the ends. To get this behaviour, instead of filtering the daily cases, we can filter the daily log ratio of cases and then back calculate the series from the smoothed value. With this approach, the ratio will be seen to held constant beyond the edges, meaning we'll get closer to a trend projection for Rt.\n",
    "\n",
    "One option we have at hand is of course to discard values near the edge and apply usual filtering of the daily cases. However, that doesn't help us since we will only have Rt values for 5 days ago .. which isn't quite \"real time\". Filtering the log ratio series is better from that perspective."
   ]
  },
  {
   "cell_type": "code",
   "execution_count": 90,
   "metadata": {},
   "outputs": [
    {
     "data": {
      "image/svg+xml": [
       "<?xml version=\"1.0\" encoding=\"utf-8\"?>\n",
       "<svg xmlns=\"http://www.w3.org/2000/svg\" xmlns:xlink=\"http://www.w3.org/1999/xlink\" width=\"600\" height=\"400\" viewBox=\"0 0 2400 1600\">\n",
       "<defs>\n",
       "  <clipPath id=\"clip2000\">\n",
       "    <rect x=\"0\" y=\"0\" width=\"2400\" height=\"1600\"/>\n",
       "  </clipPath>\n",
       "</defs>\n",
       "<path clip-path=\"url(#clip2000)\" d=\"\n",
       "M0 1600 L2400 1600 L2400 0 L0 0  Z\n",
       "  \" fill=\"#ffffff\" fill-rule=\"evenodd\" fill-opacity=\"1\"/>\n",
       "<defs>\n",
       "  <clipPath id=\"clip2001\">\n",
       "    <rect x=\"480\" y=\"0\" width=\"1681\" height=\"1600\"/>\n",
       "  </clipPath>\n",
       "</defs>\n",
       "<path clip-path=\"url(#clip2000)\" d=\"\n",
       "M166.205 1486.45 L2352.76 1486.45 L2352.76 47.2441 L166.205 47.2441  Z\n",
       "  \" fill=\"#ffffff\" fill-rule=\"evenodd\" fill-opacity=\"1\"/>\n",
       "<defs>\n",
       "  <clipPath id=\"clip2002\">\n",
       "    <rect x=\"166\" y=\"47\" width=\"2188\" height=\"1440\"/>\n",
       "  </clipPath>\n",
       "</defs>\n",
       "<polyline clip-path=\"url(#clip2002)\" style=\"stroke:#000000; stroke-width:2; stroke-opacity:0.1; fill:none\" points=\"\n",
       "  189.888,1486.45 189.888,47.2441 \n",
       "  \"/>\n",
       "<polyline clip-path=\"url(#clip2002)\" style=\"stroke:#000000; stroke-width:2; stroke-opacity:0.1; fill:none\" points=\"\n",
       "  571.886,1486.45 571.886,47.2441 \n",
       "  \"/>\n",
       "<polyline clip-path=\"url(#clip2002)\" style=\"stroke:#000000; stroke-width:2; stroke-opacity:0.1; fill:none\" points=\"\n",
       "  953.883,1486.45 953.883,47.2441 \n",
       "  \"/>\n",
       "<polyline clip-path=\"url(#clip2002)\" style=\"stroke:#000000; stroke-width:2; stroke-opacity:0.1; fill:none\" points=\"\n",
       "  1335.88,1486.45 1335.88,47.2441 \n",
       "  \"/>\n",
       "<polyline clip-path=\"url(#clip2002)\" style=\"stroke:#000000; stroke-width:2; stroke-opacity:0.1; fill:none\" points=\"\n",
       "  1717.88,1486.45 1717.88,47.2441 \n",
       "  \"/>\n",
       "<polyline clip-path=\"url(#clip2002)\" style=\"stroke:#000000; stroke-width:2; stroke-opacity:0.1; fill:none\" points=\"\n",
       "  2099.87,1486.45 2099.87,47.2441 \n",
       "  \"/>\n",
       "<polyline clip-path=\"url(#clip2002)\" style=\"stroke:#000000; stroke-width:2; stroke-opacity:0.1; fill:none\" points=\"\n",
       "  166.205,1445.72 2352.76,1445.72 \n",
       "  \"/>\n",
       "<polyline clip-path=\"url(#clip2002)\" style=\"stroke:#000000; stroke-width:2; stroke-opacity:0.1; fill:none\" points=\"\n",
       "  166.205,1093.51 2352.76,1093.51 \n",
       "  \"/>\n",
       "<polyline clip-path=\"url(#clip2002)\" style=\"stroke:#000000; stroke-width:2; stroke-opacity:0.1; fill:none\" points=\"\n",
       "  166.205,741.311 2352.76,741.311 \n",
       "  \"/>\n",
       "<polyline clip-path=\"url(#clip2002)\" style=\"stroke:#000000; stroke-width:2; stroke-opacity:0.1; fill:none\" points=\"\n",
       "  166.205,389.109 2352.76,389.109 \n",
       "  \"/>\n",
       "<polyline clip-path=\"url(#clip2000)\" style=\"stroke:#000000; stroke-width:4; stroke-opacity:1; fill:none\" points=\"\n",
       "  166.205,1486.45 2352.76,1486.45 \n",
       "  \"/>\n",
       "<polyline clip-path=\"url(#clip2000)\" style=\"stroke:#000000; stroke-width:4; stroke-opacity:1; fill:none\" points=\"\n",
       "  166.205,1486.45 166.205,47.2441 \n",
       "  \"/>\n",
       "<polyline clip-path=\"url(#clip2000)\" style=\"stroke:#000000; stroke-width:4; stroke-opacity:1; fill:none\" points=\"\n",
       "  189.888,1486.45 189.888,1469.18 \n",
       "  \"/>\n",
       "<polyline clip-path=\"url(#clip2000)\" style=\"stroke:#000000; stroke-width:4; stroke-opacity:1; fill:none\" points=\"\n",
       "  571.886,1486.45 571.886,1469.18 \n",
       "  \"/>\n",
       "<polyline clip-path=\"url(#clip2000)\" style=\"stroke:#000000; stroke-width:4; stroke-opacity:1; fill:none\" points=\"\n",
       "  953.883,1486.45 953.883,1469.18 \n",
       "  \"/>\n",
       "<polyline clip-path=\"url(#clip2000)\" style=\"stroke:#000000; stroke-width:4; stroke-opacity:1; fill:none\" points=\"\n",
       "  1335.88,1486.45 1335.88,1469.18 \n",
       "  \"/>\n",
       "<polyline clip-path=\"url(#clip2000)\" style=\"stroke:#000000; stroke-width:4; stroke-opacity:1; fill:none\" points=\"\n",
       "  1717.88,1486.45 1717.88,1469.18 \n",
       "  \"/>\n",
       "<polyline clip-path=\"url(#clip2000)\" style=\"stroke:#000000; stroke-width:4; stroke-opacity:1; fill:none\" points=\"\n",
       "  2099.87,1486.45 2099.87,1469.18 \n",
       "  \"/>\n",
       "<polyline clip-path=\"url(#clip2000)\" style=\"stroke:#000000; stroke-width:4; stroke-opacity:1; fill:none\" points=\"\n",
       "  166.205,1445.72 192.443,1445.72 \n",
       "  \"/>\n",
       "<polyline clip-path=\"url(#clip2000)\" style=\"stroke:#000000; stroke-width:4; stroke-opacity:1; fill:none\" points=\"\n",
       "  166.205,1093.51 192.443,1093.51 \n",
       "  \"/>\n",
       "<polyline clip-path=\"url(#clip2000)\" style=\"stroke:#000000; stroke-width:4; stroke-opacity:1; fill:none\" points=\"\n",
       "  166.205,741.311 192.443,741.311 \n",
       "  \"/>\n",
       "<polyline clip-path=\"url(#clip2000)\" style=\"stroke:#000000; stroke-width:4; stroke-opacity:1; fill:none\" points=\"\n",
       "  166.205,389.109 192.443,389.109 \n",
       "  \"/>\n",
       "<path clip-path=\"url(#clip2000)\" d=\"M 0 0 M189.888 1508.44 Q186.277 1508.44 184.449 1512 Q182.643 1515.55 182.643 1522.67 Q182.643 1529.78 184.449 1533.35 Q186.277 1536.89 189.888 1536.89 Q193.523 1536.89 195.328 1533.35 Q197.157 1529.78 197.157 1522.67 Q197.157 1515.55 195.328 1512 Q193.523 1508.44 189.888 1508.44 M189.888 1504.73 Q195.699 1504.73 198.754 1509.34 Q201.833 1513.92 201.833 1522.67 Q201.833 1531.4 198.754 1536.01 Q195.699 1540.59 189.888 1540.59 Q184.078 1540.59 181 1536.01 Q177.944 1531.4 177.944 1522.67 Q177.944 1513.92 181 1509.34 Q184.078 1504.73 189.888 1504.73 Z\" fill=\"#000000\" fill-rule=\"evenodd\" fill-opacity=\"1\" /><path clip-path=\"url(#clip2000)\" d=\"M 0 0 M548.761 1535.98 L556.4 1535.98 L556.4 1509.62 L548.089 1511.29 L548.089 1507.03 L556.353 1505.36 L561.029 1505.36 L561.029 1535.98 L568.668 1535.98 L568.668 1539.92 L548.761 1539.92 L548.761 1535.98 Z\" fill=\"#000000\" fill-rule=\"evenodd\" fill-opacity=\"1\" /><path clip-path=\"url(#clip2000)\" d=\"M 0 0 M583.737 1508.44 Q580.126 1508.44 578.298 1512 Q576.492 1515.55 576.492 1522.67 Q576.492 1529.78 578.298 1533.35 Q580.126 1536.89 583.737 1536.89 Q587.372 1536.89 589.177 1533.35 Q591.006 1529.78 591.006 1522.67 Q591.006 1515.55 589.177 1512 Q587.372 1508.44 583.737 1508.44 M583.737 1504.73 Q589.547 1504.73 592.603 1509.34 Q595.682 1513.92 595.682 1522.67 Q595.682 1531.4 592.603 1536.01 Q589.547 1540.59 583.737 1540.59 Q577.927 1540.59 574.849 1536.01 Q571.793 1531.4 571.793 1522.67 Q571.793 1513.92 574.849 1509.34 Q577.927 1504.73 583.737 1504.73 Z\" fill=\"#000000\" fill-rule=\"evenodd\" fill-opacity=\"1\" /><path clip-path=\"url(#clip2000)\" d=\"M 0 0 M935.029 1535.98 L951.348 1535.98 L951.348 1539.92 L929.404 1539.92 L929.404 1535.98 Q932.066 1533.23 936.649 1528.6 Q941.255 1523.95 942.436 1522.61 Q944.681 1520.08 945.561 1518.35 Q946.464 1516.59 946.464 1514.9 Q946.464 1512.14 944.519 1510.41 Q942.598 1508.67 939.496 1508.67 Q937.297 1508.67 934.843 1509.43 Q932.413 1510.2 929.635 1511.75 L929.635 1507.03 Q932.459 1505.89 934.913 1505.31 Q937.367 1504.73 939.404 1504.73 Q944.774 1504.73 947.968 1507.42 Q951.163 1510.11 951.163 1514.6 Q951.163 1516.73 950.353 1518.65 Q949.566 1520.54 947.459 1523.14 Q946.88 1523.81 943.779 1527.03 Q940.677 1530.22 935.029 1535.98 Z\" fill=\"#000000\" fill-rule=\"evenodd\" fill-opacity=\"1\" /><path clip-path=\"url(#clip2000)\" d=\"M 0 0 M966.417 1508.44 Q962.806 1508.44 960.977 1512 Q959.172 1515.55 959.172 1522.67 Q959.172 1529.78 960.977 1533.35 Q962.806 1536.89 966.417 1536.89 Q970.052 1536.89 971.857 1533.35 Q973.686 1529.78 973.686 1522.67 Q973.686 1515.55 971.857 1512 Q970.052 1508.44 966.417 1508.44 M966.417 1504.73 Q972.227 1504.73 975.283 1509.34 Q978.362 1513.92 978.362 1522.67 Q978.362 1531.4 975.283 1536.01 Q972.227 1540.59 966.417 1540.59 Q960.607 1540.59 957.528 1536.01 Q954.473 1531.4 954.473 1522.67 Q954.473 1513.92 957.528 1509.34 Q960.607 1504.73 966.417 1504.73 Z\" fill=\"#000000\" fill-rule=\"evenodd\" fill-opacity=\"1\" /><path clip-path=\"url(#clip2000)\" d=\"M 0 0 M1326.62 1521.29 Q1329.98 1522 1331.85 1524.27 Q1333.75 1526.54 1333.75 1529.87 Q1333.75 1534.99 1330.23 1537.79 Q1326.71 1540.59 1320.23 1540.59 Q1318.06 1540.59 1315.74 1540.15 Q1313.45 1539.73 1311 1538.88 L1311 1534.36 Q1312.94 1535.5 1315.25 1536.08 Q1317.57 1536.66 1320.09 1536.66 Q1324.49 1536.66 1326.78 1534.92 Q1329.1 1533.18 1329.1 1529.87 Q1329.1 1526.82 1326.94 1525.11 Q1324.81 1523.37 1321 1523.37 L1316.97 1523.37 L1316.97 1519.53 L1321.18 1519.53 Q1324.63 1519.53 1326.46 1518.16 Q1328.29 1516.77 1328.29 1514.18 Q1328.29 1511.52 1326.39 1510.11 Q1324.51 1508.67 1321 1508.67 Q1319.07 1508.67 1316.88 1509.09 Q1314.68 1509.5 1312.04 1510.38 L1312.04 1506.22 Q1314.7 1505.48 1317.01 1505.11 Q1319.35 1504.73 1321.41 1504.73 Q1326.74 1504.73 1329.84 1507.17 Q1332.94 1509.57 1332.94 1513.69 Q1332.94 1516.56 1331.3 1518.55 Q1329.65 1520.52 1326.62 1521.29 Z\" fill=\"#000000\" fill-rule=\"evenodd\" fill-opacity=\"1\" /><path clip-path=\"url(#clip2000)\" d=\"M 0 0 M1348.82 1508.44 Q1345.21 1508.44 1343.38 1512 Q1341.57 1515.55 1341.57 1522.67 Q1341.57 1529.78 1343.38 1533.35 Q1345.21 1536.89 1348.82 1536.89 Q1352.45 1536.89 1354.26 1533.35 Q1356.09 1529.78 1356.09 1522.67 Q1356.09 1515.55 1354.26 1512 Q1352.45 1508.44 1348.82 1508.44 M1348.82 1504.73 Q1354.63 1504.73 1357.69 1509.34 Q1360.76 1513.92 1360.76 1522.67 Q1360.76 1531.4 1357.69 1536.01 Q1354.63 1540.59 1348.82 1540.59 Q1343.01 1540.59 1339.93 1536.01 Q1336.88 1531.4 1336.88 1522.67 Q1336.88 1513.92 1339.93 1509.34 Q1343.01 1504.73 1348.82 1504.73 Z\" fill=\"#000000\" fill-rule=\"evenodd\" fill-opacity=\"1\" /><path clip-path=\"url(#clip2000)\" d=\"M 0 0 M1707.38 1509.43 L1695.57 1527.88 L1707.38 1527.88 L1707.38 1509.43 M1706.15 1505.36 L1712.03 1505.36 L1712.03 1527.88 L1716.96 1527.88 L1716.96 1531.77 L1712.03 1531.77 L1712.03 1539.92 L1707.38 1539.92 L1707.38 1531.77 L1691.78 1531.77 L1691.78 1527.26 L1706.15 1505.36 Z\" fill=\"#000000\" fill-rule=\"evenodd\" fill-opacity=\"1\" /><path clip-path=\"url(#clip2000)\" d=\"M 0 0 M1732.03 1508.44 Q1728.42 1508.44 1726.59 1512 Q1724.79 1515.55 1724.79 1522.67 Q1724.79 1529.78 1726.59 1533.35 Q1728.42 1536.89 1732.03 1536.89 Q1735.67 1536.89 1737.47 1533.35 Q1739.3 1529.78 1739.3 1522.67 Q1739.3 1515.55 1737.47 1512 Q1735.67 1508.44 1732.03 1508.44 M1732.03 1504.73 Q1737.84 1504.73 1740.9 1509.34 Q1743.98 1513.92 1743.98 1522.67 Q1743.98 1531.4 1740.9 1536.01 Q1737.84 1540.59 1732.03 1540.59 Q1726.22 1540.59 1723.14 1536.01 Q1720.09 1531.4 1720.09 1522.67 Q1720.09 1513.92 1723.14 1509.34 Q1726.22 1504.73 1732.03 1504.73 Z\" fill=\"#000000\" fill-rule=\"evenodd\" fill-opacity=\"1\" /><path clip-path=\"url(#clip2000)\" d=\"M 0 0 M2076.64 1505.36 L2095 1505.36 L2095 1509.3 L2080.93 1509.3 L2080.93 1517.77 Q2081.95 1517.42 2082.96 1517.26 Q2083.98 1517.07 2085 1517.07 Q2090.79 1517.07 2094.17 1520.24 Q2097.55 1523.42 2097.55 1528.83 Q2097.55 1534.41 2094.08 1537.51 Q2090.6 1540.59 2084.28 1540.59 Q2082.11 1540.59 2079.84 1540.22 Q2077.59 1539.85 2075.19 1539.11 L2075.19 1534.41 Q2077.27 1535.54 2079.49 1536.1 Q2081.71 1536.66 2084.19 1536.66 Q2088.2 1536.66 2090.53 1534.55 Q2092.87 1532.44 2092.87 1528.83 Q2092.87 1525.22 2090.53 1523.11 Q2088.2 1521.01 2084.19 1521.01 Q2082.32 1521.01 2080.44 1521.42 Q2078.59 1521.84 2076.64 1522.72 L2076.64 1505.36 Z\" fill=\"#000000\" fill-rule=\"evenodd\" fill-opacity=\"1\" /><path clip-path=\"url(#clip2000)\" d=\"M 0 0 M2112.62 1508.44 Q2109.01 1508.44 2107.18 1512 Q2105.37 1515.55 2105.37 1522.67 Q2105.37 1529.78 2107.18 1533.35 Q2109.01 1536.89 2112.62 1536.89 Q2116.25 1536.89 2118.06 1533.35 Q2119.89 1529.78 2119.89 1522.67 Q2119.89 1515.55 2118.06 1512 Q2116.25 1508.44 2112.62 1508.44 M2112.62 1504.73 Q2118.43 1504.73 2121.48 1509.34 Q2124.56 1513.92 2124.56 1522.67 Q2124.56 1531.4 2121.48 1536.01 Q2118.43 1540.59 2112.62 1540.59 Q2106.81 1540.59 2103.73 1536.01 Q2100.67 1531.4 2100.67 1522.67 Q2100.67 1513.92 2103.73 1509.34 Q2106.81 1504.73 2112.62 1504.73 Z\" fill=\"#000000\" fill-rule=\"evenodd\" fill-opacity=\"1\" /><path clip-path=\"url(#clip2000)\" d=\"M 0 0 M130.26 1431.51 Q126.649 1431.51 124.82 1435.08 Q123.015 1438.62 123.015 1445.75 Q123.015 1452.86 124.82 1456.42 Q126.649 1459.96 130.26 1459.96 Q133.895 1459.96 135.7 1456.42 Q137.529 1452.86 137.529 1445.75 Q137.529 1438.62 135.7 1435.08 Q133.895 1431.51 130.26 1431.51 M130.26 1427.81 Q136.07 1427.81 139.126 1432.42 Q142.205 1437 142.205 1445.75 Q142.205 1454.48 139.126 1459.08 Q136.07 1463.67 130.26 1463.67 Q124.45 1463.67 121.371 1459.08 Q118.316 1454.48 118.316 1445.75 Q118.316 1437 121.371 1432.42 Q124.45 1427.81 130.26 1427.81 Z\" fill=\"#000000\" fill-rule=\"evenodd\" fill-opacity=\"1\" /><path clip-path=\"url(#clip2000)\" d=\"M 0 0 M71.8578 1106.86 L88.1772 1106.86 L88.1772 1110.79 L66.2328 1110.79 L66.2328 1106.86 Q68.8949 1104.1 73.4782 1099.47 Q78.0846 1094.82 79.2652 1093.48 Q81.5105 1090.96 82.3902 1089.22 Q83.2929 1087.46 83.2929 1085.77 Q83.2929 1083.02 81.3485 1081.28 Q79.4272 1079.54 76.3254 1079.54 Q74.1263 1079.54 71.6726 1080.31 Q69.2421 1081.07 66.4643 1082.62 L66.4643 1077.9 Q69.2884 1076.77 71.7421 1076.19 Q74.1958 1075.61 76.2328 1075.61 Q81.6031 1075.61 84.7976 1078.29 Q87.992 1080.98 87.992 1085.47 Q87.992 1087.6 87.1818 1089.52 Q86.3948 1091.42 84.2883 1094.01 Q83.7096 1094.68 80.6078 1097.9 Q77.5059 1101.09 71.8578 1106.86 Z\" fill=\"#000000\" fill-rule=\"evenodd\" fill-opacity=\"1\" /><path clip-path=\"url(#clip2000)\" d=\"M 0 0 M103.247 1079.31 Q99.6354 1079.31 97.8068 1082.88 Q96.0012 1086.42 96.0012 1093.55 Q96.0012 1100.65 97.8068 1104.22 Q99.6354 1107.76 103.247 1107.76 Q106.881 1107.76 108.686 1104.22 Q110.515 1100.65 110.515 1093.55 Q110.515 1086.42 108.686 1082.88 Q106.881 1079.31 103.247 1079.31 M103.247 1075.61 Q109.057 1075.61 112.112 1080.21 Q115.191 1084.8 115.191 1093.55 Q115.191 1102.28 112.112 1106.88 Q109.057 1111.46 103.247 1111.46 Q97.4364 1111.46 94.3577 1106.88 Q91.3022 1102.28 91.3022 1093.55 Q91.3022 1084.8 94.3577 1080.21 Q97.4364 1075.61 103.247 1075.61 Z\" fill=\"#000000\" fill-rule=\"evenodd\" fill-opacity=\"1\" /><path clip-path=\"url(#clip2000)\" d=\"M 0 0 M130.26 1079.31 Q126.649 1079.31 124.82 1082.88 Q123.015 1086.42 123.015 1093.55 Q123.015 1100.65 124.82 1104.22 Q126.649 1107.76 130.26 1107.76 Q133.895 1107.76 135.7 1104.22 Q137.529 1100.65 137.529 1093.55 Q137.529 1086.42 135.7 1082.88 Q133.895 1079.31 130.26 1079.31 M130.26 1075.61 Q136.07 1075.61 139.126 1080.21 Q142.205 1084.8 142.205 1093.55 Q142.205 1102.28 139.126 1106.88 Q136.07 1111.46 130.26 1111.46 Q124.45 1111.46 121.371 1106.88 Q118.316 1102.28 118.316 1093.55 Q118.316 1084.8 121.371 1080.21 Q124.45 1075.61 130.26 1075.61 Z\" fill=\"#000000\" fill-rule=\"evenodd\" fill-opacity=\"1\" /><path clip-path=\"url(#clip2000)\" d=\"M 0 0 M78.5939 728.105 L66.7884 746.554 L78.5939 746.554 L78.5939 728.105 M77.367 724.031 L83.2466 724.031 L83.2466 746.554 L88.1772 746.554 L88.1772 750.443 L83.2466 750.443 L83.2466 758.591 L78.5939 758.591 L78.5939 750.443 L62.9921 750.443 L62.9921 745.929 L77.367 724.031 Z\" fill=\"#000000\" fill-rule=\"evenodd\" fill-opacity=\"1\" /><path clip-path=\"url(#clip2000)\" d=\"M 0 0 M103.247 727.11 Q99.6354 727.11 97.8068 730.675 Q96.0012 734.216 96.0012 741.346 Q96.0012 748.452 97.8068 752.017 Q99.6354 755.559 103.247 755.559 Q106.881 755.559 108.686 752.017 Q110.515 748.452 110.515 741.346 Q110.515 734.216 108.686 730.675 Q106.881 727.11 103.247 727.11 M103.247 723.406 Q109.057 723.406 112.112 728.013 Q115.191 732.596 115.191 741.346 Q115.191 750.073 112.112 754.679 Q109.057 759.263 103.247 759.263 Q97.4364 759.263 94.3577 754.679 Q91.3022 750.073 91.3022 741.346 Q91.3022 732.596 94.3577 728.013 Q97.4364 723.406 103.247 723.406 Z\" fill=\"#000000\" fill-rule=\"evenodd\" fill-opacity=\"1\" /><path clip-path=\"url(#clip2000)\" d=\"M 0 0 M130.26 727.11 Q126.649 727.11 124.82 730.675 Q123.015 734.216 123.015 741.346 Q123.015 748.452 124.82 752.017 Q126.649 755.559 130.26 755.559 Q133.895 755.559 135.7 752.017 Q137.529 748.452 137.529 741.346 Q137.529 734.216 135.7 730.675 Q133.895 727.11 130.26 727.11 M130.26 723.406 Q136.07 723.406 139.126 728.013 Q142.205 732.596 142.205 741.346 Q142.205 750.073 139.126 754.679 Q136.07 759.263 130.26 759.263 Q124.45 759.263 121.371 754.679 Q118.316 750.073 118.316 741.346 Q118.316 732.596 121.371 728.013 Q124.45 723.406 130.26 723.406 Z\" fill=\"#000000\" fill-rule=\"evenodd\" fill-opacity=\"1\" /><path clip-path=\"url(#clip2000)\" d=\"M 0 0 M76.6495 387.246 Q73.5013 387.246 71.6495 389.398 Q69.8208 391.551 69.8208 395.301 Q69.8208 399.028 71.6495 401.204 Q73.5013 403.357 76.6495 403.357 Q79.7976 403.357 81.6263 401.204 Q83.4781 399.028 83.4781 395.301 Q83.4781 391.551 81.6263 389.398 Q79.7976 387.246 76.6495 387.246 M85.9318 372.593 L85.9318 376.852 Q84.1726 376.019 82.367 375.579 Q80.5846 375.139 78.8254 375.139 Q74.1958 375.139 71.7421 378.264 Q69.3115 381.389 68.9643 387.709 Q70.33 385.695 72.3902 384.63 Q74.4504 383.542 76.9272 383.542 Q82.1355 383.542 85.1448 386.713 Q88.1772 389.861 88.1772 395.301 Q88.1772 400.625 85.029 403.843 Q81.8809 407.06 76.6495 407.06 Q70.6541 407.06 67.4828 402.477 Q64.3116 397.871 64.3116 389.144 Q64.3116 380.949 68.2004 376.088 Q72.0893 371.204 78.6402 371.204 Q80.3994 371.204 82.1818 371.551 Q83.9874 371.899 85.9318 372.593 Z\" fill=\"#000000\" fill-rule=\"evenodd\" fill-opacity=\"1\" /><path clip-path=\"url(#clip2000)\" d=\"M 0 0 M103.247 374.908 Q99.6354 374.908 97.8068 378.473 Q96.0012 382.014 96.0012 389.144 Q96.0012 396.25 97.8068 399.815 Q99.6354 403.357 103.247 403.357 Q106.881 403.357 108.686 399.815 Q110.515 396.25 110.515 389.144 Q110.515 382.014 108.686 378.473 Q106.881 374.908 103.247 374.908 M103.247 371.204 Q109.057 371.204 112.112 375.811 Q115.191 380.394 115.191 389.144 Q115.191 397.871 112.112 402.477 Q109.057 407.06 103.247 407.06 Q97.4364 407.06 94.3577 402.477 Q91.3022 397.871 91.3022 389.144 Q91.3022 380.394 94.3577 375.811 Q97.4364 371.204 103.247 371.204 Z\" fill=\"#000000\" fill-rule=\"evenodd\" fill-opacity=\"1\" /><path clip-path=\"url(#clip2000)\" d=\"M 0 0 M130.26 374.908 Q126.649 374.908 124.82 378.473 Q123.015 382.014 123.015 389.144 Q123.015 396.25 124.82 399.815 Q126.649 403.357 130.26 403.357 Q133.895 403.357 135.7 399.815 Q137.529 396.25 137.529 389.144 Q137.529 382.014 135.7 378.473 Q133.895 374.908 130.26 374.908 M130.26 371.204 Q136.07 371.204 139.126 375.811 Q142.205 380.394 142.205 389.144 Q142.205 397.871 139.126 402.477 Q136.07 407.06 130.26 407.06 Q124.45 407.06 121.371 402.477 Q118.316 397.871 118.316 389.144 Q118.316 380.394 121.371 375.811 Q124.45 371.204 130.26 371.204 Z\" fill=\"#000000\" fill-rule=\"evenodd\" fill-opacity=\"1\" /><polyline clip-path=\"url(#clip2002)\" style=\"stroke:#009af9; stroke-width:4; stroke-opacity:1; fill:none\" points=\"\n",
       "  228.088,1443.95 266.288,1445.72 304.488,1445.72 342.687,1445.72 380.887,1443.95 419.087,1443.95 457.286,1445.72 495.486,1440.43 533.686,1440.43 571.886,1440.43 \n",
       "  610.085,1435.15 648.285,1431.63 686.485,1440.43 724.684,1429.87 762.884,1438.67 801.084,1431.63 839.284,1415.78 877.483,1345.34 915.683,1252 953.883,1313.64 \n",
       "  992.082,1266.09 1030.28,1315.4 1068.48,1294.27 1106.68,1357.67 1144.88,1324.21 1183.08,1361.19 1221.28,1276.66 1259.48,1310.12 1297.68,1343.58 1335.88,1259.05 \n",
       "  1374.08,1273.14 1412.28,1391.12 1450.48,1378.8 1488.68,1401.69 1526.88,1347.1 1565.08,1359.43 1603.28,1260.81 1641.48,1369.99 1679.68,1311.88 1717.88,1387.6 \n",
       "  1756.08,1350.62 1794.28,1318.92 1832.48,1329.49 1870.68,1333.01 1908.88,1354.14 1947.08,1232.63 1985.27,1262.57 2023.47,1162.19 2061.67,1088.23 2099.87,1038.92 \n",
       "  2138.07,977.287 2176.27,517.663 2214.47,551.122 2252.67,87.9763 2290.87,424.329 \n",
       "  \"/>\n",
       "<polyline clip-path=\"url(#clip2002)\" style=\"stroke:#e26f46; stroke-width:4; stroke-opacity:1; fill:none\" points=\"\n",
       "  228.088,1444.9 266.288,1445.05 304.488,1445.14 342.687,1445 380.887,1444.61 419.087,1444.01 457.286,1443.1 495.486,1441.82 533.686,1440.23 571.886,1438.48 \n",
       "  610.085,1436.89 648.285,1435.76 686.485,1434.91 724.684,1432.98 762.884,1426.56 801.084,1410.69 839.284,1382.9 877.483,1348.24 915.683,1317.82 953.883,1300.52 \n",
       "  992.082,1297.4 1030.28,1304.1 1068.48,1315.08 1106.68,1324.67 1144.88,1328.11 1183.08,1324.53 1221.28,1317.34 1259.48,1310.42 1297.68,1306.37 1335.88,1309.31 \n",
       "  1374.08,1323.28 1412.28,1344.8 1450.48,1362.24 1488.68,1365.92 1526.88,1356.25 1565.08,1342.12 1603.28,1333.5 1641.48,1334.43 1679.68,1340.9 1717.88,1345.37 \n",
       "  1756.08,1343.82 1794.28,1338.07 1832.48,1330.76 1870.68,1319.49 1908.88,1298.38 1947.08,1263.93 1985.27,1216.61 2023.47,1156.67 2061.67,1078.6 2099.87,970.459 \n",
       "  2138.07,824.868 2176.27,656.177 2214.47,501.546 2252.67,395.993 2290.87,347.918 \n",
       "  \"/>\n",
       "<polyline clip-path=\"url(#clip2002)\" style=\"stroke:#3da44d; stroke-width:4; stroke-opacity:1; fill:none\" points=\"\n",
       "  228.088,1443.95 266.288,1443.95 304.488,1443.95 342.687,1443.95 380.887,1443.94 419.087,1443.87 457.286,1443.67 495.486,1443.22 533.686,1442.4 571.886,1441.14 \n",
       "  610.085,1439.53 648.285,1437.85 686.485,1436.42 724.684,1435.26 762.884,1433.7 801.084,1430.33 839.284,1422.55 877.483,1406.27 915.683,1378.36 953.883,1343.83 \n",
       "  992.082,1316.21 1030.28,1304.32 1068.48,1305.86 1106.68,1313.76 1144.88,1321.61 1183.08,1325.42 1221.28,1324.16 1259.48,1319.22 1297.68,1313.39 1335.88,1310.32 \n",
       "  1374.08,1314.42 1412.28,1327.53 1450.48,1344.83 1488.68,1358.17 1526.88,1362.74 1565.08,1358.36 1603.28,1348.67 1641.48,1340.1 1679.68,1337.67 1717.88,1340.34 \n",
       "  1756.08,1343.23 1794.28,1342.94 1832.48,1339.13 1870.68,1332.5 1908.88,1322.08 1947.08,1304.84 1985.27,1277.37 2023.47,1237.55 2061.67,1184.19 2099.87,1114.49 \n",
       "  2138.07,1021.66 2176.27,897.327 2214.47,739.096 2252.67,553.486 2290.87,341.634 \n",
       "  \"/>\n",
       "<path clip-path=\"url(#clip2000)\" d=\"\n",
       "M1989.16 372.684 L2280.76 372.684 L2280.76 130.764 L1989.16 130.764  Z\n",
       "  \" fill=\"#ffffff\" fill-rule=\"evenodd\" fill-opacity=\"1\"/>\n",
       "<polyline clip-path=\"url(#clip2000)\" style=\"stroke:#000000; stroke-width:4; stroke-opacity:1; fill:none\" points=\"\n",
       "  1989.16,372.684 2280.76,372.684 2280.76,130.764 1989.16,130.764 1989.16,372.684 \n",
       "  \"/>\n",
       "<polyline clip-path=\"url(#clip2000)\" style=\"stroke:#009af9; stroke-width:4; stroke-opacity:1; fill:none\" points=\"\n",
       "  2013.16,191.244 2157.16,191.244 \n",
       "  \"/>\n",
       "<path clip-path=\"url(#clip2000)\" d=\"M 0 0 M2195 210.931 Q2193.2 215.561 2191.48 216.973 Q2189.77 218.385 2186.9 218.385 L2183.5 218.385 L2183.5 214.82 L2186 214.82 Q2187.76 214.82 2188.73 213.987 Q2189.7 213.154 2190.88 210.052 L2191.65 208.107 L2181.16 182.598 L2185.67 182.598 L2193.77 202.876 L2201.88 182.598 L2206.39 182.598 L2195 210.931 Z\" fill=\"#000000\" fill-rule=\"evenodd\" fill-opacity=\"1\" /><path clip-path=\"url(#clip2000)\" d=\"M 0 0 M2212.27 204.589 L2219.91 204.589 L2219.91 178.223 L2211.6 179.89 L2211.6 175.631 L2219.86 173.964 L2224.54 173.964 L2224.54 204.589 L2232.18 204.589 L2232.18 208.524 L2212.27 208.524 L2212.27 204.589 Z\" fill=\"#000000\" fill-rule=\"evenodd\" fill-opacity=\"1\" /><polyline clip-path=\"url(#clip2000)\" style=\"stroke:#e26f46; stroke-width:4; stroke-opacity:1; fill:none\" points=\"\n",
       "  2013.16,251.724 2157.16,251.724 \n",
       "  \"/>\n",
       "<path clip-path=\"url(#clip2000)\" d=\"M 0 0 M2195 271.411 Q2193.2 276.041 2191.48 277.453 Q2189.77 278.865 2186.9 278.865 L2183.5 278.865 L2183.5 275.3 L2186 275.3 Q2187.76 275.3 2188.73 274.467 Q2189.7 273.634 2190.88 270.532 L2191.65 268.587 L2181.16 243.078 L2185.67 243.078 L2193.77 263.356 L2201.88 243.078 L2206.39 243.078 L2195 271.411 Z\" fill=\"#000000\" fill-rule=\"evenodd\" fill-opacity=\"1\" /><path clip-path=\"url(#clip2000)\" d=\"M 0 0 M2215.49 265.069 L2231.81 265.069 L2231.81 269.004 L2209.86 269.004 L2209.86 265.069 Q2212.52 262.314 2217.11 257.685 Q2221.71 253.032 2222.89 251.689 Q2225.14 249.166 2226.02 247.43 Q2226.92 245.671 2226.92 243.981 Q2226.92 241.226 2224.98 239.49 Q2223.06 237.754 2219.96 237.754 Q2217.76 237.754 2215.3 238.518 Q2212.87 239.282 2210.09 240.833 L2210.09 236.111 Q2212.92 234.976 2215.37 234.398 Q2217.83 233.819 2219.86 233.819 Q2225.23 233.819 2228.43 236.504 Q2231.62 239.189 2231.62 243.68 Q2231.62 245.81 2230.81 247.731 Q2230.02 249.629 2227.92 252.222 Q2227.34 252.893 2224.24 256.111 Q2221.14 259.305 2215.49 265.069 Z\" fill=\"#000000\" fill-rule=\"evenodd\" fill-opacity=\"1\" /><polyline clip-path=\"url(#clip2000)\" style=\"stroke:#3da44d; stroke-width:4; stroke-opacity:1; fill:none\" points=\"\n",
       "  2013.16,312.204 2157.16,312.204 \n",
       "  \"/>\n",
       "<path clip-path=\"url(#clip2000)\" d=\"M 0 0 M2195 331.891 Q2193.2 336.521 2191.48 337.933 Q2189.77 339.345 2186.9 339.345 L2183.5 339.345 L2183.5 335.78 L2186 335.78 Q2187.76 335.78 2188.73 334.947 Q2189.7 334.114 2190.88 331.012 L2191.65 329.067 L2181.16 303.558 L2185.67 303.558 L2193.77 323.836 L2201.88 303.558 L2206.39 303.558 L2195 331.891 Z\" fill=\"#000000\" fill-rule=\"evenodd\" fill-opacity=\"1\" /><path clip-path=\"url(#clip2000)\" d=\"M 0 0 M2225.63 310.85 Q2228.98 311.568 2230.86 313.836 Q2232.76 316.105 2232.76 319.438 Q2232.76 324.554 2229.24 327.354 Q2225.72 330.155 2219.24 330.155 Q2217.06 330.155 2214.75 329.716 Q2212.46 329.299 2210 328.442 L2210 323.929 Q2211.95 325.063 2214.26 325.642 Q2216.58 326.22 2219.1 326.22 Q2223.5 326.22 2225.79 324.484 Q2228.1 322.748 2228.1 319.438 Q2228.1 316.382 2225.95 314.669 Q2223.82 312.933 2220 312.933 L2215.97 312.933 L2215.97 309.091 L2220.19 309.091 Q2223.64 309.091 2225.46 307.725 Q2227.29 306.336 2227.29 303.743 Q2227.29 301.081 2225.39 299.669 Q2223.52 298.234 2220 298.234 Q2218.08 298.234 2215.88 298.651 Q2213.68 299.068 2211.04 299.947 L2211.04 295.781 Q2213.71 295.04 2216.02 294.669 Q2218.36 294.299 2220.42 294.299 Q2225.74 294.299 2228.84 296.73 Q2231.95 299.137 2231.95 303.257 Q2231.95 306.128 2230.3 308.118 Q2228.66 310.086 2225.63 310.85 Z\" fill=\"#000000\" fill-rule=\"evenodd\" fill-opacity=\"1\" /></svg>\n"
      ]
     },
     "execution_count": 90,
     "metadata": {},
     "output_type": "execute_result"
    }
   ],
   "source": [
    "fir2filter(x,coeff) = vcat([x[1]],[x[i] * coeff + x[i-1] * (1.0-coeff) for i in 2:length(x)])\n",
    "truefilter(x,n) = begin\n",
    "    for i in 1:n\n",
    "        x = fir2filter(x, 0.75) # Reduce excessive influence of the latest data point.\n",
    "    end\n",
    "    tf = filter([log(max(1,x[i])/max(1,x[i+1])) for i in 1:(length(x)-1)],n)\n",
    "    # Add back the ending value.\n",
    "    vcat([x[end]*exp(v) for v in reverse(cumsum(reverse(tf)))],[x[end]])\n",
    "end\n",
    "    \n",
    "using StatsPlots\n",
    "compare_filters(state) = begin\n",
    "    data = dailies_for_state(state)\n",
    "    plot([data, filter(data, 5), truefilter(data,5)])\n",
    "end\n",
    "compare_filters(\"tn\")"
   ]
  },
  {
   "cell_type": "markdown",
   "metadata": {},
   "source": [
    "You can see how the green line (the \"truefilter\") lurches upward near the end of the series whereas the red line (the \"filter\") flattens out. This is the difference we're looking for. I filtered 40 times just to illustrate the end effect."
   ]
  },
  {
   "cell_type": "markdown",
   "metadata": {},
   "source": [
    "## Making the model\n",
    "\n",
    "The idea behind the model is really quite simple. We have a formula to estimate the next day's case arrival rate based on the current day's case arrival rate and the current value of Rt. What we don't know is the Rt itself, so we can assume a distribution for it, assume that it varies a little bit from day to day, and iteratively estimate it day to day."
   ]
  },
  {
   "cell_type": "code",
   "execution_count": 46,
   "metadata": {},
   "outputs": [
    {
     "data": {
      "text/plain": [
       "run (generic function with 1 method)"
      ]
     },
     "execution_count": 46,
     "metadata": {},
     "output_type": "execute_result"
    }
   ],
   "source": [
    "using Turing, StatsPlots, Random, Distributions, AxisArrays\n",
    "\n",
    "# Data available via dailies_for_state(\"tn\") and the like.\n",
    "\n",
    "# The transmission factor of the disease. Estimated by epidemiologists.\n",
    "covid_gamma = 1.0/7.0\n",
    "\n",
    "# Calculate Poisson rate from the value of Rt and the known k.\n",
    "# Reference: https://journals.plos.org/plosone/article?id=10.1371/journal.pone.0002185\n",
    "case_arrival_rate(k, rt, g=covid_gamma) = max(1,k) * exp(g * (rt - 1))\n",
    "\n",
    "@model rtmodel(k, ::Type{T} = Vector{Float64}) where {T} = begin    \n",
    "    # Create result vector we want to estimate\n",
    "    rt = T(undef, length(k))\n",
    "    \n",
    "    # Priors\n",
    "    rt[1] ~ Gamma(1.5)\n",
    "    k[1] ~ Poisson(k[1])\n",
    "    \n",
    "    # The chain\n",
    "    for t in 2:length(k)\n",
    "        # Assume Rt can vary from day to day with a std deviation of 0.15\n",
    "        # This value was arrived at in Keivn Systrom's optimization.\n",
    "        rt[t] ~ Normal(rt[t-1], 0.15)\n",
    "        \n",
    "        # Mark the observation that the Poisson should fit.\n",
    "        k[t] ~ Poisson(case_arrival_rate(k[t-1], rt[t]))\n",
    "    end\n",
    "end\n",
    "\n",
    "# Wrap the sampler into a function that produces the chain.\n",
    "run(data) = sample(rtmodel(data), NUTS(), 3000)"
   ]
  },
  {
   "cell_type": "markdown",
   "metadata": {},
   "source": [
    "## Run the model on the data\n",
    "\n",
    "We run it for only the last 21 days. Don't care too much about the history, as the Rt values will settle reasonably. We also apply the 121-discrete-gaussian filter 5 times to smooth the daily data. We then pick the states with more than 20 cases to run the estimation, and accumulate the results into the `rt_results` Dict."
   ]
  },
  {
   "cell_type": "code",
   "execution_count": 47,
   "metadata": {},
   "outputs": [
    {
     "data": {
      "text/plain": [
       "run_for_state (generic function with 1 method)"
      ]
     },
     "execution_count": 47,
     "metadata": {},
     "output_type": "execute_result"
    }
   ],
   "source": [
    "history_length = 31\n",
    "smoothing = 5\n",
    "\n",
    "filtered_state_data(code) = map(x -> trunc(Int,round(x)),truefilter(dailies_for_state(code), smoothing))[(end-history_length+1):end]\n",
    "prec100(n) = round(n * 100) / 100\n",
    "\n",
    "run_for_state(input) = begin\n",
    "    c = run(input)\n",
    "    d = Dict(\"rt\" => [], \"std\" => [], \"p05\" => [], \"p25\" => [], \"p75\" => [], \"p95\" => [])\n",
    "    for i in 1:length(input)\n",
    "        data = dropdims(c[\"rt[\" * string(i) * \"]\"].value.data, dims=(2,3))\n",
    "        push!(d[\"rt\"], prec100(mean(data)))\n",
    "        push!(d[\"std\"], prec100(std(data)))\n",
    "        push!(d[\"p05\"], prec100(quantile(data, 0.05)))\n",
    "        push!(d[\"p25\"], prec100(quantile(data, 0.25)))\n",
    "        push!(d[\"p75\"], prec100(quantile(data, 0.75)))\n",
    "        push!(d[\"p95\"], prec100(quantile(data, 0.95)))\n",
    "    end\n",
    "    d\n",
    "end"
   ]
  },
  {
   "cell_type": "code",
   "execution_count": 48,
   "metadata": {},
   "outputs": [
    {
     "name": "stdout",
     "output_type": "stream",
     "text": [
      "ka => Karnataka\n"
     ]
    },
    {
     "name": "stderr",
     "output_type": "stream",
     "text": [
      "┌ Info: Found initial step size\n",
      "│   ϵ = 0.2\n",
      "└ @ Turing.Inference /home/srikumar/.julia/packages/Turing/cReBm/src/inference/hmc.jl:556\n",
      "\u001b[32mSampling: 100%|█████████████████████████████████████████| Time: 0:00:27\u001b[39m\n"
     ]
    },
    {
     "name": "stdout",
     "output_type": "stream",
     "text": [
      "nl => Nagaland\n",
      "jk => Jammu and Kashmir\n"
     ]
    },
    {
     "name": "stderr",
     "output_type": "stream",
     "text": [
      "┌ Info: Found initial step size\n",
      "│   ϵ = 0.2\n",
      "└ @ Turing.Inference /home/srikumar/.julia/packages/Turing/cReBm/src/inference/hmc.jl:556\n",
      "\u001b[32mSampling: 100%|█████████████████████████████████████████| Time: 0:00:26\u001b[39m\n"
     ]
    },
    {
     "name": "stdout",
     "output_type": "stream",
     "text": [
      "sk => Sikkim\n",
      "dl => Delhi\n"
     ]
    },
    {
     "name": "stderr",
     "output_type": "stream",
     "text": [
      "┌ Info: Found initial step size\n",
      "│   ϵ = 0.025\n",
      "└ @ Turing.Inference /home/srikumar/.julia/packages/Turing/cReBm/src/inference/hmc.jl:556\n",
      "\u001b[32mSampling: 100%|█████████████████████████████████████████| Time: 0:00:16\u001b[39m\n"
     ]
    },
    {
     "name": "stdout",
     "output_type": "stream",
     "text": [
      "ld => Lakshadweep\n",
      "hp => Himachal Pradesh\n"
     ]
    },
    {
     "name": "stderr",
     "output_type": "stream",
     "text": [
      "┌ Info: Found initial step size\n",
      "│   ϵ = 0.05\n",
      "└ @ Turing.Inference /home/srikumar/.julia/packages/Turing/cReBm/src/inference/hmc.jl:556\n",
      "\u001b[32mSampling: 100%|█████████████████████████████████████████| Time: 0:00:35\u001b[39m\n"
     ]
    },
    {
     "name": "stdout",
     "output_type": "stream",
     "text": [
      "jh => Jharkhand\n"
     ]
    },
    {
     "name": "stderr",
     "output_type": "stream",
     "text": [
      "┌ Info: Found initial step size\n",
      "│   ϵ = 0.2\n",
      "└ @ Turing.Inference /home/srikumar/.julia/packages/Turing/cReBm/src/inference/hmc.jl:556\n",
      "\u001b[32mSampling: 100%|█████████████████████████████████████████| Time: 0:00:35\u001b[39m\n"
     ]
    },
    {
     "name": "stdout",
     "output_type": "stream",
     "text": [
      "hr => Haryana\n"
     ]
    },
    {
     "name": "stderr",
     "output_type": "stream",
     "text": [
      "┌ Info: Found initial step size\n",
      "│   ϵ = 0.05\n",
      "└ @ Turing.Inference /home/srikumar/.julia/packages/Turing/cReBm/src/inference/hmc.jl:556\n",
      "\u001b[32mSampling: 100%|█████████████████████████████████████████| Time: 0:00:27\u001b[39m\n"
     ]
    },
    {
     "name": "stdout",
     "output_type": "stream",
     "text": [
      "pb => Punjab\n"
     ]
    },
    {
     "name": "stderr",
     "output_type": "stream",
     "text": [
      "┌ Info: Found initial step size\n",
      "│   ϵ = 0.2\n",
      "└ @ Turing.Inference /home/srikumar/.julia/packages/Turing/cReBm/src/inference/hmc.jl:556\n",
      "\u001b[32mSampling: 100%|█████████████████████████████████████████| Time: 0:00:26\u001b[39m\n"
     ]
    },
    {
     "name": "stdout",
     "output_type": "stream",
     "text": [
      "dd => Daman and Diu\n",
      "mh => Maharashtra\n"
     ]
    },
    {
     "name": "stderr",
     "output_type": "stream",
     "text": [
      "┌ Info: Found initial step size\n",
      "│   ϵ = 0.2\n",
      "└ @ Turing.Inference /home/srikumar/.julia/packages/Turing/cReBm/src/inference/hmc.jl:556\n",
      "\u001b[32mSampling: 100%|█████████████████████████████████████████| Time: 0:00:12\u001b[39m\n"
     ]
    },
    {
     "name": "stdout",
     "output_type": "stream",
     "text": [
      "mz => Mizoram\n",
      "or => Odisha\n"
     ]
    },
    {
     "name": "stderr",
     "output_type": "stream",
     "text": [
      "┌ Info: Found initial step size\n",
      "│   ϵ = 0.2\n",
      "└ @ Turing.Inference /home/srikumar/.julia/packages/Turing/cReBm/src/inference/hmc.jl:556\n",
      "\u001b[32mSampling: 100%|█████████████████████████████████████████| Time: 0:00:32\u001b[39m\n"
     ]
    },
    {
     "name": "stdout",
     "output_type": "stream",
     "text": [
      "tn => Tamil Nadu\n"
     ]
    },
    {
     "name": "stderr",
     "output_type": "stream",
     "text": [
      "┌ Info: Found initial step size\n",
      "│   ϵ = 0.2\n",
      "└ @ Turing.Inference /home/srikumar/.julia/packages/Turing/cReBm/src/inference/hmc.jl:556\n",
      "\u001b[32mSampling: 100%|█████████████████████████████████████████| Time: 0:00:18\u001b[39m\n"
     ]
    },
    {
     "name": "stdout",
     "output_type": "stream",
     "text": [
      "br => Bihar\n"
     ]
    },
    {
     "name": "stderr",
     "output_type": "stream",
     "text": [
      "┌ Info: Found initial step size\n",
      "│   ϵ = 0.2\n",
      "└ @ Turing.Inference /home/srikumar/.julia/packages/Turing/cReBm/src/inference/hmc.jl:556\n",
      "\u001b[32mSampling: 100%|█████████████████████████████████████████| Time: 0:00:29\u001b[39m\n"
     ]
    },
    {
     "name": "stdout",
     "output_type": "stream",
     "text": [
      "kl => Kerala\n"
     ]
    },
    {
     "name": "stderr",
     "output_type": "stream",
     "text": [
      "┌ Info: Found initial step size\n",
      "│   ϵ = 0.05\n",
      "└ @ Turing.Inference /home/srikumar/.julia/packages/Turing/cReBm/src/inference/hmc.jl:556\n",
      "\u001b[32mSampling: 100%|█████████████████████████████████████████| Time: 0:00:32\u001b[39m\n"
     ]
    },
    {
     "name": "stdout",
     "output_type": "stream",
     "text": [
      "rj => Rajasthan\n"
     ]
    },
    {
     "name": "stderr",
     "output_type": "stream",
     "text": [
      "┌ Info: Found initial step size\n",
      "│   ϵ = 0.025\n",
      "└ @ Turing.Inference /home/srikumar/.julia/packages/Turing/cReBm/src/inference/hmc.jl:556\n",
      "\u001b[32mSampling: 100%|█████████████████████████████████████████| Time: 0:00:19\u001b[39m\n"
     ]
    },
    {
     "name": "stdout",
     "output_type": "stream",
     "text": [
      "ut => Uttarakhand\n",
      "ct => Chhattisgarh\n"
     ]
    },
    {
     "name": "stderr",
     "output_type": "stream",
     "text": [
      "┌ Info: Found initial step size\n",
      "│   ϵ = 0.05\n",
      "└ @ Turing.Inference /home/srikumar/.julia/packages/Turing/cReBm/src/inference/hmc.jl:556\n",
      "\u001b[32mSampling: 100%|█████████████████████████████████████████| Time: 0:00:39\u001b[39m\n"
     ]
    },
    {
     "name": "stdout",
     "output_type": "stream",
     "text": [
      "gj => Gujarat\n"
     ]
    },
    {
     "name": "stderr",
     "output_type": "stream",
     "text": [
      "┌ Info: Found initial step size\n",
      "│   ϵ = 0.2\n",
      "└ @ Turing.Inference /home/srikumar/.julia/packages/Turing/cReBm/src/inference/hmc.jl:556\n",
      "\u001b[32mSampling: 100%|█████████████████████████████████████████| Time: 0:00:16\u001b[39m\n"
     ]
    },
    {
     "name": "stdout",
     "output_type": "stream",
     "text": [
      "ml => Meghalaya\n",
      "up => Uttar Pradesh\n"
     ]
    },
    {
     "name": "stderr",
     "output_type": "stream",
     "text": [
      "┌ Info: Found initial step size\n",
      "│   ϵ = 0.2\n",
      "└ @ Turing.Inference /home/srikumar/.julia/packages/Turing/cReBm/src/inference/hmc.jl:556\n",
      "\u001b[32mSampling: 100%|█████████████████████████████████████████| Time: 0:00:19\u001b[39m\n"
     ]
    },
    {
     "name": "stdout",
     "output_type": "stream",
     "text": [
      "an => Andaman and Nicobar Islands\n",
      "ch => Chandigarh\n"
     ]
    },
    {
     "name": "stderr",
     "output_type": "stream",
     "text": [
      "┌ Info: Found initial step size\n",
      "│   ϵ = 0.043750000000000004\n",
      "└ @ Turing.Inference /home/srikumar/.julia/packages/Turing/cReBm/src/inference/hmc.jl:556\n",
      "\u001b[32mSampling: 100%|█████████████████████████████████████████| Time: 0:00:36\u001b[39m\n"
     ]
    },
    {
     "name": "stdout",
     "output_type": "stream",
     "text": [
      "ar => Arunachal Pradesh\n",
      "wb => West Bengal\n"
     ]
    },
    {
     "name": "stderr",
     "output_type": "stream",
     "text": [
      "┌ Info: Found initial step size\n",
      "│   ϵ = 0.2\n",
      "└ @ Turing.Inference /home/srikumar/.julia/packages/Turing/cReBm/src/inference/hmc.jl:556\n",
      "\u001b[32mSampling: 100%|█████████████████████████████████████████| Time: 0:00:25\u001b[39m\n"
     ]
    },
    {
     "name": "stdout",
     "output_type": "stream",
     "text": [
      "tr => Tripura\n"
     ]
    },
    {
     "name": "stderr",
     "output_type": "stream",
     "text": [
      "┌ Info: Found initial step size\n",
      "│   ϵ = 0.0484375\n",
      "└ @ Turing.Inference /home/srikumar/.julia/packages/Turing/cReBm/src/inference/hmc.jl:556\n",
      "\u001b[32mSampling: 100%|█████████████████████████████████████████| Time: 0:00:42\u001b[39m\n"
     ]
    },
    {
     "name": "stdout",
     "output_type": "stream",
     "text": [
      "dn => Dadra and Nagar Haveli\n",
      "ga => Goa\n",
      "la => Ladakh\n",
      "ap => Andhra Pradesh\n"
     ]
    },
    {
     "name": "stderr",
     "output_type": "stream",
     "text": [
      "┌ Info: Found initial step size\n",
      "│   ϵ = 0.2\n",
      "└ @ Turing.Inference /home/srikumar/.julia/packages/Turing/cReBm/src/inference/hmc.jl:556\n",
      "\u001b[32mSampling: 100%|█████████████████████████████████████████| Time: 0:00:25\u001b[39m\n"
     ]
    },
    {
     "name": "stdout",
     "output_type": "stream",
     "text": [
      "mn => Manipur\n",
      "py => Puducherry\n",
      "as => Assam\n"
     ]
    },
    {
     "name": "stderr",
     "output_type": "stream",
     "text": [
      "┌ Info: Found initial step size\n",
      "│   ϵ = 0.2\n",
      "└ @ Turing.Inference /home/srikumar/.julia/packages/Turing/cReBm/src/inference/hmc.jl:556\n",
      "\u001b[32mSampling: 100%|█████████████████████████████████████████| Time: 0:00:42\u001b[39m\n"
     ]
    },
    {
     "name": "stdout",
     "output_type": "stream",
     "text": [
      "tg => Telangana\n"
     ]
    },
    {
     "name": "stderr",
     "output_type": "stream",
     "text": [
      "┌ Info: Found initial step size\n",
      "│   ϵ = 0.046875\n",
      "└ @ Turing.Inference /home/srikumar/.julia/packages/Turing/cReBm/src/inference/hmc.jl:556\n",
      "\u001b[32mSampling: 100%|█████████████████████████████████████████| Time: 0:00:26\u001b[39m\n"
     ]
    }
   ],
   "source": [
    "rt_results = Dict()\n",
    "\n",
    "for (state_code, state_name) in india_state_codes\n",
    "    if state_data_available(state_code)\n",
    "        println(state_code, \" => \", state_name)\n",
    "        input = filtered_state_data(state_code)\n",
    "        if sum(input) > 20\n",
    "            rt_results[state_code] = run_for_state(input)\n",
    "        end\n",
    "    end\n",
    "end"
   ]
  },
  {
   "cell_type": "markdown",
   "metadata": {},
   "source": [
    "Write the results out to a file as JSON so we can use it in visualization on the blog."
   ]
  },
  {
   "cell_type": "code",
   "execution_count": 49,
   "metadata": {},
   "outputs": [],
   "source": [
    "open(\"data/rt_daily.json\", \"w\") do f\n",
    "    JSON.print(f, rt_results)\n",
    "end"
   ]
  },
  {
   "cell_type": "markdown",
   "metadata": {},
   "source": [
    "The `rt_results` structure contains estimates for all the states for all the 21 days. We only want for the latest day's point. So create a summary object from it and write that out separately. We'll come to the full time series visualization at a later time. Include the basic info along with the estimates of Rt."
   ]
  },
  {
   "cell_type": "code",
   "execution_count": 50,
   "metadata": {},
   "outputs": [],
   "source": [
    "rt_summary = Dict(\n",
    "    \"date\" => date_series[end],\n",
    "    \"states\" => sort([\n",
    "            Dict(\n",
    "                \"state_code\"=>uppercase(state),\n",
    "                \"state_name\"=>india_state_codes[state],\n",
    "                \"daily_cases\"=>dailies_for_state(state)[end],\n",
    "                \"date\"=>date_series[end],\n",
    "                \"p95\"=>x[\"p95\"][end],\n",
    "                \"p25\"=>x[\"p25\"][end],\n",
    "                \"p05\"=>x[\"p05\"][end],\n",
    "                \"rt\"=>x[\"rt\"][end],\n",
    "                \"p75\"=>x[\"p75\"][end],\n",
    "                \"std\"=>x[\"std\"][end])\n",
    "            for (state,x) in rt_results],\n",
    "        lt=(a,b)->a[\"rt\"] > b[\"rt\"])\n",
    ")\n",
    "open(\"data/rt_daily_summary.json\",\"w\") do f\n",
    "    JSON.print(f, rt_summary)\n",
    "end"
   ]
  },
  {
   "cell_type": "code",
   "execution_count": 51,
   "metadata": {},
   "outputs": [
    {
     "name": "stderr",
     "output_type": "stream",
     "text": [
      "┌ Info: Found initial step size\n",
      "│   ϵ = 0.2\n",
      "└ @ Turing.Inference /home/srikumar/.julia/packages/Turing/cReBm/src/inference/hmc.jl:556\n",
      "\u001b[32mSampling: 100%|█████████████████████████████████████████| Time: 0:00:52\u001b[39m\n"
     ]
    },
    {
     "data": {
      "image/svg+xml": [
       "<?xml version=\"1.0\" encoding=\"utf-8\"?>\n",
       "<svg xmlns=\"http://www.w3.org/2000/svg\" xmlns:xlink=\"http://www.w3.org/1999/xlink\" width=\"600\" height=\"400\" viewBox=\"0 0 2400 1600\">\n",
       "<defs>\n",
       "  <clipPath id=\"clip0000\">\n",
       "    <rect x=\"0\" y=\"0\" width=\"2400\" height=\"1600\"/>\n",
       "  </clipPath>\n",
       "</defs>\n",
       "<path clip-path=\"url(#clip0000)\" d=\"\n",
       "M0 1600 L2400 1600 L2400 0 L0 0  Z\n",
       "  \" fill=\"#ffffff\" fill-rule=\"evenodd\" fill-opacity=\"1\"/>\n",
       "<defs>\n",
       "  <clipPath id=\"clip0001\">\n",
       "    <rect x=\"480\" y=\"0\" width=\"1681\" height=\"1600\"/>\n",
       "  </clipPath>\n",
       "</defs>\n",
       "<path clip-path=\"url(#clip0000)\" d=\"\n",
       "M146.853 1486.45 L2352.76 1486.45 L2352.76 47.2441 L146.853 47.2441  Z\n",
       "  \" fill=\"#ffffff\" fill-rule=\"evenodd\" fill-opacity=\"1\"/>\n",
       "<defs>\n",
       "  <clipPath id=\"clip0002\">\n",
       "    <rect x=\"146\" y=\"47\" width=\"2207\" height=\"1440\"/>\n",
       "  </clipPath>\n",
       "</defs>\n",
       "<polyline clip-path=\"url(#clip0002)\" style=\"stroke:#000000; stroke-width:2; stroke-opacity:0.1; fill:none\" points=\"\n",
       "  170.746,1486.45 170.746,47.2441 \n",
       "  \"/>\n",
       "<polyline clip-path=\"url(#clip0002)\" style=\"stroke:#000000; stroke-width:2; stroke-opacity:0.1; fill:none\" points=\"\n",
       "  556.124,1486.45 556.124,47.2441 \n",
       "  \"/>\n",
       "<polyline clip-path=\"url(#clip0002)\" style=\"stroke:#000000; stroke-width:2; stroke-opacity:0.1; fill:none\" points=\"\n",
       "  941.502,1486.45 941.502,47.2441 \n",
       "  \"/>\n",
       "<polyline clip-path=\"url(#clip0002)\" style=\"stroke:#000000; stroke-width:2; stroke-opacity:0.1; fill:none\" points=\"\n",
       "  1326.88,1486.45 1326.88,47.2441 \n",
       "  \"/>\n",
       "<polyline clip-path=\"url(#clip0002)\" style=\"stroke:#000000; stroke-width:2; stroke-opacity:0.1; fill:none\" points=\"\n",
       "  1712.26,1486.45 1712.26,47.2441 \n",
       "  \"/>\n",
       "<polyline clip-path=\"url(#clip0002)\" style=\"stroke:#000000; stroke-width:2; stroke-opacity:0.1; fill:none\" points=\"\n",
       "  2097.64,1486.45 2097.64,47.2441 \n",
       "  \"/>\n",
       "<polyline clip-path=\"url(#clip0002)\" style=\"stroke:#000000; stroke-width:2; stroke-opacity:0.1; fill:none\" points=\"\n",
       "  146.853,1265.84 2352.76,1265.84 \n",
       "  \"/>\n",
       "<polyline clip-path=\"url(#clip0002)\" style=\"stroke:#000000; stroke-width:2; stroke-opacity:0.1; fill:none\" points=\"\n",
       "  146.853,975.729 2352.76,975.729 \n",
       "  \"/>\n",
       "<polyline clip-path=\"url(#clip0002)\" style=\"stroke:#000000; stroke-width:2; stroke-opacity:0.1; fill:none\" points=\"\n",
       "  146.853,685.614 2352.76,685.614 \n",
       "  \"/>\n",
       "<polyline clip-path=\"url(#clip0002)\" style=\"stroke:#000000; stroke-width:2; stroke-opacity:0.1; fill:none\" points=\"\n",
       "  146.853,395.498 2352.76,395.498 \n",
       "  \"/>\n",
       "<polyline clip-path=\"url(#clip0002)\" style=\"stroke:#000000; stroke-width:2; stroke-opacity:0.1; fill:none\" points=\"\n",
       "  146.853,105.383 2352.76,105.383 \n",
       "  \"/>\n",
       "<polyline clip-path=\"url(#clip0000)\" style=\"stroke:#000000; stroke-width:4; stroke-opacity:1; fill:none\" points=\"\n",
       "  146.853,1486.45 2352.76,1486.45 \n",
       "  \"/>\n",
       "<polyline clip-path=\"url(#clip0000)\" style=\"stroke:#000000; stroke-width:4; stroke-opacity:1; fill:none\" points=\"\n",
       "  146.853,1486.45 146.853,47.2441 \n",
       "  \"/>\n",
       "<polyline clip-path=\"url(#clip0000)\" style=\"stroke:#000000; stroke-width:4; stroke-opacity:1; fill:none\" points=\"\n",
       "  170.746,1486.45 170.746,1469.18 \n",
       "  \"/>\n",
       "<polyline clip-path=\"url(#clip0000)\" style=\"stroke:#000000; stroke-width:4; stroke-opacity:1; fill:none\" points=\"\n",
       "  556.124,1486.45 556.124,1469.18 \n",
       "  \"/>\n",
       "<polyline clip-path=\"url(#clip0000)\" style=\"stroke:#000000; stroke-width:4; stroke-opacity:1; fill:none\" points=\"\n",
       "  941.502,1486.45 941.502,1469.18 \n",
       "  \"/>\n",
       "<polyline clip-path=\"url(#clip0000)\" style=\"stroke:#000000; stroke-width:4; stroke-opacity:1; fill:none\" points=\"\n",
       "  1326.88,1486.45 1326.88,1469.18 \n",
       "  \"/>\n",
       "<polyline clip-path=\"url(#clip0000)\" style=\"stroke:#000000; stroke-width:4; stroke-opacity:1; fill:none\" points=\"\n",
       "  1712.26,1486.45 1712.26,1469.18 \n",
       "  \"/>\n",
       "<polyline clip-path=\"url(#clip0000)\" style=\"stroke:#000000; stroke-width:4; stroke-opacity:1; fill:none\" points=\"\n",
       "  2097.64,1486.45 2097.64,1469.18 \n",
       "  \"/>\n",
       "<polyline clip-path=\"url(#clip0000)\" style=\"stroke:#000000; stroke-width:4; stroke-opacity:1; fill:none\" points=\"\n",
       "  146.853,1265.84 173.324,1265.84 \n",
       "  \"/>\n",
       "<polyline clip-path=\"url(#clip0000)\" style=\"stroke:#000000; stroke-width:4; stroke-opacity:1; fill:none\" points=\"\n",
       "  146.853,975.729 173.324,975.729 \n",
       "  \"/>\n",
       "<polyline clip-path=\"url(#clip0000)\" style=\"stroke:#000000; stroke-width:4; stroke-opacity:1; fill:none\" points=\"\n",
       "  146.853,685.614 173.324,685.614 \n",
       "  \"/>\n",
       "<polyline clip-path=\"url(#clip0000)\" style=\"stroke:#000000; stroke-width:4; stroke-opacity:1; fill:none\" points=\"\n",
       "  146.853,395.498 173.324,395.498 \n",
       "  \"/>\n",
       "<polyline clip-path=\"url(#clip0000)\" style=\"stroke:#000000; stroke-width:4; stroke-opacity:1; fill:none\" points=\"\n",
       "  146.853,105.383 173.324,105.383 \n",
       "  \"/>\n",
       "<path clip-path=\"url(#clip0000)\" d=\"M 0 0 M170.746 1508.44 Q167.135 1508.44 165.307 1512 Q163.501 1515.55 163.501 1522.67 Q163.501 1529.78 165.307 1533.35 Q167.135 1536.89 170.746 1536.89 Q174.381 1536.89 176.186 1533.35 Q178.015 1529.78 178.015 1522.67 Q178.015 1515.55 176.186 1512 Q174.381 1508.44 170.746 1508.44 M170.746 1504.73 Q176.556 1504.73 179.612 1509.34 Q182.691 1513.92 182.691 1522.67 Q182.691 1531.4 179.612 1536.01 Q176.556 1540.59 170.746 1540.59 Q164.936 1540.59 161.858 1536.01 Q158.802 1531.4 158.802 1522.67 Q158.802 1513.92 161.858 1509.34 Q164.936 1504.73 170.746 1504.73 Z\" fill=\"#000000\" fill-rule=\"evenodd\" fill-opacity=\"1\" /><path clip-path=\"url(#clip0000)\" d=\"M 0 0 M532.999 1535.98 L540.638 1535.98 L540.638 1509.62 L532.328 1511.29 L532.328 1507.03 L540.592 1505.36 L545.268 1505.36 L545.268 1535.98 L552.907 1535.98 L552.907 1539.92 L532.999 1539.92 L532.999 1535.98 Z\" fill=\"#000000\" fill-rule=\"evenodd\" fill-opacity=\"1\" /><path clip-path=\"url(#clip0000)\" d=\"M 0 0 M567.976 1508.44 Q564.365 1508.44 562.536 1512 Q560.731 1515.55 560.731 1522.67 Q560.731 1529.78 562.536 1533.35 Q564.365 1536.89 567.976 1536.89 Q571.61 1536.89 573.416 1533.35 Q575.244 1529.78 575.244 1522.67 Q575.244 1515.55 573.416 1512 Q571.61 1508.44 567.976 1508.44 M567.976 1504.73 Q573.786 1504.73 576.842 1509.34 Q579.92 1513.92 579.92 1522.67 Q579.92 1531.4 576.842 1536.01 Q573.786 1540.59 567.976 1540.59 Q562.166 1540.59 559.087 1536.01 Q556.032 1531.4 556.032 1522.67 Q556.032 1513.92 559.087 1509.34 Q562.166 1504.73 567.976 1504.73 Z\" fill=\"#000000\" fill-rule=\"evenodd\" fill-opacity=\"1\" /><path clip-path=\"url(#clip0000)\" d=\"M 0 0 M922.648 1535.98 L938.967 1535.98 L938.967 1539.92 L917.023 1539.92 L917.023 1535.98 Q919.685 1533.23 924.268 1528.6 Q928.875 1523.95 930.055 1522.61 Q932.301 1520.08 933.18 1518.35 Q934.083 1516.59 934.083 1514.9 Q934.083 1512.14 932.139 1510.41 Q930.217 1508.67 927.116 1508.67 Q924.917 1508.67 922.463 1509.43 Q920.032 1510.2 917.255 1511.75 L917.255 1507.03 Q920.079 1505.89 922.532 1505.31 Q924.986 1504.73 927.023 1504.73 Q932.393 1504.73 935.588 1507.42 Q938.782 1510.11 938.782 1514.6 Q938.782 1516.73 937.972 1518.65 Q937.185 1520.54 935.079 1523.14 Q934.5 1523.81 931.398 1527.03 Q928.296 1530.22 922.648 1535.98 Z\" fill=\"#000000\" fill-rule=\"evenodd\" fill-opacity=\"1\" /><path clip-path=\"url(#clip0000)\" d=\"M 0 0 M954.037 1508.44 Q950.426 1508.44 948.597 1512 Q946.791 1515.55 946.791 1522.67 Q946.791 1529.78 948.597 1533.35 Q950.426 1536.89 954.037 1536.89 Q957.671 1536.89 959.477 1533.35 Q961.305 1529.78 961.305 1522.67 Q961.305 1515.55 959.477 1512 Q957.671 1508.44 954.037 1508.44 M954.037 1504.73 Q959.847 1504.73 962.902 1509.34 Q965.981 1513.92 965.981 1522.67 Q965.981 1531.4 962.902 1536.01 Q959.847 1540.59 954.037 1540.59 Q948.227 1540.59 945.148 1536.01 Q942.092 1531.4 942.092 1522.67 Q942.092 1513.92 945.148 1509.34 Q948.227 1504.73 954.037 1504.73 Z\" fill=\"#000000\" fill-rule=\"evenodd\" fill-opacity=\"1\" /><path clip-path=\"url(#clip0000)\" d=\"M 0 0 M1317.62 1521.29 Q1320.98 1522 1322.85 1524.27 Q1324.75 1526.54 1324.75 1529.87 Q1324.75 1534.99 1321.23 1537.79 Q1317.71 1540.59 1311.23 1540.59 Q1309.06 1540.59 1306.74 1540.15 Q1304.45 1539.73 1302 1538.88 L1302 1534.36 Q1303.94 1535.5 1306.26 1536.08 Q1308.57 1536.66 1311.09 1536.66 Q1315.49 1536.66 1317.78 1534.92 Q1320.1 1533.18 1320.1 1529.87 Q1320.1 1526.82 1317.94 1525.11 Q1315.82 1523.37 1312 1523.37 L1307.97 1523.37 L1307.97 1519.53 L1312.18 1519.53 Q1315.63 1519.53 1317.46 1518.16 Q1319.29 1516.77 1319.29 1514.18 Q1319.29 1511.52 1317.39 1510.11 Q1315.51 1508.67 1312 1508.67 Q1310.07 1508.67 1307.88 1509.09 Q1305.68 1509.5 1303.04 1510.38 L1303.04 1506.22 Q1305.7 1505.48 1308.01 1505.11 Q1310.35 1504.73 1312.41 1504.73 Q1317.74 1504.73 1320.84 1507.17 Q1323.94 1509.57 1323.94 1513.69 Q1323.94 1516.56 1322.3 1518.55 Q1320.65 1520.52 1317.62 1521.29 Z\" fill=\"#000000\" fill-rule=\"evenodd\" fill-opacity=\"1\" /><path clip-path=\"url(#clip0000)\" d=\"M 0 0 M1339.82 1508.44 Q1336.21 1508.44 1334.38 1512 Q1332.57 1515.55 1332.57 1522.67 Q1332.57 1529.78 1334.38 1533.35 Q1336.21 1536.89 1339.82 1536.89 Q1343.45 1536.89 1345.26 1533.35 Q1347.09 1529.78 1347.09 1522.67 Q1347.09 1515.55 1345.26 1512 Q1343.45 1508.44 1339.82 1508.44 M1339.82 1504.73 Q1345.63 1504.73 1348.69 1509.34 Q1351.76 1513.92 1351.76 1522.67 Q1351.76 1531.4 1348.69 1536.01 Q1345.63 1540.59 1339.82 1540.59 Q1334.01 1540.59 1330.93 1536.01 Q1327.88 1531.4 1327.88 1522.67 Q1327.88 1513.92 1330.93 1509.34 Q1334.01 1504.73 1339.82 1504.73 Z\" fill=\"#000000\" fill-rule=\"evenodd\" fill-opacity=\"1\" /><path clip-path=\"url(#clip0000)\" d=\"M 0 0 M1701.76 1509.43 L1689.95 1527.88 L1701.76 1527.88 L1701.76 1509.43 M1700.53 1505.36 L1706.41 1505.36 L1706.41 1527.88 L1711.34 1527.88 L1711.34 1531.77 L1706.41 1531.77 L1706.41 1539.92 L1701.76 1539.92 L1701.76 1531.77 L1686.16 1531.77 L1686.16 1527.26 L1700.53 1505.36 Z\" fill=\"#000000\" fill-rule=\"evenodd\" fill-opacity=\"1\" /><path clip-path=\"url(#clip0000)\" d=\"M 0 0 M1726.41 1508.44 Q1722.8 1508.44 1720.97 1512 Q1719.17 1515.55 1719.17 1522.67 Q1719.17 1529.78 1720.97 1533.35 Q1722.8 1536.89 1726.41 1536.89 Q1730.05 1536.89 1731.85 1533.35 Q1733.68 1529.78 1733.68 1522.67 Q1733.68 1515.55 1731.85 1512 Q1730.05 1508.44 1726.41 1508.44 M1726.41 1504.73 Q1732.22 1504.73 1735.28 1509.34 Q1738.36 1513.92 1738.36 1522.67 Q1738.36 1531.4 1735.28 1536.01 Q1732.22 1540.59 1726.41 1540.59 Q1720.6 1540.59 1717.52 1536.01 Q1714.47 1531.4 1714.47 1522.67 Q1714.47 1513.92 1717.52 1509.34 Q1720.6 1504.73 1726.41 1504.73 Z\" fill=\"#000000\" fill-rule=\"evenodd\" fill-opacity=\"1\" /><path clip-path=\"url(#clip0000)\" d=\"M 0 0 M2074.41 1505.36 L2092.76 1505.36 L2092.76 1509.3 L2078.69 1509.3 L2078.69 1517.77 Q2079.71 1517.42 2080.73 1517.26 Q2081.74 1517.07 2082.76 1517.07 Q2088.55 1517.07 2091.93 1520.24 Q2095.31 1523.42 2095.31 1528.83 Q2095.31 1534.41 2091.84 1537.51 Q2088.36 1540.59 2082.05 1540.59 Q2079.87 1540.59 2077.6 1540.22 Q2075.36 1539.85 2072.95 1539.11 L2072.95 1534.41 Q2075.03 1535.54 2077.25 1536.1 Q2079.48 1536.66 2081.95 1536.66 Q2085.96 1536.66 2088.3 1534.55 Q2090.63 1532.44 2090.63 1528.83 Q2090.63 1525.22 2088.3 1523.11 Q2085.96 1521.01 2081.95 1521.01 Q2080.08 1521.01 2078.2 1521.42 Q2076.35 1521.84 2074.41 1522.72 L2074.41 1505.36 Z\" fill=\"#000000\" fill-rule=\"evenodd\" fill-opacity=\"1\" /><path clip-path=\"url(#clip0000)\" d=\"M 0 0 M2110.38 1508.44 Q2106.77 1508.44 2104.94 1512 Q2103.13 1515.55 2103.13 1522.67 Q2103.13 1529.78 2104.94 1533.35 Q2106.77 1536.89 2110.38 1536.89 Q2114.01 1536.89 2115.82 1533.35 Q2117.65 1529.78 2117.65 1522.67 Q2117.65 1515.55 2115.82 1512 Q2114.01 1508.44 2110.38 1508.44 M2110.38 1504.73 Q2116.19 1504.73 2119.24 1509.34 Q2122.32 1513.92 2122.32 1522.67 Q2122.32 1531.4 2119.24 1536.01 Q2116.19 1540.59 2110.38 1540.59 Q2104.57 1540.59 2101.49 1536.01 Q2098.43 1531.4 2098.43 1522.67 Q2098.43 1513.92 2101.49 1509.34 Q2104.57 1504.73 2110.38 1504.73 Z\" fill=\"#000000\" fill-rule=\"evenodd\" fill-opacity=\"1\" /><path clip-path=\"url(#clip0000)\" d=\"M 0 0 M74.9365 1251.64 Q71.3254 1251.64 69.4967 1255.21 Q67.6912 1258.75 67.6912 1265.88 Q67.6912 1272.99 69.4967 1276.55 Q71.3254 1280.09 74.9365 1280.09 Q78.5707 1280.09 80.3763 1276.55 Q82.205 1272.99 82.205 1265.88 Q82.205 1258.75 80.3763 1255.21 Q78.5707 1251.64 74.9365 1251.64 M74.9365 1247.94 Q80.7467 1247.94 83.8022 1252.55 Q86.8809 1257.13 86.8809 1265.88 Q86.8809 1274.61 83.8022 1279.21 Q80.7467 1283.8 74.9365 1283.8 Q69.1264 1283.8 66.0477 1279.21 Q62.9921 1274.61 62.9921 1265.88 Q62.9921 1257.13 66.0477 1252.55 Q69.1264 1247.94 74.9365 1247.94 Z\" fill=\"#000000\" fill-rule=\"evenodd\" fill-opacity=\"1\" /><path clip-path=\"url(#clip0000)\" d=\"M 0 0 M91.9503 1277.24 L96.8345 1277.24 L96.8345 1283.12 L91.9503 1283.12 L91.9503 1277.24 Z\" fill=\"#000000\" fill-rule=\"evenodd\" fill-opacity=\"1\" /><path clip-path=\"url(#clip0000)\" d=\"M 0 0 M101.95 1248.56 L120.307 1248.56 L120.307 1252.5 L106.233 1252.5 L106.233 1260.97 Q107.251 1260.62 108.27 1260.46 Q109.288 1260.28 110.307 1260.28 Q116.094 1260.28 119.473 1263.45 Q122.853 1266.62 122.853 1272.04 Q122.853 1277.62 119.381 1280.72 Q115.909 1283.8 109.589 1283.8 Q107.413 1283.8 105.145 1283.43 Q102.899 1283.05 100.492 1282.31 L100.492 1277.62 Q102.575 1278.75 104.797 1279.3 Q107.02 1279.86 109.497 1279.86 Q113.501 1279.86 115.839 1277.75 Q118.177 1275.65 118.177 1272.04 Q118.177 1268.43 115.839 1266.32 Q113.501 1264.21 109.497 1264.21 Q107.622 1264.21 105.747 1264.63 Q103.895 1265.05 101.95 1265.93 L101.95 1248.56 Z\" fill=\"#000000\" fill-rule=\"evenodd\" fill-opacity=\"1\" /><path clip-path=\"url(#clip0000)\" d=\"M 0 0 M65.9782 989.074 L73.6171 989.074 L73.6171 962.708 L65.3069 964.375 L65.3069 960.116 L73.5708 958.449 L78.2467 958.449 L78.2467 989.074 L85.8855 989.074 L85.8855 993.009 L65.9782 993.009 L65.9782 989.074 Z\" fill=\"#000000\" fill-rule=\"evenodd\" fill-opacity=\"1\" /><path clip-path=\"url(#clip0000)\" d=\"M 0 0 M90.9549 987.129 L95.8392 987.129 L95.8392 993.009 L90.9549 993.009 L90.9549 987.129 Z\" fill=\"#000000\" fill-rule=\"evenodd\" fill-opacity=\"1\" /><path clip-path=\"url(#clip0000)\" d=\"M 0 0 M110.909 961.528 Q107.297 961.528 105.469 965.092 Q103.663 968.634 103.663 975.764 Q103.663 982.87 105.469 986.435 Q107.297 989.977 110.909 989.977 Q114.543 989.977 116.348 986.435 Q118.177 982.87 118.177 975.764 Q118.177 968.634 116.348 965.092 Q114.543 961.528 110.909 961.528 M110.909 957.824 Q116.719 957.824 119.774 962.43 Q122.853 967.014 122.853 975.764 Q122.853 984.49 119.774 989.097 Q116.719 993.68 110.909 993.68 Q105.098 993.68 102.02 989.097 Q98.9642 984.49 98.9642 975.764 Q98.9642 967.014 102.02 962.43 Q105.098 957.824 110.909 957.824 Z\" fill=\"#000000\" fill-rule=\"evenodd\" fill-opacity=\"1\" /><path clip-path=\"url(#clip0000)\" d=\"M 0 0 M66.9736 698.959 L74.6124 698.959 L74.6124 672.593 L66.3023 674.26 L66.3023 670 L74.5661 668.334 L79.242 668.334 L79.242 698.959 L86.8809 698.959 L86.8809 702.894 L66.9736 702.894 L66.9736 698.959 Z\" fill=\"#000000\" fill-rule=\"evenodd\" fill-opacity=\"1\" /><path clip-path=\"url(#clip0000)\" d=\"M 0 0 M91.9503 697.014 L96.8345 697.014 L96.8345 702.894 L91.9503 702.894 L91.9503 697.014 Z\" fill=\"#000000\" fill-rule=\"evenodd\" fill-opacity=\"1\" /><path clip-path=\"url(#clip0000)\" d=\"M 0 0 M101.95 668.334 L120.307 668.334 L120.307 672.269 L106.233 672.269 L106.233 680.741 Q107.251 680.394 108.27 680.232 Q109.288 680.047 110.307 680.047 Q116.094 680.047 119.473 683.218 Q122.853 686.389 122.853 691.806 Q122.853 697.384 119.381 700.486 Q115.909 703.565 109.589 703.565 Q107.413 703.565 105.145 703.195 Q102.899 702.824 100.492 702.084 L100.492 697.384 Q102.575 698.519 104.797 699.074 Q107.02 699.63 109.497 699.63 Q113.501 699.63 115.839 697.523 Q118.177 695.417 118.177 691.806 Q118.177 688.195 115.839 686.088 Q113.501 683.982 109.497 683.982 Q107.622 683.982 105.747 684.398 Q103.895 684.815 101.95 685.695 L101.95 668.334 Z\" fill=\"#000000\" fill-rule=\"evenodd\" fill-opacity=\"1\" /><path clip-path=\"url(#clip0000)\" d=\"M 0 0 M69.5662 408.843 L85.8855 408.843 L85.8855 412.778 L63.9412 412.778 L63.9412 408.843 Q66.6032 406.089 71.1865 401.459 Q75.793 396.806 76.9735 395.464 Q79.2189 392.941 80.0985 391.204 Q81.0013 389.445 81.0013 387.755 Q81.0013 385.001 79.0569 383.265 Q77.1356 381.529 74.0337 381.529 Q71.8347 381.529 69.381 382.293 Q66.9504 383.056 64.1727 384.607 L64.1727 379.885 Q66.9967 378.751 69.4504 378.172 Q71.9041 377.593 73.9411 377.593 Q79.3115 377.593 82.5059 380.279 Q85.7003 382.964 85.7003 387.455 Q85.7003 389.584 84.8902 391.505 Q84.1031 393.404 81.9967 395.996 Q81.418 396.667 78.3161 399.885 Q75.2143 403.079 69.5662 408.843 Z\" fill=\"#000000\" fill-rule=\"evenodd\" fill-opacity=\"1\" /><path clip-path=\"url(#clip0000)\" d=\"M 0 0 M90.9549 406.899 L95.8392 406.899 L95.8392 412.778 L90.9549 412.778 L90.9549 406.899 Z\" fill=\"#000000\" fill-rule=\"evenodd\" fill-opacity=\"1\" /><path clip-path=\"url(#clip0000)\" d=\"M 0 0 M110.909 381.297 Q107.297 381.297 105.469 384.862 Q103.663 388.404 103.663 395.533 Q103.663 402.64 105.469 406.204 Q107.297 409.746 110.909 409.746 Q114.543 409.746 116.348 406.204 Q118.177 402.64 118.177 395.533 Q118.177 388.404 116.348 384.862 Q114.543 381.297 110.909 381.297 M110.909 377.593 Q116.719 377.593 119.774 382.2 Q122.853 386.783 122.853 395.533 Q122.853 404.26 119.774 408.866 Q116.719 413.45 110.909 413.45 Q105.098 413.45 102.02 408.866 Q98.9642 404.26 98.9642 395.533 Q98.9642 386.783 102.02 382.2 Q105.098 377.593 110.909 377.593 Z\" fill=\"#000000\" fill-rule=\"evenodd\" fill-opacity=\"1\" /><path clip-path=\"url(#clip0000)\" d=\"M 0 0 M70.5615 118.728 L86.8809 118.728 L86.8809 122.663 L64.9366 122.663 L64.9366 118.728 Q67.5986 115.973 72.1819 111.344 Q76.7883 106.691 77.9689 105.348 Q80.2143 102.825 81.0939 101.089 Q81.9967 99.33 81.9967 97.6402 Q81.9967 94.8856 80.0522 93.1495 Q78.1309 91.4134 75.0291 91.4134 Q72.83 91.4134 70.3763 92.1772 Q67.9458 92.9411 65.168 94.492 L65.168 89.7699 Q67.9921 88.6356 70.4458 88.0569 Q72.8995 87.4782 74.9365 87.4782 Q80.3068 87.4782 83.5013 90.1634 Q86.6957 92.8485 86.6957 97.3393 Q86.6957 99.4689 85.8855 101.39 Q85.0985 103.288 82.992 105.881 Q82.4133 106.552 79.3115 109.77 Q76.2096 112.964 70.5615 118.728 Z\" fill=\"#000000\" fill-rule=\"evenodd\" fill-opacity=\"1\" /><path clip-path=\"url(#clip0000)\" d=\"M 0 0 M91.9503 116.784 L96.8345 116.784 L96.8345 122.663 L91.9503 122.663 L91.9503 116.784 Z\" fill=\"#000000\" fill-rule=\"evenodd\" fill-opacity=\"1\" /><path clip-path=\"url(#clip0000)\" d=\"M 0 0 M101.95 88.1032 L120.307 88.1032 L120.307 92.0384 L106.233 92.0384 L106.233 100.511 Q107.251 100.163 108.27 100.001 Q109.288 99.8161 110.307 99.8161 Q116.094 99.8161 119.473 102.987 Q122.853 106.159 122.853 111.575 Q122.853 117.154 119.381 120.256 Q115.909 123.334 109.589 123.334 Q107.413 123.334 105.145 122.964 Q102.899 122.594 100.492 121.853 L100.492 117.154 Q102.575 118.288 104.797 118.844 Q107.02 119.399 109.497 119.399 Q113.501 119.399 115.839 117.293 Q118.177 115.186 118.177 111.575 Q118.177 107.964 115.839 105.858 Q113.501 103.751 109.497 103.751 Q107.622 103.751 105.747 104.168 Q103.895 104.585 101.95 105.464 L101.95 88.1032 Z\" fill=\"#000000\" fill-rule=\"evenodd\" fill-opacity=\"1\" /><polyline clip-path=\"url(#clip0002)\" style=\"stroke:#009af9; stroke-width:4; stroke-opacity:1; fill:none\" points=\"\n",
       "  209.284,1445.72 247.822,1428.31 286.36,1393.49 324.897,1329.67 363.435,1260.04 401.973,1167.21 440.511,1080.17 479.049,993.136 517.586,923.508 556.124,871.287 \n",
       "  594.662,836.474 633.2,784.253 671.738,749.439 710.275,691.416 748.813,627.591 787.351,563.765 825.889,517.347 864.427,465.126 902.964,441.917 941.502,447.719 \n",
       "  980.04,511.545 1018.58,604.381 1057.12,708.823 1095.65,790.055 1134.19,836.474 1172.73,853.881 1211.27,824.869 1249.8,795.858 1288.34,795.858 1326.88,824.869 \n",
       "  1365.42,865.485 1403.96,923.508 1442.49,964.124 1481.03,958.322 1519.57,906.101 1558.11,824.869 1596.64,772.648 1635.18,772.648 1673.72,830.671 1712.26,894.497 \n",
       "  1750.8,940.915 1789.33,958.322 1827.87,969.927 1866.41,969.927 1904.95,958.322 1943.48,946.717 1982.02,894.497 2020.56,813.264 2059.1,714.625 2097.64,639.195 \n",
       "  2136.17,610.184 2174.71,644.998 2213.25,720.428 2251.79,801.66 2290.32,859.683 \n",
       "  \"/>\n",
       "<polyline clip-path=\"url(#clip0002)\" style=\"stroke:#e26f46; stroke-width:4; stroke-opacity:1; fill:none\" points=\"\n",
       "  209.284,1144 247.822,1144 286.36,1114.98 324.897,1051.16 363.435,975.729 401.973,888.694 440.511,807.462 479.049,732.032 517.586,674.009 556.124,627.591 \n",
       "  594.662,592.777 633.2,552.161 671.738,511.545 710.275,470.928 748.813,418.708 787.351,366.487 825.889,320.068 864.427,279.452 902.964,262.045 941.502,279.452 \n",
       "  980.04,349.08 1018.58,453.522 1057.12,563.765 1095.65,656.602 1134.19,703.021 1172.73,708.823 1211.27,685.614 1249.8,662.404 1288.34,668.207 1326.88,697.218 \n",
       "  1365.42,743.637 1403.96,795.858 1442.49,836.474 1481.03,836.474 1519.57,784.253 1558.11,708.823 1596.64,656.602 1635.18,662.404 1673.72,714.625 1712.26,784.253 \n",
       "  1750.8,836.474 1789.33,853.881 1827.87,865.485 1866.41,865.485 1904.95,853.881 1943.48,836.474 1982.02,784.253 2020.56,708.823 2059.1,615.986 2097.64,546.358 \n",
       "  2136.17,517.347 2174.71,552.161 2213.25,633.393 2251.79,714.625 2290.32,772.648 \n",
       "  \"/>\n",
       "<polyline clip-path=\"url(#clip0002)\" style=\"stroke:#3da44d; stroke-width:4; stroke-opacity:1; fill:none\" points=\"\n",
       "  209.284,801.66 247.822,813.264 286.36,801.66 324.897,755.241 363.435,691.416 401.973,615.986 440.511,534.754 479.049,470.928 517.586,424.51 556.124,389.696 \n",
       "  594.662,354.882 633.2,320.068 671.738,291.057 710.275,256.243 748.813,204.022 787.351,163.406 825.889,116.988 864.427,87.9763 902.964,87.9763 941.502,111.185 \n",
       "  980.04,198.22 1018.58,308.464 1057.12,424.51 1095.65,517.347 1134.19,557.963 1172.73,563.765 1211.27,552.161 1249.8,528.951 1288.34,534.754 1326.88,569.568 \n",
       "  1365.42,621.788 1403.96,674.009 1442.49,708.823 1481.03,720.428 1519.57,662.404 1558.11,586.975 1596.64,540.556 1635.18,546.358 1673.72,604.381 1712.26,674.009 \n",
       "  1750.8,732.032 1789.33,749.439 1827.87,755.241 1866.41,761.044 1904.95,749.439 1943.48,726.23 1982.02,679.811 2020.56,610.184 2059.1,517.347 2097.64,453.522 \n",
       "  2136.17,430.312 2174.71,459.324 2213.25,540.556 2251.79,633.393 2290.32,679.811 \n",
       "  \"/>\n",
       "<path clip-path=\"url(#clip0000)\" d=\"\n",
       "M1989.16 372.684 L2280.76 372.684 L2280.76 130.764 L1989.16 130.764  Z\n",
       "  \" fill=\"#ffffff\" fill-rule=\"evenodd\" fill-opacity=\"1\"/>\n",
       "<polyline clip-path=\"url(#clip0000)\" style=\"stroke:#000000; stroke-width:4; stroke-opacity:1; fill:none\" points=\"\n",
       "  1989.16,372.684 2280.76,372.684 2280.76,130.764 1989.16,130.764 1989.16,372.684 \n",
       "  \"/>\n",
       "<polyline clip-path=\"url(#clip0000)\" style=\"stroke:#009af9; stroke-width:4; stroke-opacity:1; fill:none\" points=\"\n",
       "  2013.16,191.244 2157.16,191.244 \n",
       "  \"/>\n",
       "<path clip-path=\"url(#clip0000)\" d=\"M 0 0 M2195 210.931 Q2193.2 215.561 2191.48 216.973 Q2189.77 218.385 2186.9 218.385 L2183.5 218.385 L2183.5 214.82 L2186 214.82 Q2187.76 214.82 2188.73 213.987 Q2189.7 213.154 2190.88 210.052 L2191.65 208.107 L2181.16 182.598 L2185.67 182.598 L2193.77 202.876 L2201.88 182.598 L2206.39 182.598 L2195 210.931 Z\" fill=\"#000000\" fill-rule=\"evenodd\" fill-opacity=\"1\" /><path clip-path=\"url(#clip0000)\" d=\"M 0 0 M2212.27 204.589 L2219.91 204.589 L2219.91 178.223 L2211.6 179.89 L2211.6 175.631 L2219.86 173.964 L2224.54 173.964 L2224.54 204.589 L2232.18 204.589 L2232.18 208.524 L2212.27 208.524 L2212.27 204.589 Z\" fill=\"#000000\" fill-rule=\"evenodd\" fill-opacity=\"1\" /><polyline clip-path=\"url(#clip0000)\" style=\"stroke:#e26f46; stroke-width:4; stroke-opacity:1; fill:none\" points=\"\n",
       "  2013.16,251.724 2157.16,251.724 \n",
       "  \"/>\n",
       "<path clip-path=\"url(#clip0000)\" d=\"M 0 0 M2195 271.411 Q2193.2 276.041 2191.48 277.453 Q2189.77 278.865 2186.9 278.865 L2183.5 278.865 L2183.5 275.3 L2186 275.3 Q2187.76 275.3 2188.73 274.467 Q2189.7 273.634 2190.88 270.532 L2191.65 268.587 L2181.16 243.078 L2185.67 243.078 L2193.77 263.356 L2201.88 243.078 L2206.39 243.078 L2195 271.411 Z\" fill=\"#000000\" fill-rule=\"evenodd\" fill-opacity=\"1\" /><path clip-path=\"url(#clip0000)\" d=\"M 0 0 M2215.49 265.069 L2231.81 265.069 L2231.81 269.004 L2209.86 269.004 L2209.86 265.069 Q2212.52 262.314 2217.11 257.685 Q2221.71 253.032 2222.89 251.689 Q2225.14 249.166 2226.02 247.43 Q2226.92 245.671 2226.92 243.981 Q2226.92 241.226 2224.98 239.49 Q2223.06 237.754 2219.96 237.754 Q2217.76 237.754 2215.3 238.518 Q2212.87 239.282 2210.09 240.833 L2210.09 236.111 Q2212.92 234.976 2215.37 234.398 Q2217.83 233.819 2219.86 233.819 Q2225.23 233.819 2228.43 236.504 Q2231.62 239.189 2231.62 243.68 Q2231.62 245.81 2230.81 247.731 Q2230.02 249.629 2227.92 252.222 Q2227.34 252.893 2224.24 256.111 Q2221.14 259.305 2215.49 265.069 Z\" fill=\"#000000\" fill-rule=\"evenodd\" fill-opacity=\"1\" /><polyline clip-path=\"url(#clip0000)\" style=\"stroke:#3da44d; stroke-width:4; stroke-opacity:1; fill:none\" points=\"\n",
       "  2013.16,312.204 2157.16,312.204 \n",
       "  \"/>\n",
       "<path clip-path=\"url(#clip0000)\" d=\"M 0 0 M2195 331.891 Q2193.2 336.521 2191.48 337.933 Q2189.77 339.345 2186.9 339.345 L2183.5 339.345 L2183.5 335.78 L2186 335.78 Q2187.76 335.78 2188.73 334.947 Q2189.7 334.114 2190.88 331.012 L2191.65 329.067 L2181.16 303.558 L2185.67 303.558 L2193.77 323.836 L2201.88 303.558 L2206.39 303.558 L2195 331.891 Z\" fill=\"#000000\" fill-rule=\"evenodd\" fill-opacity=\"1\" /><path clip-path=\"url(#clip0000)\" d=\"M 0 0 M2225.63 310.85 Q2228.98 311.568 2230.86 313.836 Q2232.76 316.105 2232.76 319.438 Q2232.76 324.554 2229.24 327.354 Q2225.72 330.155 2219.24 330.155 Q2217.06 330.155 2214.75 329.716 Q2212.46 329.299 2210 328.442 L2210 323.929 Q2211.95 325.063 2214.26 325.642 Q2216.58 326.22 2219.1 326.22 Q2223.5 326.22 2225.79 324.484 Q2228.1 322.748 2228.1 319.438 Q2228.1 316.382 2225.95 314.669 Q2223.82 312.933 2220 312.933 L2215.97 312.933 L2215.97 309.091 L2220.19 309.091 Q2223.64 309.091 2225.46 307.725 Q2227.29 306.336 2227.29 303.743 Q2227.29 301.081 2225.39 299.669 Q2223.52 298.234 2220 298.234 Q2218.08 298.234 2215.88 298.651 Q2213.68 299.068 2211.04 299.947 L2211.04 295.781 Q2213.71 295.04 2216.02 294.669 Q2218.36 294.299 2220.42 294.299 Q2225.74 294.299 2228.84 296.73 Q2231.95 299.137 2231.95 303.257 Q2231.95 306.128 2230.3 308.118 Q2228.66 310.086 2225.63 310.85 Z\" fill=\"#000000\" fill-rule=\"evenodd\" fill-opacity=\"1\" /></svg>\n"
      ]
     },
     "execution_count": 51,
     "metadata": {},
     "output_type": "execute_result"
    }
   ],
   "source": [
    "india = sum([dailies_for_state(code) for code in keys(india_state_codes) if state_data_available(code)])\n",
    "rt_india = run_for_state(map(x -> trunc(Int, round(x)), truefilter(india, 5)))\n",
    "plot([rt_india[\"p05\"],rt_india[\"rt\"],rt_india[\"p95\"]])"
   ]
  },
  {
   "cell_type": "code",
   "execution_count": 52,
   "metadata": {},
   "outputs": [],
   "source": [
    "rt_india[\"daily_cases\"] = india\n",
    "rt_india[\"date\"] = date_series\n",
    "\n",
    "open(\"data/rt_india.json\", \"w\") do f\n",
    "    JSON.print(f, rt_india)\n",
    "end"
   ]
  },
  {
   "cell_type": "code",
   "execution_count": 53,
   "metadata": {},
   "outputs": [
    {
     "data": {
      "text/plain": [
       "plot_state (generic function with 1 method)"
      ]
     },
     "execution_count": 53,
     "metadata": {},
     "output_type": "execute_result"
    }
   ],
   "source": [
    "plot_state(sc) = plot([rt_results[sc][\"p05\"],rt_results[sc][\"rt\"],rt_results[sc][\"p95\"]])"
   ]
  },
  {
   "cell_type": "code",
   "execution_count": 54,
   "metadata": {},
   "outputs": [
    {
     "data": {
      "image/svg+xml": [
       "<?xml version=\"1.0\" encoding=\"utf-8\"?>\n",
       "<svg xmlns=\"http://www.w3.org/2000/svg\" xmlns:xlink=\"http://www.w3.org/1999/xlink\" width=\"600\" height=\"400\" viewBox=\"0 0 2400 1600\">\n",
       "<defs>\n",
       "  <clipPath id=\"clip0400\">\n",
       "    <rect x=\"0\" y=\"0\" width=\"2400\" height=\"1600\"/>\n",
       "  </clipPath>\n",
       "</defs>\n",
       "<path clip-path=\"url(#clip0400)\" d=\"\n",
       "M0 1600 L2400 1600 L2400 0 L0 0  Z\n",
       "  \" fill=\"#ffffff\" fill-rule=\"evenodd\" fill-opacity=\"1\"/>\n",
       "<defs>\n",
       "  <clipPath id=\"clip0401\">\n",
       "    <rect x=\"480\" y=\"0\" width=\"1681\" height=\"1600\"/>\n",
       "  </clipPath>\n",
       "</defs>\n",
       "<path clip-path=\"url(#clip0400)\" d=\"\n",
       "M146.853 1486.45 L2352.76 1486.45 L2352.76 47.2441 L146.853 47.2441  Z\n",
       "  \" fill=\"#ffffff\" fill-rule=\"evenodd\" fill-opacity=\"1\"/>\n",
       "<defs>\n",
       "  <clipPath id=\"clip0402\">\n",
       "    <rect x=\"146\" y=\"47\" width=\"2207\" height=\"1440\"/>\n",
       "  </clipPath>\n",
       "</defs>\n",
       "<polyline clip-path=\"url(#clip0402)\" style=\"stroke:#000000; stroke-width:2; stroke-opacity:0.1; fill:none\" points=\"\n",
       "  486.756,1486.45 486.756,47.2441 \n",
       "  \"/>\n",
       "<polyline clip-path=\"url(#clip0402)\" style=\"stroke:#000000; stroke-width:2; stroke-opacity:0.1; fill:none\" points=\"\n",
       "  833.596,1486.45 833.596,47.2441 \n",
       "  \"/>\n",
       "<polyline clip-path=\"url(#clip0402)\" style=\"stroke:#000000; stroke-width:2; stroke-opacity:0.1; fill:none\" points=\"\n",
       "  1180.44,1486.45 1180.44,47.2441 \n",
       "  \"/>\n",
       "<polyline clip-path=\"url(#clip0402)\" style=\"stroke:#000000; stroke-width:2; stroke-opacity:0.1; fill:none\" points=\"\n",
       "  1527.28,1486.45 1527.28,47.2441 \n",
       "  \"/>\n",
       "<polyline clip-path=\"url(#clip0402)\" style=\"stroke:#000000; stroke-width:2; stroke-opacity:0.1; fill:none\" points=\"\n",
       "  1874.12,1486.45 1874.12,47.2441 \n",
       "  \"/>\n",
       "<polyline clip-path=\"url(#clip0402)\" style=\"stroke:#000000; stroke-width:2; stroke-opacity:0.1; fill:none\" points=\"\n",
       "  2220.96,1486.45 2220.96,47.2441 \n",
       "  \"/>\n",
       "<polyline clip-path=\"url(#clip0402)\" style=\"stroke:#000000; stroke-width:2; stroke-opacity:0.1; fill:none\" points=\"\n",
       "  146.853,1385.74 2352.76,1385.74 \n",
       "  \"/>\n",
       "<polyline clip-path=\"url(#clip0402)\" style=\"stroke:#000000; stroke-width:2; stroke-opacity:0.1; fill:none\" points=\"\n",
       "  146.853,1113.1 2352.76,1113.1 \n",
       "  \"/>\n",
       "<polyline clip-path=\"url(#clip0402)\" style=\"stroke:#000000; stroke-width:2; stroke-opacity:0.1; fill:none\" points=\"\n",
       "  146.853,840.458 2352.76,840.458 \n",
       "  \"/>\n",
       "<polyline clip-path=\"url(#clip0402)\" style=\"stroke:#000000; stroke-width:2; stroke-opacity:0.1; fill:none\" points=\"\n",
       "  146.853,567.82 2352.76,567.82 \n",
       "  \"/>\n",
       "<polyline clip-path=\"url(#clip0402)\" style=\"stroke:#000000; stroke-width:2; stroke-opacity:0.1; fill:none\" points=\"\n",
       "  146.853,295.181 2352.76,295.181 \n",
       "  \"/>\n",
       "<polyline clip-path=\"url(#clip0400)\" style=\"stroke:#000000; stroke-width:4; stroke-opacity:1; fill:none\" points=\"\n",
       "  146.853,1486.45 2352.76,1486.45 \n",
       "  \"/>\n",
       "<polyline clip-path=\"url(#clip0400)\" style=\"stroke:#000000; stroke-width:4; stroke-opacity:1; fill:none\" points=\"\n",
       "  146.853,1486.45 146.853,47.2441 \n",
       "  \"/>\n",
       "<polyline clip-path=\"url(#clip0400)\" style=\"stroke:#000000; stroke-width:4; stroke-opacity:1; fill:none\" points=\"\n",
       "  486.756,1486.45 486.756,1469.18 \n",
       "  \"/>\n",
       "<polyline clip-path=\"url(#clip0400)\" style=\"stroke:#000000; stroke-width:4; stroke-opacity:1; fill:none\" points=\"\n",
       "  833.596,1486.45 833.596,1469.18 \n",
       "  \"/>\n",
       "<polyline clip-path=\"url(#clip0400)\" style=\"stroke:#000000; stroke-width:4; stroke-opacity:1; fill:none\" points=\"\n",
       "  1180.44,1486.45 1180.44,1469.18 \n",
       "  \"/>\n",
       "<polyline clip-path=\"url(#clip0400)\" style=\"stroke:#000000; stroke-width:4; stroke-opacity:1; fill:none\" points=\"\n",
       "  1527.28,1486.45 1527.28,1469.18 \n",
       "  \"/>\n",
       "<polyline clip-path=\"url(#clip0400)\" style=\"stroke:#000000; stroke-width:4; stroke-opacity:1; fill:none\" points=\"\n",
       "  1874.12,1486.45 1874.12,1469.18 \n",
       "  \"/>\n",
       "<polyline clip-path=\"url(#clip0400)\" style=\"stroke:#000000; stroke-width:4; stroke-opacity:1; fill:none\" points=\"\n",
       "  2220.96,1486.45 2220.96,1469.18 \n",
       "  \"/>\n",
       "<polyline clip-path=\"url(#clip0400)\" style=\"stroke:#000000; stroke-width:4; stroke-opacity:1; fill:none\" points=\"\n",
       "  146.853,1385.74 173.324,1385.74 \n",
       "  \"/>\n",
       "<polyline clip-path=\"url(#clip0400)\" style=\"stroke:#000000; stroke-width:4; stroke-opacity:1; fill:none\" points=\"\n",
       "  146.853,1113.1 173.324,1113.1 \n",
       "  \"/>\n",
       "<polyline clip-path=\"url(#clip0400)\" style=\"stroke:#000000; stroke-width:4; stroke-opacity:1; fill:none\" points=\"\n",
       "  146.853,840.458 173.324,840.458 \n",
       "  \"/>\n",
       "<polyline clip-path=\"url(#clip0400)\" style=\"stroke:#000000; stroke-width:4; stroke-opacity:1; fill:none\" points=\"\n",
       "  146.853,567.82 173.324,567.82 \n",
       "  \"/>\n",
       "<polyline clip-path=\"url(#clip0400)\" style=\"stroke:#000000; stroke-width:4; stroke-opacity:1; fill:none\" points=\"\n",
       "  146.853,295.181 173.324,295.181 \n",
       "  \"/>\n",
       "<path clip-path=\"url(#clip0400)\" d=\"M 0 0 M477.034 1505.36 L495.39 1505.36 L495.39 1509.3 L481.316 1509.3 L481.316 1517.77 Q482.335 1517.42 483.353 1517.26 Q484.372 1517.07 485.39 1517.07 Q491.177 1517.07 494.557 1520.24 Q497.937 1523.42 497.937 1528.83 Q497.937 1534.41 494.464 1537.51 Q490.992 1540.59 484.673 1540.59 Q482.497 1540.59 480.228 1540.22 Q477.983 1539.85 475.576 1539.11 L475.576 1534.41 Q477.659 1535.54 479.881 1536.1 Q482.103 1536.66 484.58 1536.66 Q488.585 1536.66 490.923 1534.55 Q493.261 1532.44 493.261 1528.83 Q493.261 1525.22 490.923 1523.11 Q488.585 1521.01 484.58 1521.01 Q482.705 1521.01 480.83 1521.42 Q478.978 1521.84 477.034 1522.72 L477.034 1505.36 Z\" fill=\"#000000\" fill-rule=\"evenodd\" fill-opacity=\"1\" /><path clip-path=\"url(#clip0400)\" d=\"M 0 0 M810.471 1535.98 L818.11 1535.98 L818.11 1509.62 L809.8 1511.29 L809.8 1507.03 L818.064 1505.36 L822.74 1505.36 L822.74 1535.98 L830.379 1535.98 L830.379 1539.92 L810.471 1539.92 L810.471 1535.98 Z\" fill=\"#000000\" fill-rule=\"evenodd\" fill-opacity=\"1\" /><path clip-path=\"url(#clip0400)\" d=\"M 0 0 M845.448 1508.44 Q841.837 1508.44 840.008 1512 Q838.203 1515.55 838.203 1522.67 Q838.203 1529.78 840.008 1533.35 Q841.837 1536.89 845.448 1536.89 Q849.082 1536.89 850.888 1533.35 Q852.717 1529.78 852.717 1522.67 Q852.717 1515.55 850.888 1512 Q849.082 1508.44 845.448 1508.44 M845.448 1504.73 Q851.258 1504.73 854.314 1509.34 Q857.392 1513.92 857.392 1522.67 Q857.392 1531.4 854.314 1536.01 Q851.258 1540.59 845.448 1540.59 Q839.638 1540.59 836.559 1536.01 Q833.504 1531.4 833.504 1522.67 Q833.504 1513.92 836.559 1509.34 Q839.638 1504.73 845.448 1504.73 Z\" fill=\"#000000\" fill-rule=\"evenodd\" fill-opacity=\"1\" /><path clip-path=\"url(#clip0400)\" d=\"M 0 0 M1157.81 1535.98 L1165.45 1535.98 L1165.45 1509.62 L1157.14 1511.29 L1157.14 1507.03 L1165.4 1505.36 L1170.08 1505.36 L1170.08 1535.98 L1177.72 1535.98 L1177.72 1539.92 L1157.81 1539.92 L1157.81 1535.98 Z\" fill=\"#000000\" fill-rule=\"evenodd\" fill-opacity=\"1\" /><path clip-path=\"url(#clip0400)\" d=\"M 0 0 M1182.83 1505.36 L1201.19 1505.36 L1201.19 1509.3 L1187.11 1509.3 L1187.11 1517.77 Q1188.13 1517.42 1189.15 1517.26 Q1190.17 1517.07 1191.19 1517.07 Q1196.98 1517.07 1200.36 1520.24 Q1203.73 1523.42 1203.73 1528.83 Q1203.73 1534.41 1200.26 1537.51 Q1196.79 1540.59 1190.47 1540.59 Q1188.3 1540.59 1186.03 1540.22 Q1183.78 1539.85 1181.37 1539.11 L1181.37 1534.41 Q1183.46 1535.54 1185.68 1536.1 Q1187.9 1536.66 1190.38 1536.66 Q1194.38 1536.66 1196.72 1534.55 Q1199.06 1532.44 1199.06 1528.83 Q1199.06 1525.22 1196.72 1523.11 Q1194.38 1521.01 1190.38 1521.01 Q1188.5 1521.01 1186.63 1521.42 Q1184.78 1521.84 1182.83 1522.72 L1182.83 1505.36 Z\" fill=\"#000000\" fill-rule=\"evenodd\" fill-opacity=\"1\" /><path clip-path=\"url(#clip0400)\" d=\"M 0 0 M1508.42 1535.98 L1524.74 1535.98 L1524.74 1539.92 L1502.8 1539.92 L1502.8 1535.98 Q1505.46 1533.23 1510.04 1528.6 Q1514.65 1523.95 1515.83 1522.61 Q1518.08 1520.08 1518.95 1518.35 Q1519.86 1516.59 1519.86 1514.9 Q1519.86 1512.14 1517.91 1510.41 Q1515.99 1508.67 1512.89 1508.67 Q1510.69 1508.67 1508.24 1509.43 Q1505.81 1510.2 1503.03 1511.75 L1503.03 1507.03 Q1505.85 1505.89 1508.31 1505.31 Q1510.76 1504.73 1512.8 1504.73 Q1518.17 1504.73 1521.36 1507.42 Q1524.56 1510.11 1524.56 1514.6 Q1524.56 1516.73 1523.75 1518.65 Q1522.96 1520.54 1520.85 1523.14 Q1520.27 1523.81 1517.17 1527.03 Q1514.07 1530.22 1508.42 1535.98 Z\" fill=\"#000000\" fill-rule=\"evenodd\" fill-opacity=\"1\" /><path clip-path=\"url(#clip0400)\" d=\"M 0 0 M1539.81 1508.44 Q1536.2 1508.44 1534.37 1512 Q1532.57 1515.55 1532.57 1522.67 Q1532.57 1529.78 1534.37 1533.35 Q1536.2 1536.89 1539.81 1536.89 Q1543.45 1536.89 1545.25 1533.35 Q1547.08 1529.78 1547.08 1522.67 Q1547.08 1515.55 1545.25 1512 Q1543.45 1508.44 1539.81 1508.44 M1539.81 1504.73 Q1545.62 1504.73 1548.68 1509.34 Q1551.76 1513.92 1551.76 1522.67 Q1551.76 1531.4 1548.68 1536.01 Q1545.62 1540.59 1539.81 1540.59 Q1534 1540.59 1530.92 1536.01 Q1527.87 1531.4 1527.87 1522.67 Q1527.87 1513.92 1530.92 1509.34 Q1534 1504.73 1539.81 1504.73 Z\" fill=\"#000000\" fill-rule=\"evenodd\" fill-opacity=\"1\" /><path clip-path=\"url(#clip0400)\" d=\"M 0 0 M1855.76 1535.98 L1872.08 1535.98 L1872.08 1539.92 L1850.14 1539.92 L1850.14 1535.98 Q1852.8 1533.23 1857.38 1528.6 Q1861.99 1523.95 1863.17 1522.61 Q1865.41 1520.08 1866.29 1518.35 Q1867.2 1516.59 1867.2 1514.9 Q1867.2 1512.14 1865.25 1510.41 Q1863.33 1508.67 1860.23 1508.67 Q1858.03 1508.67 1855.58 1509.43 Q1853.14 1510.2 1850.37 1511.75 L1850.37 1507.03 Q1853.19 1505.89 1855.64 1505.31 Q1858.1 1504.73 1860.14 1504.73 Q1865.51 1504.73 1868.7 1507.42 Q1871.89 1510.11 1871.89 1514.6 Q1871.89 1516.73 1871.08 1518.65 Q1870.3 1520.54 1868.19 1523.14 Q1867.61 1523.81 1864.51 1527.03 Q1861.41 1530.22 1855.76 1535.98 Z\" fill=\"#000000\" fill-rule=\"evenodd\" fill-opacity=\"1\" /><path clip-path=\"url(#clip0400)\" d=\"M 0 0 M1877.2 1505.36 L1895.55 1505.36 L1895.55 1509.3 L1881.48 1509.3 L1881.48 1517.77 Q1882.5 1517.42 1883.51 1517.26 Q1884.53 1517.07 1885.55 1517.07 Q1891.34 1517.07 1894.72 1520.24 Q1898.1 1523.42 1898.1 1528.83 Q1898.1 1534.41 1894.63 1537.51 Q1891.15 1540.59 1884.83 1540.59 Q1882.66 1540.59 1880.39 1540.22 Q1878.14 1539.85 1875.74 1539.11 L1875.74 1534.41 Q1877.82 1535.54 1880.04 1536.1 Q1882.26 1536.66 1884.74 1536.66 Q1888.75 1536.66 1891.08 1534.55 Q1893.42 1532.44 1893.42 1528.83 Q1893.42 1525.22 1891.08 1523.11 Q1888.75 1521.01 1884.74 1521.01 Q1882.87 1521.01 1880.99 1521.42 Q1879.14 1521.84 1877.2 1522.72 L1877.2 1505.36 Z\" fill=\"#000000\" fill-rule=\"evenodd\" fill-opacity=\"1\" /><path clip-path=\"url(#clip0400)\" d=\"M 0 0 M2211.7 1521.29 Q2215.05 1522 2216.93 1524.27 Q2218.83 1526.54 2218.83 1529.87 Q2218.83 1534.99 2215.31 1537.79 Q2211.79 1540.59 2205.31 1540.59 Q2203.13 1540.59 2200.82 1540.15 Q2198.53 1539.73 2196.07 1538.88 L2196.07 1534.36 Q2198.02 1535.5 2200.33 1536.08 Q2202.65 1536.66 2205.17 1536.66 Q2209.57 1536.66 2211.86 1534.92 Q2214.17 1533.18 2214.17 1529.87 Q2214.17 1526.82 2212.02 1525.11 Q2209.89 1523.37 2206.07 1523.37 L2202.04 1523.37 L2202.04 1519.53 L2206.26 1519.53 Q2209.71 1519.53 2211.54 1518.16 Q2213.36 1516.77 2213.36 1514.18 Q2213.36 1511.52 2211.47 1510.11 Q2209.59 1508.67 2206.07 1508.67 Q2204.15 1508.67 2201.95 1509.09 Q2199.75 1509.5 2197.11 1510.38 L2197.11 1506.22 Q2199.78 1505.48 2202.09 1505.11 Q2204.43 1504.73 2206.49 1504.73 Q2211.81 1504.73 2214.92 1507.17 Q2218.02 1509.57 2218.02 1513.69 Q2218.02 1516.56 2216.37 1518.55 Q2214.73 1520.52 2211.7 1521.29 Z\" fill=\"#000000\" fill-rule=\"evenodd\" fill-opacity=\"1\" /><path clip-path=\"url(#clip0400)\" d=\"M 0 0 M2233.9 1508.44 Q2230.29 1508.44 2228.46 1512 Q2226.65 1515.55 2226.65 1522.67 Q2226.65 1529.78 2228.46 1533.35 Q2230.29 1536.89 2233.9 1536.89 Q2237.53 1536.89 2239.34 1533.35 Q2241.16 1529.78 2241.16 1522.67 Q2241.16 1515.55 2239.34 1512 Q2237.53 1508.44 2233.9 1508.44 M2233.9 1504.73 Q2239.71 1504.73 2242.76 1509.34 Q2245.84 1513.92 2245.84 1522.67 Q2245.84 1531.4 2242.76 1536.01 Q2239.71 1540.59 2233.9 1540.59 Q2228.09 1540.59 2225.01 1536.01 Q2221.95 1531.4 2221.95 1522.67 Q2221.95 1513.92 2225.01 1509.34 Q2228.09 1504.73 2233.9 1504.73 Z\" fill=\"#000000\" fill-rule=\"evenodd\" fill-opacity=\"1\" /><path clip-path=\"url(#clip0400)\" d=\"M 0 0 M74.9365 1371.53 Q71.3254 1371.53 69.4967 1375.1 Q67.6912 1378.64 67.6912 1385.77 Q67.6912 1392.88 69.4967 1396.44 Q71.3254 1399.98 74.9365 1399.98 Q78.5707 1399.98 80.3763 1396.44 Q82.205 1392.88 82.205 1385.77 Q82.205 1378.64 80.3763 1375.1 Q78.5707 1371.53 74.9365 1371.53 M74.9365 1367.83 Q80.7467 1367.83 83.8022 1372.44 Q86.8809 1377.02 86.8809 1385.77 Q86.8809 1394.5 83.8022 1399.1 Q80.7467 1403.69 74.9365 1403.69 Q69.1264 1403.69 66.0477 1399.1 Q62.9921 1394.5 62.9921 1385.77 Q62.9921 1377.02 66.0477 1372.44 Q69.1264 1367.83 74.9365 1367.83 Z\" fill=\"#000000\" fill-rule=\"evenodd\" fill-opacity=\"1\" /><path clip-path=\"url(#clip0400)\" d=\"M 0 0 M91.9503 1397.14 L96.8345 1397.14 L96.8345 1403.02 L91.9503 1403.02 L91.9503 1397.14 Z\" fill=\"#000000\" fill-rule=\"evenodd\" fill-opacity=\"1\" /><path clip-path=\"url(#clip0400)\" d=\"M 0 0 M101.95 1368.46 L120.307 1368.46 L120.307 1372.39 L106.233 1372.39 L106.233 1380.86 Q107.251 1380.52 108.27 1380.35 Q109.288 1380.17 110.307 1380.17 Q116.094 1380.17 119.473 1383.34 Q122.853 1386.51 122.853 1391.93 Q122.853 1397.51 119.381 1400.61 Q115.909 1403.69 109.589 1403.69 Q107.413 1403.69 105.145 1403.32 Q102.899 1402.95 100.492 1402.21 L100.492 1397.51 Q102.575 1398.64 104.797 1399.2 Q107.02 1399.75 109.497 1399.75 Q113.501 1399.75 115.839 1397.64 Q118.177 1395.54 118.177 1391.93 Q118.177 1388.32 115.839 1386.21 Q113.501 1384.1 109.497 1384.1 Q107.622 1384.1 105.747 1384.52 Q103.895 1384.94 101.95 1385.82 L101.95 1368.46 Z\" fill=\"#000000\" fill-rule=\"evenodd\" fill-opacity=\"1\" /><path clip-path=\"url(#clip0400)\" d=\"M 0 0 M65.9782 1126.44 L73.6171 1126.44 L73.6171 1100.08 L65.3069 1101.74 L65.3069 1097.48 L73.5708 1095.82 L78.2467 1095.82 L78.2467 1126.44 L85.8855 1126.44 L85.8855 1130.38 L65.9782 1130.38 L65.9782 1126.44 Z\" fill=\"#000000\" fill-rule=\"evenodd\" fill-opacity=\"1\" /><path clip-path=\"url(#clip0400)\" d=\"M 0 0 M90.9549 1124.5 L95.8392 1124.5 L95.8392 1130.38 L90.9549 1130.38 L90.9549 1124.5 Z\" fill=\"#000000\" fill-rule=\"evenodd\" fill-opacity=\"1\" /><path clip-path=\"url(#clip0400)\" d=\"M 0 0 M110.909 1098.9 Q107.297 1098.9 105.469 1102.46 Q103.663 1106 103.663 1113.13 Q103.663 1120.24 105.469 1123.8 Q107.297 1127.34 110.909 1127.34 Q114.543 1127.34 116.348 1123.8 Q118.177 1120.24 118.177 1113.13 Q118.177 1106 116.348 1102.46 Q114.543 1098.9 110.909 1098.9 M110.909 1095.19 Q116.719 1095.19 119.774 1099.8 Q122.853 1104.38 122.853 1113.13 Q122.853 1121.86 119.774 1126.46 Q116.719 1131.05 110.909 1131.05 Q105.098 1131.05 102.02 1126.46 Q98.9642 1121.86 98.9642 1113.13 Q98.9642 1104.38 102.02 1099.8 Q105.098 1095.19 110.909 1095.19 Z\" fill=\"#000000\" fill-rule=\"evenodd\" fill-opacity=\"1\" /><path clip-path=\"url(#clip0400)\" d=\"M 0 0 M66.9736 853.803 L74.6124 853.803 L74.6124 827.438 L66.3023 829.104 L66.3023 824.845 L74.5661 823.178 L79.242 823.178 L79.242 853.803 L86.8809 853.803 L86.8809 857.738 L66.9736 857.738 L66.9736 853.803 Z\" fill=\"#000000\" fill-rule=\"evenodd\" fill-opacity=\"1\" /><path clip-path=\"url(#clip0400)\" d=\"M 0 0 M91.9503 851.859 L96.8345 851.859 L96.8345 857.738 L91.9503 857.738 L91.9503 851.859 Z\" fill=\"#000000\" fill-rule=\"evenodd\" fill-opacity=\"1\" /><path clip-path=\"url(#clip0400)\" d=\"M 0 0 M101.95 823.178 L120.307 823.178 L120.307 827.114 L106.233 827.114 L106.233 835.586 Q107.251 835.238 108.27 835.076 Q109.288 834.891 110.307 834.891 Q116.094 834.891 119.473 838.063 Q122.853 841.234 122.853 846.65 Q122.853 852.229 119.381 855.331 Q115.909 858.41 109.589 858.41 Q107.413 858.41 105.145 858.039 Q102.899 857.669 100.492 856.928 L100.492 852.229 Q102.575 853.363 104.797 853.919 Q107.02 854.474 109.497 854.474 Q113.501 854.474 115.839 852.368 Q118.177 850.262 118.177 846.65 Q118.177 843.039 115.839 840.933 Q113.501 838.826 109.497 838.826 Q107.622 838.826 105.747 839.243 Q103.895 839.66 101.95 840.539 L101.95 823.178 Z\" fill=\"#000000\" fill-rule=\"evenodd\" fill-opacity=\"1\" /><path clip-path=\"url(#clip0400)\" d=\"M 0 0 M69.5662 581.165 L85.8855 581.165 L85.8855 585.1 L63.9412 585.1 L63.9412 581.165 Q66.6032 578.41 71.1865 573.781 Q75.793 569.128 76.9735 567.785 Q79.2189 565.262 80.0985 563.526 Q81.0013 561.767 81.0013 560.077 Q81.0013 557.322 79.0569 555.586 Q77.1356 553.85 74.0337 553.85 Q71.8347 553.85 69.381 554.614 Q66.9504 555.378 64.1727 556.929 L64.1727 552.207 Q66.9967 551.072 69.4504 550.494 Q71.9041 549.915 73.9411 549.915 Q79.3115 549.915 82.5059 552.6 Q85.7003 555.285 85.7003 559.776 Q85.7003 561.906 84.8902 563.827 Q84.1031 565.725 81.9967 568.318 Q81.418 568.989 78.3161 572.206 Q75.2143 575.401 69.5662 581.165 Z\" fill=\"#000000\" fill-rule=\"evenodd\" fill-opacity=\"1\" /><path clip-path=\"url(#clip0400)\" d=\"M 0 0 M90.9549 579.22 L95.8392 579.22 L95.8392 585.1 L90.9549 585.1 L90.9549 579.22 Z\" fill=\"#000000\" fill-rule=\"evenodd\" fill-opacity=\"1\" /><path clip-path=\"url(#clip0400)\" d=\"M 0 0 M110.909 553.619 Q107.297 553.619 105.469 557.183 Q103.663 560.725 103.663 567.855 Q103.663 574.961 105.469 578.526 Q107.297 582.068 110.909 582.068 Q114.543 582.068 116.348 578.526 Q118.177 574.961 118.177 567.855 Q118.177 560.725 116.348 557.183 Q114.543 553.619 110.909 553.619 M110.909 549.915 Q116.719 549.915 119.774 554.521 Q122.853 559.105 122.853 567.855 Q122.853 576.581 119.774 581.188 Q116.719 585.771 110.909 585.771 Q105.098 585.771 102.02 581.188 Q98.9642 576.581 98.9642 567.855 Q98.9642 559.105 102.02 554.521 Q105.098 549.915 110.909 549.915 Z\" fill=\"#000000\" fill-rule=\"evenodd\" fill-opacity=\"1\" /><path clip-path=\"url(#clip0400)\" d=\"M 0 0 M70.5615 308.526 L86.8809 308.526 L86.8809 312.461 L64.9366 312.461 L64.9366 308.526 Q67.5986 305.772 72.1819 301.142 Q76.7883 296.489 77.9689 295.147 Q80.2143 292.624 81.0939 290.888 Q81.9967 289.128 81.9967 287.438 Q81.9967 284.684 80.0522 282.948 Q78.1309 281.212 75.0291 281.212 Q72.83 281.212 70.3763 281.976 Q67.9458 282.739 65.168 284.29 L65.168 279.568 Q67.9921 278.434 70.4458 277.855 Q72.8995 277.276 74.9365 277.276 Q80.3068 277.276 83.5013 279.962 Q86.6957 282.647 86.6957 287.138 Q86.6957 289.267 85.8855 291.188 Q85.0985 293.087 82.992 295.679 Q82.4133 296.35 79.3115 299.568 Q76.2096 302.762 70.5615 308.526 Z\" fill=\"#000000\" fill-rule=\"evenodd\" fill-opacity=\"1\" /><path clip-path=\"url(#clip0400)\" d=\"M 0 0 M91.9503 306.582 L96.8345 306.582 L96.8345 312.461 L91.9503 312.461 L91.9503 306.582 Z\" fill=\"#000000\" fill-rule=\"evenodd\" fill-opacity=\"1\" /><path clip-path=\"url(#clip0400)\" d=\"M 0 0 M101.95 277.901 L120.307 277.901 L120.307 281.837 L106.233 281.837 L106.233 290.309 Q107.251 289.962 108.27 289.8 Q109.288 289.614 110.307 289.614 Q116.094 289.614 119.473 292.786 Q122.853 295.957 122.853 301.374 Q122.853 306.952 119.381 310.054 Q115.909 313.133 109.589 313.133 Q107.413 313.133 105.145 312.762 Q102.899 312.392 100.492 311.651 L100.492 306.952 Q102.575 308.087 104.797 308.642 Q107.02 309.198 109.497 309.198 Q113.501 309.198 115.839 307.091 Q118.177 304.985 118.177 301.374 Q118.177 297.762 115.839 295.656 Q113.501 293.55 109.497 293.55 Q107.622 293.55 105.747 293.966 Q103.895 294.383 101.95 295.263 L101.95 277.901 Z\" fill=\"#000000\" fill-rule=\"evenodd\" fill-opacity=\"1\" /><polyline clip-path=\"url(#clip0402)\" style=\"stroke:#009af9; stroke-width:4; stroke-opacity:1; fill:none\" points=\"\n",
       "  209.284,1445.72 278.652,1418.45 348.02,1402.09 417.388,1380.28 486.756,1385.74 556.124,1369.38 625.492,1385.74 694.86,1391.19 764.228,1396.64 833.596,1358.47 \n",
       "  902.964,1331.21 972.332,1276.68 1041.7,1238.51 1111.07,1211.25 1180.44,1189.44 1249.8,1156.72 1319.17,1113.1 1388.54,1058.57 1457.91,1004.04 1527.28,938.608 \n",
       "  1596.64,867.722 1666.01,796.836 1735.38,709.592 1804.75,638.706 1874.12,567.82 1943.48,518.745 2012.85,469.67 2082.22,420.595 2151.59,409.69 2220.96,404.237 \n",
       "  2290.32,426.048 \n",
       "  \"/>\n",
       "<polyline clip-path=\"url(#clip0402)\" style=\"stroke:#e26f46; stroke-width:4; stroke-opacity:1; fill:none\" points=\"\n",
       "  209.284,1140.36 278.652,1134.91 348.02,1129.46 417.388,1124 486.756,1124 556.124,1129.46 625.492,1140.36 694.86,1151.27 764.228,1145.81 833.596,1124 \n",
       "  902.964,1085.83 972.332,1042.21 1041.7,1004.04 1111.07,971.325 1180.44,944.061 1249.8,916.797 1319.17,878.628 1388.54,829.553 1457.91,775.025 1527.28,715.045 \n",
       "  1596.64,644.159 1666.01,578.725 1735.38,502.387 1804.75,436.953 1874.12,376.973 1943.48,327.898 2012.85,289.729 2082.22,257.012 2151.59,246.107 2220.96,251.559 \n",
       "  2290.32,262.465 \n",
       "  \"/>\n",
       "<polyline clip-path=\"url(#clip0402)\" style=\"stroke:#3da44d; stroke-width:4; stroke-opacity:1; fill:none\" points=\"\n",
       "  209.284,829.553 278.652,845.911 348.02,856.817 417.388,862.269 486.756,873.175 556.124,878.628 625.492,900.439 694.86,916.797 764.228,911.344 833.596,889.533 \n",
       "  902.964,845.911 972.332,802.289 1041.7,764.12 1111.07,736.856 1180.44,704.139 1249.8,693.234 1319.17,644.159 1388.54,600.537 1457.91,546.009 1527.28,491.481 \n",
       "  1596.64,426.048 1666.01,360.615 1735.38,300.634 1804.75,246.107 1874.12,191.579 1943.48,147.957 2012.85,120.693 2082.22,104.335 2151.59,87.9763 2220.96,98.8818 \n",
       "  2290.32,93.429 \n",
       "  \"/>\n",
       "<path clip-path=\"url(#clip0400)\" d=\"\n",
       "M1989.16 372.684 L2280.76 372.684 L2280.76 130.764 L1989.16 130.764  Z\n",
       "  \" fill=\"#ffffff\" fill-rule=\"evenodd\" fill-opacity=\"1\"/>\n",
       "<polyline clip-path=\"url(#clip0400)\" style=\"stroke:#000000; stroke-width:4; stroke-opacity:1; fill:none\" points=\"\n",
       "  1989.16,372.684 2280.76,372.684 2280.76,130.764 1989.16,130.764 1989.16,372.684 \n",
       "  \"/>\n",
       "<polyline clip-path=\"url(#clip0400)\" style=\"stroke:#009af9; stroke-width:4; stroke-opacity:1; fill:none\" points=\"\n",
       "  2013.16,191.244 2157.16,191.244 \n",
       "  \"/>\n",
       "<path clip-path=\"url(#clip0400)\" d=\"M 0 0 M2195 210.931 Q2193.2 215.561 2191.48 216.973 Q2189.77 218.385 2186.9 218.385 L2183.5 218.385 L2183.5 214.82 L2186 214.82 Q2187.76 214.82 2188.73 213.987 Q2189.7 213.154 2190.88 210.052 L2191.65 208.107 L2181.16 182.598 L2185.67 182.598 L2193.77 202.876 L2201.88 182.598 L2206.39 182.598 L2195 210.931 Z\" fill=\"#000000\" fill-rule=\"evenodd\" fill-opacity=\"1\" /><path clip-path=\"url(#clip0400)\" d=\"M 0 0 M2212.27 204.589 L2219.91 204.589 L2219.91 178.223 L2211.6 179.89 L2211.6 175.631 L2219.86 173.964 L2224.54 173.964 L2224.54 204.589 L2232.18 204.589 L2232.18 208.524 L2212.27 208.524 L2212.27 204.589 Z\" fill=\"#000000\" fill-rule=\"evenodd\" fill-opacity=\"1\" /><polyline clip-path=\"url(#clip0400)\" style=\"stroke:#e26f46; stroke-width:4; stroke-opacity:1; fill:none\" points=\"\n",
       "  2013.16,251.724 2157.16,251.724 \n",
       "  \"/>\n",
       "<path clip-path=\"url(#clip0400)\" d=\"M 0 0 M2195 271.411 Q2193.2 276.041 2191.48 277.453 Q2189.77 278.865 2186.9 278.865 L2183.5 278.865 L2183.5 275.3 L2186 275.3 Q2187.76 275.3 2188.73 274.467 Q2189.7 273.634 2190.88 270.532 L2191.65 268.587 L2181.16 243.078 L2185.67 243.078 L2193.77 263.356 L2201.88 243.078 L2206.39 243.078 L2195 271.411 Z\" fill=\"#000000\" fill-rule=\"evenodd\" fill-opacity=\"1\" /><path clip-path=\"url(#clip0400)\" d=\"M 0 0 M2215.49 265.069 L2231.81 265.069 L2231.81 269.004 L2209.86 269.004 L2209.86 265.069 Q2212.52 262.314 2217.11 257.685 Q2221.71 253.032 2222.89 251.689 Q2225.14 249.166 2226.02 247.43 Q2226.92 245.671 2226.92 243.981 Q2226.92 241.226 2224.98 239.49 Q2223.06 237.754 2219.96 237.754 Q2217.76 237.754 2215.3 238.518 Q2212.87 239.282 2210.09 240.833 L2210.09 236.111 Q2212.92 234.976 2215.37 234.398 Q2217.83 233.819 2219.86 233.819 Q2225.23 233.819 2228.43 236.504 Q2231.62 239.189 2231.62 243.68 Q2231.62 245.81 2230.81 247.731 Q2230.02 249.629 2227.92 252.222 Q2227.34 252.893 2224.24 256.111 Q2221.14 259.305 2215.49 265.069 Z\" fill=\"#000000\" fill-rule=\"evenodd\" fill-opacity=\"1\" /><polyline clip-path=\"url(#clip0400)\" style=\"stroke:#3da44d; stroke-width:4; stroke-opacity:1; fill:none\" points=\"\n",
       "  2013.16,312.204 2157.16,312.204 \n",
       "  \"/>\n",
       "<path clip-path=\"url(#clip0400)\" d=\"M 0 0 M2195 331.891 Q2193.2 336.521 2191.48 337.933 Q2189.77 339.345 2186.9 339.345 L2183.5 339.345 L2183.5 335.78 L2186 335.78 Q2187.76 335.78 2188.73 334.947 Q2189.7 334.114 2190.88 331.012 L2191.65 329.067 L2181.16 303.558 L2185.67 303.558 L2193.77 323.836 L2201.88 303.558 L2206.39 303.558 L2195 331.891 Z\" fill=\"#000000\" fill-rule=\"evenodd\" fill-opacity=\"1\" /><path clip-path=\"url(#clip0400)\" d=\"M 0 0 M2225.63 310.85 Q2228.98 311.568 2230.86 313.836 Q2232.76 316.105 2232.76 319.438 Q2232.76 324.554 2229.24 327.354 Q2225.72 330.155 2219.24 330.155 Q2217.06 330.155 2214.75 329.716 Q2212.46 329.299 2210 328.442 L2210 323.929 Q2211.95 325.063 2214.26 325.642 Q2216.58 326.22 2219.1 326.22 Q2223.5 326.22 2225.79 324.484 Q2228.1 322.748 2228.1 319.438 Q2228.1 316.382 2225.95 314.669 Q2223.82 312.933 2220 312.933 L2215.97 312.933 L2215.97 309.091 L2220.19 309.091 Q2223.64 309.091 2225.46 307.725 Q2227.29 306.336 2227.29 303.743 Q2227.29 301.081 2225.39 299.669 Q2223.52 298.234 2220 298.234 Q2218.08 298.234 2215.88 298.651 Q2213.68 299.068 2211.04 299.947 L2211.04 295.781 Q2213.71 295.04 2216.02 294.669 Q2218.36 294.299 2220.42 294.299 Q2225.74 294.299 2228.84 296.73 Q2231.95 299.137 2231.95 303.257 Q2231.95 306.128 2230.3 308.118 Q2228.66 310.086 2225.63 310.85 Z\" fill=\"#000000\" fill-rule=\"evenodd\" fill-opacity=\"1\" /></svg>\n"
      ]
     },
     "execution_count": 54,
     "metadata": {},
     "output_type": "execute_result"
    }
   ],
   "source": [
    "plot_state(\"tn\")"
   ]
  },
  {
   "cell_type": "markdown",
   "metadata": {},
   "source": [
    "Pick top 5 states according to daily cases."
   ]
  },
  {
   "cell_type": "markdown",
   "metadata": {},
   "source": [
    "## Comparing against the raw Rt calculation from smoothed numbers\n",
    "\n",
    "The truefilter smooths the daily rate in accordance with the exponential law. Therefore it is instructive to estimate the Rt from it directly so we can compare against the probabilstic model. The p-model not only gives us the Rt estimate but also the spread, which the raw calculation doesn't give."
   ]
  },
  {
   "cell_type": "code",
   "execution_count": 107,
   "metadata": {},
   "outputs": [
    {
     "data": {
      "image/svg+xml": [
       "<?xml version=\"1.0\" encoding=\"utf-8\"?>\n",
       "<svg xmlns=\"http://www.w3.org/2000/svg\" xmlns:xlink=\"http://www.w3.org/1999/xlink\" width=\"600\" height=\"400\" viewBox=\"0 0 2400 1600\">\n",
       "<defs>\n",
       "  <clipPath id=\"clip8400\">\n",
       "    <rect x=\"0\" y=\"0\" width=\"2400\" height=\"1600\"/>\n",
       "  </clipPath>\n",
       "</defs>\n",
       "<path clip-path=\"url(#clip8400)\" d=\"\n",
       "M0 1600 L2400 1600 L2400 0 L0 0  Z\n",
       "  \" fill=\"#ffffff\" fill-rule=\"evenodd\" fill-opacity=\"1\"/>\n",
       "<defs>\n",
       "  <clipPath id=\"clip8401\">\n",
       "    <rect x=\"480\" y=\"0\" width=\"1681\" height=\"1600\"/>\n",
       "  </clipPath>\n",
       "</defs>\n",
       "<path clip-path=\"url(#clip8400)\" d=\"\n",
       "M147.848 1486.45 L2352.76 1486.45 L2352.76 47.2441 L147.848 47.2441  Z\n",
       "  \" fill=\"#ffffff\" fill-rule=\"evenodd\" fill-opacity=\"1\"/>\n",
       "<defs>\n",
       "  <clipPath id=\"clip8402\">\n",
       "    <rect x=\"147\" y=\"47\" width=\"2206\" height=\"1440\"/>\n",
       "  </clipPath>\n",
       "</defs>\n",
       "<polyline clip-path=\"url(#clip8402)\" style=\"stroke:#000000; stroke-width:2; stroke-opacity:0.1; fill:none\" points=\"\n",
       "  478.652,1486.45 478.652,47.2441 \n",
       "  \"/>\n",
       "<polyline clip-path=\"url(#clip8402)\" style=\"stroke:#000000; stroke-width:2; stroke-opacity:0.1; fill:none\" points=\"\n",
       "  814.152,1486.45 814.152,47.2441 \n",
       "  \"/>\n",
       "<polyline clip-path=\"url(#clip8402)\" style=\"stroke:#000000; stroke-width:2; stroke-opacity:0.1; fill:none\" points=\"\n",
       "  1149.65,1486.45 1149.65,47.2441 \n",
       "  \"/>\n",
       "<polyline clip-path=\"url(#clip8402)\" style=\"stroke:#000000; stroke-width:2; stroke-opacity:0.1; fill:none\" points=\"\n",
       "  1485.15,1486.45 1485.15,47.2441 \n",
       "  \"/>\n",
       "<polyline clip-path=\"url(#clip8402)\" style=\"stroke:#000000; stroke-width:2; stroke-opacity:0.1; fill:none\" points=\"\n",
       "  1820.65,1486.45 1820.65,47.2441 \n",
       "  \"/>\n",
       "<polyline clip-path=\"url(#clip8402)\" style=\"stroke:#000000; stroke-width:2; stroke-opacity:0.1; fill:none\" points=\"\n",
       "  2156.15,1486.45 2156.15,47.2441 \n",
       "  \"/>\n",
       "<polyline clip-path=\"url(#clip8402)\" style=\"stroke:#000000; stroke-width:2; stroke-opacity:0.1; fill:none\" points=\"\n",
       "  147.848,1396.71 2352.76,1396.71 \n",
       "  \"/>\n",
       "<polyline clip-path=\"url(#clip8402)\" style=\"stroke:#000000; stroke-width:2; stroke-opacity:0.1; fill:none\" points=\"\n",
       "  147.848,1169.5 2352.76,1169.5 \n",
       "  \"/>\n",
       "<polyline clip-path=\"url(#clip8402)\" style=\"stroke:#000000; stroke-width:2; stroke-opacity:0.1; fill:none\" points=\"\n",
       "  147.848,942.291 2352.76,942.291 \n",
       "  \"/>\n",
       "<polyline clip-path=\"url(#clip8402)\" style=\"stroke:#000000; stroke-width:2; stroke-opacity:0.1; fill:none\" points=\"\n",
       "  147.848,715.079 2352.76,715.079 \n",
       "  \"/>\n",
       "<polyline clip-path=\"url(#clip8402)\" style=\"stroke:#000000; stroke-width:2; stroke-opacity:0.1; fill:none\" points=\"\n",
       "  147.848,487.868 2352.76,487.868 \n",
       "  \"/>\n",
       "<polyline clip-path=\"url(#clip8402)\" style=\"stroke:#000000; stroke-width:2; stroke-opacity:0.1; fill:none\" points=\"\n",
       "  147.848,260.657 2352.76,260.657 \n",
       "  \"/>\n",
       "<polyline clip-path=\"url(#clip8400)\" style=\"stroke:#000000; stroke-width:4; stroke-opacity:1; fill:none\" points=\"\n",
       "  147.848,1486.45 2352.76,1486.45 \n",
       "  \"/>\n",
       "<polyline clip-path=\"url(#clip8400)\" style=\"stroke:#000000; stroke-width:4; stroke-opacity:1; fill:none\" points=\"\n",
       "  147.848,1486.45 147.848,47.2441 \n",
       "  \"/>\n",
       "<polyline clip-path=\"url(#clip8400)\" style=\"stroke:#000000; stroke-width:4; stroke-opacity:1; fill:none\" points=\"\n",
       "  478.652,1486.45 478.652,1469.18 \n",
       "  \"/>\n",
       "<polyline clip-path=\"url(#clip8400)\" style=\"stroke:#000000; stroke-width:4; stroke-opacity:1; fill:none\" points=\"\n",
       "  814.152,1486.45 814.152,1469.18 \n",
       "  \"/>\n",
       "<polyline clip-path=\"url(#clip8400)\" style=\"stroke:#000000; stroke-width:4; stroke-opacity:1; fill:none\" points=\"\n",
       "  1149.65,1486.45 1149.65,1469.18 \n",
       "  \"/>\n",
       "<polyline clip-path=\"url(#clip8400)\" style=\"stroke:#000000; stroke-width:4; stroke-opacity:1; fill:none\" points=\"\n",
       "  1485.15,1486.45 1485.15,1469.18 \n",
       "  \"/>\n",
       "<polyline clip-path=\"url(#clip8400)\" style=\"stroke:#000000; stroke-width:4; stroke-opacity:1; fill:none\" points=\"\n",
       "  1820.65,1486.45 1820.65,1469.18 \n",
       "  \"/>\n",
       "<polyline clip-path=\"url(#clip8400)\" style=\"stroke:#000000; stroke-width:4; stroke-opacity:1; fill:none\" points=\"\n",
       "  2156.15,1486.45 2156.15,1469.18 \n",
       "  \"/>\n",
       "<polyline clip-path=\"url(#clip8400)\" style=\"stroke:#000000; stroke-width:4; stroke-opacity:1; fill:none\" points=\"\n",
       "  147.848,1396.71 174.307,1396.71 \n",
       "  \"/>\n",
       "<polyline clip-path=\"url(#clip8400)\" style=\"stroke:#000000; stroke-width:4; stroke-opacity:1; fill:none\" points=\"\n",
       "  147.848,1169.5 174.307,1169.5 \n",
       "  \"/>\n",
       "<polyline clip-path=\"url(#clip8400)\" style=\"stroke:#000000; stroke-width:4; stroke-opacity:1; fill:none\" points=\"\n",
       "  147.848,942.291 174.307,942.291 \n",
       "  \"/>\n",
       "<polyline clip-path=\"url(#clip8400)\" style=\"stroke:#000000; stroke-width:4; stroke-opacity:1; fill:none\" points=\"\n",
       "  147.848,715.079 174.307,715.079 \n",
       "  \"/>\n",
       "<polyline clip-path=\"url(#clip8400)\" style=\"stroke:#000000; stroke-width:4; stroke-opacity:1; fill:none\" points=\"\n",
       "  147.848,487.868 174.307,487.868 \n",
       "  \"/>\n",
       "<polyline clip-path=\"url(#clip8400)\" style=\"stroke:#000000; stroke-width:4; stroke-opacity:1; fill:none\" points=\"\n",
       "  147.848,260.657 174.307,260.657 \n",
       "  \"/>\n",
       "<path clip-path=\"url(#clip8400)\" d=\"M 0 0 M468.929 1505.36 L487.286 1505.36 L487.286 1509.3 L473.212 1509.3 L473.212 1517.77 Q474.23 1517.42 475.249 1517.26 Q476.267 1517.07 477.286 1517.07 Q483.073 1517.07 486.452 1520.24 Q489.832 1523.42 489.832 1528.83 Q489.832 1534.41 486.36 1537.51 Q482.888 1540.59 476.568 1540.59 Q474.392 1540.59 472.124 1540.22 Q469.878 1539.85 467.471 1539.11 L467.471 1534.41 Q469.554 1535.54 471.777 1536.1 Q473.999 1536.66 476.476 1536.66 Q480.48 1536.66 482.818 1534.55 Q485.156 1532.44 485.156 1528.83 Q485.156 1525.22 482.818 1523.11 Q480.48 1521.01 476.476 1521.01 Q474.601 1521.01 472.726 1521.42 Q470.874 1521.84 468.929 1522.72 L468.929 1505.36 Z\" fill=\"#000000\" fill-rule=\"evenodd\" fill-opacity=\"1\" /><path clip-path=\"url(#clip8400)\" d=\"M 0 0 M791.027 1535.98 L798.666 1535.98 L798.666 1509.62 L790.356 1511.29 L790.356 1507.03 L798.619 1505.36 L803.295 1505.36 L803.295 1535.98 L810.934 1535.98 L810.934 1539.92 L791.027 1539.92 L791.027 1535.98 Z\" fill=\"#000000\" fill-rule=\"evenodd\" fill-opacity=\"1\" /><path clip-path=\"url(#clip8400)\" d=\"M 0 0 M826.004 1508.44 Q822.392 1508.44 820.564 1512 Q818.758 1515.55 818.758 1522.67 Q818.758 1529.78 820.564 1533.35 Q822.392 1536.89 826.004 1536.89 Q829.638 1536.89 831.443 1533.35 Q833.272 1529.78 833.272 1522.67 Q833.272 1515.55 831.443 1512 Q829.638 1508.44 826.004 1508.44 M826.004 1504.73 Q831.814 1504.73 834.869 1509.34 Q837.948 1513.92 837.948 1522.67 Q837.948 1531.4 834.869 1536.01 Q831.814 1540.59 826.004 1540.59 Q820.193 1540.59 817.115 1536.01 Q814.059 1531.4 814.059 1522.67 Q814.059 1513.92 817.115 1509.34 Q820.193 1504.73 826.004 1504.73 Z\" fill=\"#000000\" fill-rule=\"evenodd\" fill-opacity=\"1\" /><path clip-path=\"url(#clip8400)\" d=\"M 0 0 M1127.02 1535.98 L1134.66 1535.98 L1134.66 1509.62 L1126.35 1511.29 L1126.35 1507.03 L1134.62 1505.36 L1139.29 1505.36 L1139.29 1535.98 L1146.93 1535.98 L1146.93 1539.92 L1127.02 1539.92 L1127.02 1535.98 Z\" fill=\"#000000\" fill-rule=\"evenodd\" fill-opacity=\"1\" /><path clip-path=\"url(#clip8400)\" d=\"M 0 0 M1152.05 1505.36 L1170.4 1505.36 L1170.4 1509.3 L1156.33 1509.3 L1156.33 1517.77 Q1157.35 1517.42 1158.37 1517.26 Q1159.39 1517.07 1160.4 1517.07 Q1166.19 1517.07 1169.57 1520.24 Q1172.95 1523.42 1172.95 1528.83 Q1172.95 1534.41 1169.48 1537.51 Q1166.01 1540.59 1159.69 1540.59 Q1157.51 1540.59 1155.24 1540.22 Q1153 1539.85 1150.59 1539.11 L1150.59 1534.41 Q1152.67 1535.54 1154.9 1536.1 Q1157.12 1536.66 1159.59 1536.66 Q1163.6 1536.66 1165.94 1534.55 Q1168.27 1532.44 1168.27 1528.83 Q1168.27 1525.22 1165.94 1523.11 Q1163.6 1521.01 1159.59 1521.01 Q1157.72 1521.01 1155.84 1521.42 Q1153.99 1521.84 1152.05 1522.72 L1152.05 1505.36 Z\" fill=\"#000000\" fill-rule=\"evenodd\" fill-opacity=\"1\" /><path clip-path=\"url(#clip8400)\" d=\"M 0 0 M1466.3 1535.98 L1482.62 1535.98 L1482.62 1539.92 L1460.67 1539.92 L1460.67 1535.98 Q1463.34 1533.23 1467.92 1528.6 Q1472.53 1523.95 1473.71 1522.61 Q1475.95 1520.08 1476.83 1518.35 Q1477.73 1516.59 1477.73 1514.9 Q1477.73 1512.14 1475.79 1510.41 Q1473.87 1508.67 1470.77 1508.67 Q1468.57 1508.67 1466.11 1509.43 Q1463.68 1510.2 1460.9 1511.75 L1460.9 1507.03 Q1463.73 1505.89 1466.18 1505.31 Q1468.64 1504.73 1470.67 1504.73 Q1476.04 1504.73 1479.24 1507.42 Q1482.43 1510.11 1482.43 1514.6 Q1482.43 1516.73 1481.62 1518.65 Q1480.84 1520.54 1478.73 1523.14 Q1478.15 1523.81 1475.05 1527.03 Q1471.95 1530.22 1466.3 1535.98 Z\" fill=\"#000000\" fill-rule=\"evenodd\" fill-opacity=\"1\" /><path clip-path=\"url(#clip8400)\" d=\"M 0 0 M1497.69 1508.44 Q1494.08 1508.44 1492.25 1512 Q1490.44 1515.55 1490.44 1522.67 Q1490.44 1529.78 1492.25 1533.35 Q1494.08 1536.89 1497.69 1536.89 Q1501.32 1536.89 1503.13 1533.35 Q1504.96 1529.78 1504.96 1522.67 Q1504.96 1515.55 1503.13 1512 Q1501.32 1508.44 1497.69 1508.44 M1497.69 1504.73 Q1503.5 1504.73 1506.55 1509.34 Q1509.63 1513.92 1509.63 1522.67 Q1509.63 1531.4 1506.55 1536.01 Q1503.5 1540.59 1497.69 1540.59 Q1491.88 1540.59 1488.8 1536.01 Q1485.74 1531.4 1485.74 1522.67 Q1485.74 1513.92 1488.8 1509.34 Q1491.88 1504.73 1497.69 1504.73 Z\" fill=\"#000000\" fill-rule=\"evenodd\" fill-opacity=\"1\" /><path clip-path=\"url(#clip8400)\" d=\"M 0 0 M1802.3 1535.98 L1818.62 1535.98 L1818.62 1539.92 L1796.67 1539.92 L1796.67 1535.98 Q1799.33 1533.23 1803.92 1528.6 Q1808.52 1523.95 1809.7 1522.61 Q1811.95 1520.08 1812.83 1518.35 Q1813.73 1516.59 1813.73 1514.9 Q1813.73 1512.14 1811.79 1510.41 Q1809.87 1508.67 1806.76 1508.67 Q1804.56 1508.67 1802.11 1509.43 Q1799.68 1510.2 1796.9 1511.75 L1796.9 1507.03 Q1799.73 1505.89 1802.18 1505.31 Q1804.63 1504.73 1806.67 1504.73 Q1812.04 1504.73 1815.24 1507.42 Q1818.43 1510.11 1818.43 1514.6 Q1818.43 1516.73 1817.62 1518.65 Q1816.83 1520.54 1814.73 1523.14 Q1814.15 1523.81 1811.05 1527.03 Q1807.94 1530.22 1802.3 1535.98 Z\" fill=\"#000000\" fill-rule=\"evenodd\" fill-opacity=\"1\" /><path clip-path=\"url(#clip8400)\" d=\"M 0 0 M1823.73 1505.36 L1842.09 1505.36 L1842.09 1509.3 L1828.01 1509.3 L1828.01 1517.77 Q1829.03 1517.42 1830.05 1517.26 Q1831.07 1517.07 1832.09 1517.07 Q1837.87 1517.07 1841.25 1520.24 Q1844.63 1523.42 1844.63 1528.83 Q1844.63 1534.41 1841.16 1537.51 Q1837.69 1540.59 1831.37 1540.59 Q1829.19 1540.59 1826.93 1540.22 Q1824.68 1539.85 1822.27 1539.11 L1822.27 1534.41 Q1824.36 1535.54 1826.58 1536.1 Q1828.8 1536.66 1831.28 1536.66 Q1835.28 1536.66 1837.62 1534.55 Q1839.96 1532.44 1839.96 1528.83 Q1839.96 1525.22 1837.62 1523.11 Q1835.28 1521.01 1831.28 1521.01 Q1829.4 1521.01 1827.53 1521.42 Q1825.68 1521.84 1823.73 1522.72 L1823.73 1505.36 Z\" fill=\"#000000\" fill-rule=\"evenodd\" fill-opacity=\"1\" /><path clip-path=\"url(#clip8400)\" d=\"M 0 0 M2146.89 1521.29 Q2150.25 1522 2152.13 1524.27 Q2154.02 1526.54 2154.02 1529.87 Q2154.02 1534.99 2150.5 1537.79 Q2146.99 1540.59 2140.5 1540.59 Q2138.33 1540.59 2136.01 1540.15 Q2133.72 1539.73 2131.27 1538.88 L2131.27 1534.36 Q2133.21 1535.5 2135.53 1536.08 Q2137.84 1536.66 2140.37 1536.66 Q2144.76 1536.66 2147.06 1534.92 Q2149.37 1533.18 2149.37 1529.87 Q2149.37 1526.82 2147.22 1525.11 Q2145.09 1523.37 2141.27 1523.37 L2137.24 1523.37 L2137.24 1519.53 L2141.45 1519.53 Q2144.9 1519.53 2146.73 1518.16 Q2148.56 1516.77 2148.56 1514.18 Q2148.56 1511.52 2146.66 1510.11 Q2144.79 1508.67 2141.27 1508.67 Q2139.35 1508.67 2137.15 1509.09 Q2134.95 1509.5 2132.31 1510.38 L2132.31 1506.22 Q2134.97 1505.48 2137.29 1505.11 Q2139.63 1504.73 2141.69 1504.73 Q2147.01 1504.73 2150.11 1507.17 Q2153.21 1509.57 2153.21 1513.69 Q2153.21 1516.56 2151.57 1518.55 Q2149.93 1520.52 2146.89 1521.29 Z\" fill=\"#000000\" fill-rule=\"evenodd\" fill-opacity=\"1\" /><path clip-path=\"url(#clip8400)\" d=\"M 0 0 M2169.09 1508.44 Q2165.48 1508.44 2163.65 1512 Q2161.85 1515.55 2161.85 1522.67 Q2161.85 1529.78 2163.65 1533.35 Q2165.48 1536.89 2169.09 1536.89 Q2172.73 1536.89 2174.53 1533.35 Q2176.36 1529.78 2176.36 1522.67 Q2176.36 1515.55 2174.53 1512 Q2172.73 1508.44 2169.09 1508.44 M2169.09 1504.73 Q2174.9 1504.73 2177.96 1509.34 Q2181.04 1513.92 2181.04 1522.67 Q2181.04 1531.4 2177.96 1536.01 Q2174.9 1540.59 2169.09 1540.59 Q2163.28 1540.59 2160.2 1536.01 Q2157.15 1531.4 2157.15 1522.67 Q2157.15 1513.92 2160.2 1509.34 Q2163.28 1504.73 2169.09 1504.73 Z\" fill=\"#000000\" fill-rule=\"evenodd\" fill-opacity=\"1\" /><path clip-path=\"url(#clip8400)\" d=\"M 0 0 M74.9365 1382.51 Q71.3254 1382.51 69.4967 1386.08 Q67.6912 1389.62 67.6912 1396.75 Q67.6912 1403.85 69.4967 1407.42 Q71.3254 1410.96 74.9365 1410.96 Q78.5707 1410.96 80.3763 1407.42 Q82.205 1403.85 82.205 1396.75 Q82.205 1389.62 80.3763 1386.08 Q78.5707 1382.51 74.9365 1382.51 M74.9365 1378.81 Q80.7467 1378.81 83.8022 1383.41 Q86.8809 1388 86.8809 1396.75 Q86.8809 1405.47 83.8022 1410.08 Q80.7467 1414.66 74.9365 1414.66 Q69.1264 1414.66 66.0477 1410.08 Q62.9921 1405.47 62.9921 1396.75 Q62.9921 1388 66.0477 1383.41 Q69.1264 1378.81 74.9365 1378.81 Z\" fill=\"#000000\" fill-rule=\"evenodd\" fill-opacity=\"1\" /><path clip-path=\"url(#clip8400)\" d=\"M 0 0 M91.9503 1408.11 L96.8345 1408.11 L96.8345 1413.99 L91.9503 1413.99 L91.9503 1408.11 Z\" fill=\"#000000\" fill-rule=\"evenodd\" fill-opacity=\"1\" /><path clip-path=\"url(#clip8400)\" d=\"M 0 0 M111.904 1382.51 Q108.293 1382.51 106.464 1386.08 Q104.659 1389.62 104.659 1396.75 Q104.659 1403.85 106.464 1407.42 Q108.293 1410.96 111.904 1410.96 Q115.538 1410.96 117.344 1407.42 Q119.172 1403.85 119.172 1396.75 Q119.172 1389.62 117.344 1386.08 Q115.538 1382.51 111.904 1382.51 M111.904 1378.81 Q117.714 1378.81 120.77 1383.41 Q123.848 1388 123.848 1396.75 Q123.848 1405.47 120.77 1410.08 Q117.714 1414.66 111.904 1414.66 Q106.094 1414.66 103.015 1410.08 Q99.9595 1405.47 99.9595 1396.75 Q99.9595 1388 103.015 1383.41 Q106.094 1378.81 111.904 1378.81 Z\" fill=\"#000000\" fill-rule=\"evenodd\" fill-opacity=\"1\" /><path clip-path=\"url(#clip8400)\" d=\"M 0 0 M75.9319 1155.3 Q72.3208 1155.3 70.4921 1158.87 Q68.6865 1162.41 68.6865 1169.54 Q68.6865 1176.64 70.4921 1180.21 Q72.3208 1183.75 75.9319 1183.75 Q79.5661 1183.75 81.3717 1180.21 Q83.2004 1176.64 83.2004 1169.54 Q83.2004 1162.41 81.3717 1158.87 Q79.5661 1155.3 75.9319 1155.3 M75.9319 1151.6 Q81.742 1151.6 84.7976 1156.2 Q87.8763 1160.79 87.8763 1169.54 Q87.8763 1178.26 84.7976 1182.87 Q81.742 1187.45 75.9319 1187.45 Q70.1217 1187.45 67.043 1182.87 Q63.9875 1178.26 63.9875 1169.54 Q63.9875 1160.79 67.043 1156.2 Q70.1217 1151.6 75.9319 1151.6 Z\" fill=\"#000000\" fill-rule=\"evenodd\" fill-opacity=\"1\" /><path clip-path=\"url(#clip8400)\" d=\"M 0 0 M92.9457 1180.9 L97.8299 1180.9 L97.8299 1186.78 L92.9457 1186.78 L92.9457 1180.9 Z\" fill=\"#000000\" fill-rule=\"evenodd\" fill-opacity=\"1\" /><path clip-path=\"url(#clip8400)\" d=\"M 0 0 M102.946 1152.22 L121.302 1152.22 L121.302 1156.16 L107.228 1156.16 L107.228 1164.63 Q108.247 1164.28 109.265 1164.12 Q110.284 1163.93 111.302 1163.93 Q117.089 1163.93 120.469 1167.11 Q123.848 1170.28 123.848 1175.69 Q123.848 1181.27 120.376 1184.37 Q116.904 1187.45 110.584 1187.45 Q108.409 1187.45 106.14 1187.08 Q103.895 1186.71 101.487 1185.97 L101.487 1181.27 Q103.571 1182.41 105.793 1182.96 Q108.015 1183.52 110.492 1183.52 Q114.496 1183.52 116.834 1181.41 Q119.172 1179.31 119.172 1175.69 Q119.172 1172.08 116.834 1169.98 Q114.496 1167.87 110.492 1167.87 Q108.617 1167.87 106.742 1168.29 Q104.89 1168.7 102.946 1169.58 L102.946 1152.22 Z\" fill=\"#000000\" fill-rule=\"evenodd\" fill-opacity=\"1\" /><path clip-path=\"url(#clip8400)\" d=\"M 0 0 M66.9736 955.635 L74.6124 955.635 L74.6124 929.27 L66.3023 930.937 L66.3023 926.677 L74.5661 925.011 L79.242 925.011 L79.242 955.635 L86.8809 955.635 L86.8809 959.571 L66.9736 959.571 L66.9736 955.635 Z\" fill=\"#000000\" fill-rule=\"evenodd\" fill-opacity=\"1\" /><path clip-path=\"url(#clip8400)\" d=\"M 0 0 M91.9503 953.691 L96.8345 953.691 L96.8345 959.571 L91.9503 959.571 L91.9503 953.691 Z\" fill=\"#000000\" fill-rule=\"evenodd\" fill-opacity=\"1\" /><path clip-path=\"url(#clip8400)\" d=\"M 0 0 M111.904 928.089 Q108.293 928.089 106.464 931.654 Q104.659 935.196 104.659 942.325 Q104.659 949.432 106.464 952.997 Q108.293 956.538 111.904 956.538 Q115.538 956.538 117.344 952.997 Q119.172 949.432 119.172 942.325 Q119.172 935.196 117.344 931.654 Q115.538 928.089 111.904 928.089 M111.904 924.386 Q117.714 924.386 120.77 928.992 Q123.848 933.575 123.848 942.325 Q123.848 951.052 120.77 955.659 Q117.714 960.242 111.904 960.242 Q106.094 960.242 103.015 955.659 Q99.9595 951.052 99.9595 942.325 Q99.9595 933.575 103.015 928.992 Q106.094 924.386 111.904 924.386 Z\" fill=\"#000000\" fill-rule=\"evenodd\" fill-opacity=\"1\" /><path clip-path=\"url(#clip8400)\" d=\"M 0 0 M67.969 728.424 L75.6078 728.424 L75.6078 702.059 L67.2977 703.725 L67.2977 699.466 L75.5615 697.799 L80.2374 697.799 L80.2374 728.424 L87.8763 728.424 L87.8763 732.359 L67.969 732.359 L67.969 728.424 Z\" fill=\"#000000\" fill-rule=\"evenodd\" fill-opacity=\"1\" /><path clip-path=\"url(#clip8400)\" d=\"M 0 0 M92.9457 726.48 L97.8299 726.48 L97.8299 732.359 L92.9457 732.359 L92.9457 726.48 Z\" fill=\"#000000\" fill-rule=\"evenodd\" fill-opacity=\"1\" /><path clip-path=\"url(#clip8400)\" d=\"M 0 0 M102.946 697.799 L121.302 697.799 L121.302 701.735 L107.228 701.735 L107.228 710.207 Q108.247 709.859 109.265 709.697 Q110.284 709.512 111.302 709.512 Q117.089 709.512 120.469 712.684 Q123.848 715.855 123.848 721.271 Q123.848 726.85 120.376 729.952 Q116.904 733.031 110.584 733.031 Q108.409 733.031 106.14 732.66 Q103.895 732.29 101.487 731.549 L101.487 726.85 Q103.571 727.984 105.793 728.54 Q108.015 729.096 110.492 729.096 Q114.496 729.096 116.834 726.989 Q119.172 724.883 119.172 721.271 Q119.172 717.66 116.834 715.554 Q114.496 713.447 110.492 713.447 Q108.617 713.447 106.742 713.864 Q104.89 714.281 102.946 715.16 L102.946 697.799 Z\" fill=\"#000000\" fill-rule=\"evenodd\" fill-opacity=\"1\" /><path clip-path=\"url(#clip8400)\" d=\"M 0 0 M70.5615 501.213 L86.8809 501.213 L86.8809 505.148 L64.9366 505.148 L64.9366 501.213 Q67.5986 498.458 72.1819 493.829 Q76.7883 489.176 77.9689 487.833 Q80.2143 485.31 81.0939 483.574 Q81.9967 481.815 81.9967 480.125 Q81.9967 477.37 80.0522 475.634 Q78.1309 473.898 75.0291 473.898 Q72.83 473.898 70.3763 474.662 Q67.9458 475.426 65.168 476.977 L65.168 472.255 Q67.9921 471.121 70.4458 470.542 Q72.8995 469.963 74.9365 469.963 Q80.3068 469.963 83.5013 472.648 Q86.6957 475.333 86.6957 479.824 Q86.6957 481.954 85.8855 483.875 Q85.0985 485.773 82.992 488.366 Q82.4133 489.037 79.3115 492.255 Q76.2096 495.449 70.5615 501.213 Z\" fill=\"#000000\" fill-rule=\"evenodd\" fill-opacity=\"1\" /><path clip-path=\"url(#clip8400)\" d=\"M 0 0 M91.9503 499.269 L96.8345 499.269 L96.8345 505.148 L91.9503 505.148 L91.9503 499.269 Z\" fill=\"#000000\" fill-rule=\"evenodd\" fill-opacity=\"1\" /><path clip-path=\"url(#clip8400)\" d=\"M 0 0 M111.904 473.667 Q108.293 473.667 106.464 477.232 Q104.659 480.773 104.659 487.903 Q104.659 495.009 106.464 498.574 Q108.293 502.116 111.904 502.116 Q115.538 502.116 117.344 498.574 Q119.172 495.009 119.172 487.903 Q119.172 480.773 117.344 477.232 Q115.538 473.667 111.904 473.667 M111.904 469.963 Q117.714 469.963 120.77 474.57 Q123.848 479.153 123.848 487.903 Q123.848 496.63 120.77 501.236 Q117.714 505.819 111.904 505.819 Q106.094 505.819 103.015 501.236 Q99.9595 496.63 99.9595 487.903 Q99.9595 479.153 103.015 474.57 Q106.094 469.963 111.904 469.963 Z\" fill=\"#000000\" fill-rule=\"evenodd\" fill-opacity=\"1\" /><path clip-path=\"url(#clip8400)\" d=\"M 0 0 M71.5569 274.002 L87.8763 274.002 L87.8763 277.937 L65.9319 277.937 L65.9319 274.002 Q68.5939 271.247 73.1773 266.617 Q77.7837 261.965 78.9643 260.622 Q81.2096 258.099 82.0892 256.363 Q82.992 254.604 82.992 252.914 Q82.992 250.159 81.0476 248.423 Q79.1263 246.687 76.0245 246.687 Q73.8254 246.687 71.3717 247.451 Q68.9412 248.215 66.1634 249.766 L66.1634 245.043 Q68.9875 243.909 71.4412 243.331 Q73.8948 242.752 75.9319 242.752 Q81.3022 242.752 84.4966 245.437 Q87.6911 248.122 87.6911 252.613 Q87.6911 254.743 86.8809 256.664 Q86.0939 258.562 83.9874 261.155 Q83.4087 261.826 80.3068 265.043 Q77.205 268.238 71.5569 274.002 Z\" fill=\"#000000\" fill-rule=\"evenodd\" fill-opacity=\"1\" /><path clip-path=\"url(#clip8400)\" d=\"M 0 0 M92.9457 272.057 L97.8299 272.057 L97.8299 277.937 L92.9457 277.937 L92.9457 272.057 Z\" fill=\"#000000\" fill-rule=\"evenodd\" fill-opacity=\"1\" /><path clip-path=\"url(#clip8400)\" d=\"M 0 0 M102.946 243.377 L121.302 243.377 L121.302 247.312 L107.228 247.312 L107.228 255.784 Q108.247 255.437 109.265 255.275 Q110.284 255.09 111.302 255.09 Q117.089 255.09 120.469 258.261 Q123.848 261.432 123.848 266.849 Q123.848 272.428 120.376 275.529 Q116.904 278.608 110.584 278.608 Q108.409 278.608 106.14 278.238 Q103.895 277.867 101.487 277.127 L101.487 272.428 Q103.571 273.562 105.793 274.117 Q108.015 274.673 110.492 274.673 Q114.496 274.673 116.834 272.566 Q119.172 270.46 119.172 266.849 Q119.172 263.238 116.834 261.131 Q114.496 259.025 110.492 259.025 Q108.617 259.025 106.742 259.442 Q104.89 259.858 102.946 260.738 L102.946 243.377 Z\" fill=\"#000000\" fill-rule=\"evenodd\" fill-opacity=\"1\" /><polyline clip-path=\"url(#clip8402)\" style=\"stroke:#009af9; stroke-width:4; stroke-opacity:1; fill:none\" points=\"\n",
       "  210.251,1219.49 277.351,1196.77 344.451,1183.13 411.551,1164.96 478.652,1169.5 545.752,1155.87 612.852,1169.5 679.952,1174.05 747.052,1178.59 814.152,1146.78 \n",
       "  881.252,1124.06 948.352,1078.62 1015.45,1046.81 1082.55,1024.09 1149.65,1005.91 1216.75,978.644 1283.85,942.291 1350.95,896.848 1418.05,851.406 1485.15,796.875 \n",
       "  1552.25,737.801 1619.35,678.726 1686.45,606.018 1753.55,546.943 1820.65,487.868 1887.75,446.97 1954.85,406.072 2021.95,365.174 2089.05,356.086 2156.15,351.541 \n",
       "  2223.25,369.718 \n",
       "  \"/>\n",
       "<polyline clip-path=\"url(#clip8402)\" style=\"stroke:#e26f46; stroke-width:4; stroke-opacity:1; fill:none\" points=\"\n",
       "  210.251,965.012 277.351,960.468 344.451,955.923 411.551,951.379 478.652,951.379 545.752,955.923 612.852,965.012 679.952,974.1 747.052,969.556 814.152,951.379 \n",
       "  881.252,919.57 948.352,883.216 1015.45,851.406 1082.55,824.141 1149.65,801.42 1216.75,778.699 1283.85,746.889 1350.95,705.991 1418.05,660.549 1485.15,610.562 \n",
       "  1552.25,551.487 1619.35,496.957 1686.45,433.337 1753.55,378.807 1820.65,328.82 1887.75,287.922 1954.85,256.113 2021.95,228.847 2089.05,219.759 2156.15,224.303 \n",
       "  2223.25,233.391 \n",
       "  \"/>\n",
       "<polyline clip-path=\"url(#clip8402)\" style=\"stroke:#3da44d; stroke-width:4; stroke-opacity:1; fill:none\" points=\"\n",
       "  210.251,705.991 277.351,719.624 344.451,728.712 411.551,733.256 478.652,742.345 545.752,746.889 612.852,765.066 679.952,778.699 747.052,774.154 814.152,755.977 \n",
       "  881.252,719.624 948.352,683.27 1015.45,651.46 1082.55,628.739 1149.65,601.474 1216.75,592.385 1283.85,551.487 1350.95,515.133 1418.05,469.691 1485.15,424.249 \n",
       "  1552.25,369.718 1619.35,315.188 1686.45,265.201 1753.55,219.759 1820.65,174.317 1887.75,137.963 1954.85,115.242 2021.95,101.609 2089.05,87.9763 2156.15,97.0647 \n",
       "  2223.25,92.5205 \n",
       "  \"/>\n",
       "<polyline clip-path=\"url(#clip8402)\" style=\"stroke:#c271d2; stroke-width:4; stroke-opacity:1; fill:none\" points=\"\n",
       "  210.251,1127.32 277.351,1137.29 344.451,1041.68 411.551,909.077 478.652,815.609 545.752,798.758 612.852,869.453 679.952,1040.07 747.052,1276.84 814.152,1445.72 \n",
       "  881.252,1393.74 948.352,1112.55 1015.45,778.816 1082.55,607.542 1149.65,673.306 1216.75,869.897 1283.85,1021.78 1350.95,1030.82 1418.05,933.322 1485.15,826.552 \n",
       "  1552.25,750.156 1619.35,662.364 1686.45,526.918 1753.55,375.651 1820.65,266.886 1887.75,216.419 1954.85,190.751 2021.95,156.452 2089.05,124.385 2156.15,135.888 \n",
       "  2223.25,200.393 2290.35,264.602 \n",
       "  \"/>\n",
       "<path clip-path=\"url(#clip8400)\" d=\"\n",
       "M1988.02 433.164 L2280.76 433.164 L2280.76 130.764 L1988.02 130.764  Z\n",
       "  \" fill=\"#ffffff\" fill-rule=\"evenodd\" fill-opacity=\"1\"/>\n",
       "<polyline clip-path=\"url(#clip8400)\" style=\"stroke:#000000; stroke-width:4; stroke-opacity:1; fill:none\" points=\"\n",
       "  1988.02,433.164 2280.76,433.164 2280.76,130.764 1988.02,130.764 1988.02,433.164 \n",
       "  \"/>\n",
       "<polyline clip-path=\"url(#clip8400)\" style=\"stroke:#009af9; stroke-width:4; stroke-opacity:1; fill:none\" points=\"\n",
       "  2012.02,191.244 2156.02,191.244 \n",
       "  \"/>\n",
       "<path clip-path=\"url(#clip8400)\" d=\"M 0 0 M2193.87 210.931 Q2192.06 215.561 2190.35 216.973 Q2188.64 218.385 2185.77 218.385 L2182.36 218.385 L2182.36 214.82 L2184.86 214.82 Q2186.62 214.82 2187.59 213.987 Q2188.57 213.154 2189.75 210.052 L2190.51 208.107 L2180.02 182.598 L2184.54 182.598 L2192.64 202.876 L2200.74 182.598 L2205.26 182.598 L2193.87 210.931 Z\" fill=\"#000000\" fill-rule=\"evenodd\" fill-opacity=\"1\" /><path clip-path=\"url(#clip8400)\" d=\"M 0 0 M2211.14 204.589 L2218.77 204.589 L2218.77 178.223 L2210.46 179.89 L2210.46 175.631 L2218.73 173.964 L2223.4 173.964 L2223.4 204.589 L2231.04 204.589 L2231.04 208.524 L2211.14 208.524 L2211.14 204.589 Z\" fill=\"#000000\" fill-rule=\"evenodd\" fill-opacity=\"1\" /><polyline clip-path=\"url(#clip8400)\" style=\"stroke:#e26f46; stroke-width:4; stroke-opacity:1; fill:none\" points=\"\n",
       "  2012.02,251.724 2156.02,251.724 \n",
       "  \"/>\n",
       "<path clip-path=\"url(#clip8400)\" d=\"M 0 0 M2193.87 271.411 Q2192.06 276.041 2190.35 277.453 Q2188.64 278.865 2185.77 278.865 L2182.36 278.865 L2182.36 275.3 L2184.86 275.3 Q2186.62 275.3 2187.59 274.467 Q2188.57 273.634 2189.75 270.532 L2190.51 268.587 L2180.02 243.078 L2184.54 243.078 L2192.64 263.356 L2200.74 243.078 L2205.26 243.078 L2193.87 271.411 Z\" fill=\"#000000\" fill-rule=\"evenodd\" fill-opacity=\"1\" /><path clip-path=\"url(#clip8400)\" d=\"M 0 0 M2214.35 265.069 L2230.67 265.069 L2230.67 269.004 L2208.73 269.004 L2208.73 265.069 Q2211.39 262.314 2215.97 257.685 Q2220.58 253.032 2221.76 251.689 Q2224.01 249.166 2224.89 247.43 Q2225.79 245.671 2225.79 243.981 Q2225.79 241.226 2223.84 239.49 Q2221.92 237.754 2218.82 237.754 Q2216.62 237.754 2214.17 238.518 Q2211.74 239.282 2208.96 240.833 L2208.96 236.111 Q2211.78 234.976 2214.24 234.398 Q2216.69 233.819 2218.73 233.819 Q2224.1 233.819 2227.29 236.504 Q2230.49 239.189 2230.49 243.68 Q2230.49 245.81 2229.68 247.731 Q2228.89 249.629 2226.78 252.222 Q2226.21 252.893 2223.1 256.111 Q2220 259.305 2214.35 265.069 Z\" fill=\"#000000\" fill-rule=\"evenodd\" fill-opacity=\"1\" /><polyline clip-path=\"url(#clip8400)\" style=\"stroke:#3da44d; stroke-width:4; stroke-opacity:1; fill:none\" points=\"\n",
       "  2012.02,312.204 2156.02,312.204 \n",
       "  \"/>\n",
       "<path clip-path=\"url(#clip8400)\" d=\"M 0 0 M2193.87 331.891 Q2192.06 336.521 2190.35 337.933 Q2188.64 339.345 2185.77 339.345 L2182.36 339.345 L2182.36 335.78 L2184.86 335.78 Q2186.62 335.78 2187.59 334.947 Q2188.57 334.114 2189.75 331.012 L2190.51 329.067 L2180.02 303.558 L2184.54 303.558 L2192.64 323.836 L2200.74 303.558 L2205.26 303.558 L2193.87 331.891 Z\" fill=\"#000000\" fill-rule=\"evenodd\" fill-opacity=\"1\" /><path clip-path=\"url(#clip8400)\" d=\"M 0 0 M2224.49 310.85 Q2227.85 311.568 2229.72 313.836 Q2231.62 316.105 2231.62 319.438 Q2231.62 324.554 2228.1 327.354 Q2224.58 330.155 2218.1 330.155 Q2215.93 330.155 2213.61 329.716 Q2211.32 329.299 2208.87 328.442 L2208.87 323.929 Q2210.81 325.063 2213.13 325.642 Q2215.44 326.22 2217.96 326.22 Q2222.36 326.22 2224.65 324.484 Q2226.97 322.748 2226.97 319.438 Q2226.97 316.382 2224.82 314.669 Q2222.69 312.933 2218.87 312.933 L2214.84 312.933 L2214.84 309.091 L2219.05 309.091 Q2222.5 309.091 2224.33 307.725 Q2226.16 306.336 2226.16 303.743 Q2226.16 301.081 2224.26 299.669 Q2222.39 298.234 2218.87 298.234 Q2216.95 298.234 2214.75 298.651 Q2212.55 299.068 2209.91 299.947 L2209.91 295.781 Q2212.57 295.04 2214.89 294.669 Q2217.22 294.299 2219.28 294.299 Q2224.61 294.299 2227.71 296.73 Q2230.81 299.137 2230.81 303.257 Q2230.81 306.128 2229.17 308.118 Q2227.52 310.086 2224.49 310.85 Z\" fill=\"#000000\" fill-rule=\"evenodd\" fill-opacity=\"1\" /><polyline clip-path=\"url(#clip8400)\" style=\"stroke:#c271d2; stroke-width:4; stroke-opacity:1; fill:none\" points=\"\n",
       "  2012.02,372.684 2156.02,372.684 \n",
       "  \"/>\n",
       "<path clip-path=\"url(#clip8400)\" d=\"M 0 0 M2193.87 392.371 Q2192.06 397.001 2190.35 398.413 Q2188.64 399.825 2185.77 399.825 L2182.36 399.825 L2182.36 396.26 L2184.86 396.26 Q2186.62 396.26 2187.59 395.427 Q2188.57 394.594 2189.75 391.492 L2190.51 389.547 L2180.02 364.038 L2184.54 364.038 L2192.64 384.316 L2200.74 364.038 L2205.26 364.038 L2193.87 392.371 Z\" fill=\"#000000\" fill-rule=\"evenodd\" fill-opacity=\"1\" /><path clip-path=\"url(#clip8400)\" d=\"M 0 0 M2223.17 359.478 L2211.37 377.927 L2223.17 377.927 L2223.17 359.478 M2221.95 355.404 L2227.83 355.404 L2227.83 377.927 L2232.76 377.927 L2232.76 381.816 L2227.83 381.816 L2227.83 389.964 L2223.17 389.964 L2223.17 381.816 L2207.57 381.816 L2207.57 377.302 L2221.95 355.404 Z\" fill=\"#000000\" fill-rule=\"evenodd\" fill-opacity=\"1\" /></svg>\n"
      ]
     },
     "execution_count": 107,
     "metadata": {},
     "output_type": "execute_result"
    }
   ],
   "source": [
    "raw_rt(state) = begin\n",
    "    data = dailies_for_state(state)\n",
    "    fdata = truefilter(data, smoothing)\n",
    "    [1+7*log(fdata[i]/fdata[i-1]) for i in 2:length(fdata)]\n",
    "end\n",
    "compare_with_raw_rt(sc) = plot([rt_results[sc][\"p05\"],rt_results[sc][\"rt\"],rt_results[sc][\"p95\"],raw_rt(sc)[(end-history_length):end]])\n",
    "compare_with_raw_rt(\"tn\")"
   ]
  },
  {
   "cell_type": "code",
   "execution_count": 55,
   "metadata": {},
   "outputs": [
    {
     "data": {
      "text/plain": [
       "5-element Array{String,1}:\n",
       " \"mh\"\n",
       " \"tn\"\n",
       " \"dl\"\n",
       " \"gj\"\n",
       " \"pb\""
      ]
     },
     "execution_count": 55,
     "metadata": {},
     "output_type": "execute_result"
    }
   ],
   "source": [
    "important_states = [lowercase(x[\"state_code\"]) for x in sort(rt_summary[\"states\"],lt=(a,b) -> a[\"daily_cases\"][end] > b[\"daily_cases\"][end])][1:5]"
   ]
  },
  {
   "cell_type": "code",
   "execution_count": 57,
   "metadata": {},
   "outputs": [
    {
     "name": "stderr",
     "output_type": "stream",
     "text": [
      "┌ Info: Found initial step size\n",
      "│   ϵ = 0.05\n",
      "└ @ Turing.Inference /home/srikumar/.julia/packages/Turing/cReBm/src/inference/hmc.jl:556\n",
      "\u001b[32mSampling: 100%|█████████████████████████████████████████| Time: 0:00:13\u001b[39m\n",
      "┌ Info: Found initial step size\n",
      "│   ϵ = 0.05\n",
      "└ @ Turing.Inference /home/srikumar/.julia/packages/Turing/cReBm/src/inference/hmc.jl:556\n",
      "\u001b[32mSampling: 100%|█████████████████████████████████████████| Time: 0:00:19\u001b[39m\n",
      "┌ Info: Found initial step size\n",
      "│   ϵ = 0.2\n",
      "└ @ Turing.Inference /home/srikumar/.julia/packages/Turing/cReBm/src/inference/hmc.jl:556\n",
      "\u001b[32mSampling: 100%|█████████████████████████████████████████| Time: 0:00:16\u001b[39m\n",
      "┌ Info: Found initial step size\n",
      "│   ϵ = 0.05\n",
      "└ @ Turing.Inference /home/srikumar/.julia/packages/Turing/cReBm/src/inference/hmc.jl:556\n",
      "\u001b[32mSampling: 100%|█████████████████████████████████████████| Time: 0:00:15\u001b[39m\n",
      "┌ Info: Found initial step size\n",
      "│   ϵ = 0.2\n",
      "└ @ Turing.Inference /home/srikumar/.julia/packages/Turing/cReBm/src/inference/hmc.jl:556\n",
      "\u001b[32mSampling: 100%|█████████████████████████████████████████| Time: 0:00:27\u001b[39m\n"
     ]
    },
    {
     "data": {
      "text/plain": [
       "Dict{String,Dict{String,Array{Any,1}}} with 5 entries:\n",
       "  \"dl\" => Dict{String,Array{Any,1}}(\"p95\"=>[2.11, 2.07, 2.04, 2.03, 1.95, 1.83,…\n",
       "  \"tn\" => Dict{String,Array{Any,1}}(\"p95\"=>[1.53, 1.51, 1.49, 1.48, 1.45, 1.42,…\n",
       "  \"pb\" => Dict{String,Array{Any,1}}(\"p95\"=>[2.22, 2.22, 2.19, 2.15, 2.14, 2.14,…\n",
       "  \"gj\" => Dict{String,Array{Any,1}}(\"p95\"=>[2.74, 2.72, 2.7, 2.62, 2.56, 2.48, …\n",
       "  \"mh\" => Dict{String,Array{Any,1}}(\"p95\"=>[2.12, 2.06, 2.04, 2.0, 1.99, 1.94, …"
      ]
     },
     "execution_count": 57,
     "metadata": {},
     "output_type": "execute_result"
    }
   ],
   "source": [
    "top5_results = Dict([(sc,run_for_state(filtered_state_data(sc))) for sc in important_states])"
   ]
  },
  {
   "cell_type": "code",
   "execution_count": 58,
   "metadata": {},
   "outputs": [],
   "source": [
    "rt_top5 = [\n",
    "            Dict(\n",
    "                \"state_code\"=>uppercase(state),\n",
    "                \"state_name\"=>india_state_codes[state],\n",
    "                \"daily_cases\"=>dailies_for_state(state)[end-length(x[\"rt\"])+ix],\n",
    "                \"date\"=>date_series[end-length(x[\"rt\"])+ix],\n",
    "                \"p95\"=>x[\"p95\"][ix],\n",
    "                \"p25\"=>x[\"p25\"][ix],\n",
    "                \"p05\"=>x[\"p05\"][ix],\n",
    "                \"rt\"=>x[\"rt\"][ix],\n",
    "                \"p75\"=>x[\"p75\"][ix],\n",
    "                \"std\"=>x[\"std\"][ix])\n",
    "            for (state,x) in top5_results\n",
    "            for ix in 1:length(x[\"rt\"])\n",
    "        ]\n",
    "\n",
    "\n",
    "open(\"data/rt_india_states.json\",\"w\") do f\n",
    "    JSON.print(f, rt_top5)\n",
    "end"
   ]
  },
  {
   "cell_type": "markdown",
   "metadata": {},
   "source": [
    "Checking for TamilNadu"
   ]
  },
  {
   "cell_type": "code",
   "execution_count": 59,
   "metadata": {},
   "outputs": [
    {
     "data": {
      "text/plain": [
       "31-element Array{Any,1}:\n",
       " 0.95\n",
       " 0.96\n",
       " 0.97\n",
       " 0.98\n",
       " 0.99\n",
       " 0.97\n",
       " 0.96\n",
       " 0.94\n",
       " 0.95\n",
       " 1.0\n",
       " 1.06\n",
       " 1.13\n",
       " 1.2\n",
       " ⋮\n",
       " 1.72\n",
       " 1.85\n",
       " 1.97\n",
       " 2.1\n",
       " 2.22\n",
       " 2.34\n",
       " 2.43\n",
       " 2.51\n",
       " 2.56\n",
       " 2.59\n",
       " 2.58\n",
       " 2.56"
      ]
     },
     "execution_count": 59,
     "metadata": {},
     "output_type": "execute_result"
    }
   ],
   "source": [
    "top5_results[\"tn\"][\"rt\"]"
   ]
  },
  {
   "cell_type": "code",
   "execution_count": 87,
   "metadata": {},
   "outputs": [
    {
     "name": "stderr",
     "output_type": "stream",
     "text": [
      "┌ Info: Found initial step size\n",
      "│   ϵ = 0.0498046875\n",
      "└ @ Turing.Inference /home/srikumar/.julia/packages/Turing/cReBm/src/inference/hmc.jl:556\n",
      "\u001b[32mSampling: 100%|█████████████████████████████████████████| Time: 0:02:04\u001b[39m\n",
      "┌ Info: Found initial step size\n",
      "│   ϵ = 0.05\n",
      "└ @ Turing.Inference /home/srikumar/.julia/packages/Turing/cReBm/src/inference/hmc.jl:556\n",
      "\u001b[32mSampling: 100%|█████████████████████████████████████████| Time: 0:01:58\u001b[39m\n",
      "┌ Info: Found initial step size\n",
      "│   ϵ = 0.05\n",
      "└ @ Turing.Inference /home/srikumar/.julia/packages/Turing/cReBm/src/inference/hmc.jl:556\n",
      "\u001b[32mSampling: 100%|█████████████████████████████████████████| Time: 0:01:58\u001b[39m\n",
      "┌ Info: Found initial step size\n",
      "│   ϵ = 0.2\n",
      "└ @ Turing.Inference /home/srikumar/.julia/packages/Turing/cReBm/src/inference/hmc.jl:556\n",
      "\u001b[32mSampling: 100%|█████████████████████████████████████████| Time: 0:01:55\u001b[39m\n",
      "┌ Info: Found initial step size\n",
      "│   ϵ = 0.2\n",
      "└ @ Turing.Inference /home/srikumar/.julia/packages/Turing/cReBm/src/inference/hmc.jl:556\n",
      "\u001b[32mSampling: 100%|█████████████████████████████████████████| Time: 0:01:54\u001b[39m\n",
      "┌ Info: Found initial step size\n",
      "│   ϵ = 0.05\n",
      "└ @ Turing.Inference /home/srikumar/.julia/packages/Turing/cReBm/src/inference/hmc.jl:556\n",
      "\u001b[32mSampling: 100%|█████████████████████████████████████████| Time: 0:01:34\u001b[39m\n",
      "┌ Info: Found initial step size\n",
      "│   ϵ = 0.2\n",
      "└ @ Turing.Inference /home/srikumar/.julia/packages/Turing/cReBm/src/inference/hmc.jl:556\n",
      "\u001b[32mSampling: 100%|█████████████████████████████████████████| Time: 0:01:32\u001b[39m\n",
      "┌ Info: Found initial step size\n",
      "│   ϵ = 0.05\n",
      "└ @ Turing.Inference /home/srikumar/.julia/packages/Turing/cReBm/src/inference/hmc.jl:556\n",
      "\u001b[32mSampling: 100%|█████████████████████████████████████████| Time: 0:01:30\u001b[39m\n",
      "┌ Info: Found initial step size\n",
      "│   ϵ = 0.049218750000000006\n",
      "└ @ Turing.Inference /home/srikumar/.julia/packages/Turing/cReBm/src/inference/hmc.jl:556\n",
      "\u001b[32mSampling: 100%|█████████████████████████████████████████| Time: 0:01:28\u001b[39m\n",
      "┌ Info: Found initial step size\n",
      "│   ϵ = 0.05\n",
      "└ @ Turing.Inference /home/srikumar/.julia/packages/Turing/cReBm/src/inference/hmc.jl:556\n",
      "\u001b[32mSampling: 100%|█████████████████████████████████████████| Time: 0:01:26\u001b[39m\n",
      "┌ Info: Found initial step size\n",
      "│   ϵ = 0.05\n",
      "└ @ Turing.Inference /home/srikumar/.julia/packages/Turing/cReBm/src/inference/hmc.jl:556\n",
      "\u001b[32mSampling: 100%|█████████████████████████████████████████| Time: 0:01:22\u001b[39m\n"
     ]
    },
    {
     "data": {
      "text/plain": [
       "11-element Array{Any,1}:\n",
       " Dict{String,Array{Any,1}}(\"p95\" => [2.87, 2.84, 2.82, 2.83, 2.85, 2.83, 2.81, 2.83, 2.8, 2.82  …  2.37, 2.49, 2.58, 2.68, 2.76, 2.84, 2.87, 2.88, 2.88, 2.87],\"p25\" => [1.34, 1.38, 1.4, 1.44, 1.47, 1.51, 1.52, 1.53, 1.58, 1.6  …  1.85, 1.98, 2.1, 2.22, 2.32, 2.4, 2.46, 2.48, 2.47, 2.43],\"p05\" => [0.76, 0.77, 0.81, 0.85, 0.9, 0.92, 0.95, 1.03, 1.09, 1.13  …  1.63, 1.76, 1.9, 2.01, 2.13, 2.23, 2.28, 2.31, 2.31, 2.25],\"rt\" => [1.8, 1.82, 1.84, 1.85, 1.87, 1.88, 1.9, 1.92, 1.93, 1.95  …  2.0, 2.13, 2.24, 2.36, 2.45, 2.53, 2.58, 2.6, 2.59, 2.56],\"p75\" => [2.24, 2.24, 2.25, 2.25, 2.26, 2.27, 2.29, 2.29, 2.28, 2.3  …  2.15, 2.27, 2.39, 2.49, 2.57, 2.65, 2.7, 2.71, 2.7, 2.69],\"std\" => [0.65, 0.63, 0.62, 0.6, 0.59, 0.57, 0.56, 0.54, 0.52, 0.5  …  0.23, 0.22, 0.21, 0.2, 0.19, 0.18, 0.18, 0.17, 0.17, 0.19])\n",
       " Dict{String,Array{Any,1}}(\"p95\" => [2.83, 2.85, 2.85, 2.84, 2.85, 2.81, 2.83, 2.83, 2.79, 2.76  …  2.28, 2.39, 2.52, 2.63, 2.73, 2.83, 2.93, 3.02, 3.09, 3.14],\"p25\" => [1.33, 1.35, 1.38, 1.4, 1.43, 1.45, 1.49, 1.52, 1.55, 1.56  …  1.74, 1.87, 2.01, 2.15, 2.28, 2.39, 2.5, 2.58, 2.66, 2.67],\"p05\" => [0.75, 0.8, 0.83, 0.87, 0.9, 0.94, 0.99, 1.05, 1.04, 1.11  …  1.49, 1.62, 1.79, 1.94, 2.07, 2.19, 2.31, 2.4, 2.48, 2.49],\"rt\" => [1.77, 1.79, 1.81, 1.82, 1.83, 1.85, 1.86, 1.89, 1.9, 1.92  …  1.89, 2.02, 2.16, 2.29, 2.41, 2.52, 2.62, 2.71, 2.78, 2.81],\"p75\" => [2.2, 2.2, 2.22, 2.22, 2.21, 2.22, 2.22, 2.23, 2.24, 2.24  …  2.05, 2.18, 2.3, 2.43, 2.54, 2.65, 2.75, 2.83, 2.9, 2.95],\"std\" => [0.64, 0.63, 0.61, 0.6, 0.59, 0.57, 0.56, 0.54, 0.52, 0.51  …  0.24, 0.23, 0.22, 0.21, 0.2, 0.2, 0.19, 0.19, 0.18, 0.2])\n",
       " Dict{String,Array{Any,1}}(\"p95\" => [2.93, 2.91, 2.9, 2.9, 2.89, 2.86, 2.85, 2.85, 2.83, 2.83  …  2.14, 2.27, 2.39, 2.53, 2.64, 2.73, 2.84, 2.93, 3.01, 3.1],\"p25\" => [1.33, 1.35, 1.37, 1.4, 1.42, 1.45, 1.48, 1.51, 1.55, 1.57  …  1.59, 1.71, 1.84, 1.99, 2.12, 2.25, 2.37, 2.46, 2.55, 2.6],\"p05\" => [0.69, 0.73, 0.77, 0.78, 0.81, 0.88, 0.9, 0.97, 1.0, 1.05  …  1.36, 1.49, 1.6, 1.74, 1.9, 2.02, 2.14, 2.27, 2.36, 2.39],\"rt\" => [1.78, 1.8, 1.81, 1.83, 1.84, 1.86, 1.88, 1.9, 1.92, 1.93  …  1.76, 1.88, 2.01, 2.14, 2.28, 2.39, 2.5, 2.6, 2.68, 2.74],\"p75\" => [2.23, 2.24, 2.23, 2.26, 2.27, 2.28, 2.28, 2.29, 2.28, 2.29  …  1.92, 2.03, 2.17, 2.3, 2.44, 2.54, 2.65, 2.74, 2.82, 2.88],\"std\" => [0.67, 0.66, 0.64, 0.63, 0.62, 0.6, 0.58, 0.57, 0.55, 0.53  …  0.24, 0.24, 0.24, 0.24, 0.23, 0.22, 0.21, 0.2, 0.2, 0.22])\n",
       " Dict{String,Array{Any,1}}(\"p95\" => [2.87, 2.85, 2.84, 2.83, 2.84, 2.81, 2.81, 2.77, 2.79, 2.76  …  2.03, 2.13, 2.24, 2.34, 2.46, 2.57, 2.69, 2.75, 2.83, 2.89],\"p25\" => [1.32, 1.37, 1.38, 1.42, 1.43, 1.49, 1.51, 1.53, 1.56, 1.58  …  1.45, 1.56, 1.68, 1.8, 1.94, 2.07, 2.17, 2.26, 2.33, 2.35],\"p05\" => [0.76, 0.79, 0.82, 0.86, 0.9, 0.93, 0.97, 1.03, 1.07, 1.09  …  1.21, 1.32, 1.44, 1.59, 1.71, 1.85, 1.97, 2.08, 2.11, 2.13],\"rt\" => [1.78, 1.8, 1.82, 1.84, 1.86, 1.88, 1.89, 1.91, 1.92, 1.93  …  1.62, 1.72, 1.84, 1.97, 2.1, 2.21, 2.32, 2.4, 2.47, 2.51],\"p75\" => [2.21, 2.23, 2.25, 2.27, 2.28, 2.28, 2.27, 2.27, 2.28, 2.28  …  1.79, 1.89, 2.0, 2.13, 2.25, 2.35, 2.46, 2.55, 2.61, 2.67],\"std\" => [0.64, 0.63, 0.62, 0.6, 0.59, 0.58, 0.56, 0.54, 0.53, 0.51  …  0.25, 0.25, 0.24, 0.24, 0.23, 0.22, 0.22, 0.21, 0.21, 0.23])\n",
       " Dict{String,Array{Any,1}}(\"p95\" => [2.78, 2.78, 2.75, 2.73, 2.74, 2.75, 2.78, 2.76, 2.75, 2.76  …  1.92, 2.0, 2.09, 2.19, 2.28, 2.38, 2.48, 2.55, 2.62, 2.68],\"p25\" => [1.3, 1.33, 1.35, 1.39, 1.44, 1.45, 1.48, 1.49, 1.54, 1.57  …  1.31, 1.4, 1.5, 1.6, 1.7, 1.81, 1.91, 1.98, 2.03, 2.04],\"p05\" => [0.71, 0.75, 0.82, 0.86, 0.88, 0.94, 0.97, 1.02, 1.06, 1.11  …  1.05, 1.15, 1.24, 1.36, 1.47, 1.56, 1.67, 1.75, 1.78, 1.76],\"rt\" => [1.75, 1.76, 1.78, 1.8, 1.82, 1.83, 1.85, 1.87, 1.88, 1.91  …  1.48, 1.57, 1.66, 1.77, 1.87, 1.98, 2.07, 2.15, 2.2, 2.22],\"p75\" => [2.17, 2.19, 2.2, 2.21, 2.21, 2.21, 2.22, 2.21, 2.23, 2.24  …  1.66, 1.74, 1.84, 1.95, 2.05, 2.15, 2.24, 2.32, 2.37, 2.41],\"std\" => [0.64, 0.62, 0.6, 0.58, 0.57, 0.56, 0.54, 0.53, 0.51, 0.5  …  0.26, 0.26, 0.26, 0.26, 0.25, 0.25, 0.24, 0.24, 0.25, 0.28])\n",
       " Dict{String,Array{Any,1}}(\"p95\" => [2.91, 2.92, 2.89, 2.88, 2.86, 2.83, 2.86, 2.82, 2.8, 2.77  …  1.81, 1.89, 1.98, 2.08, 2.16, 2.28, 2.38, 2.48, 2.55, 2.64],\"p25\" => [1.29, 1.33, 1.36, 1.39, 1.41, 1.46, 1.48, 1.49, 1.53, 1.57  …  1.24, 1.32, 1.4, 1.51, 1.6, 1.71, 1.82, 1.91, 1.97, 1.99],\"p05\" => [0.72, 0.72, 0.76, 0.82, 0.83, 0.89, 0.92, 0.95, 1.01, 1.04  …  0.97, 1.07, 1.16, 1.25, 1.38, 1.49, 1.6, 1.67, 1.72, 1.73],\"rt\" => [1.78, 1.79, 1.8, 1.81, 1.83, 1.84, 1.86, 1.87, 1.89, 1.9  …  1.4, 1.48, 1.57, 1.67, 1.77, 1.87, 1.98, 2.07, 2.14, 2.18],\"p75\" => [2.23, 2.22, 2.22, 2.23, 2.22, 2.22, 2.23, 2.23, 2.25, 2.23  …  1.58, 1.66, 1.74, 1.83, 1.93, 2.03, 2.14, 2.23, 2.31, 2.38],\"std\" => [0.67, 0.66, 0.65, 0.63, 0.62, 0.59, 0.58, 0.56, 0.54, 0.52  …  0.25, 0.25, 0.25, 0.25, 0.24, 0.24, 0.24, 0.25, 0.26, 0.28])\n",
       " Dict{String,Array{Any,1}}(\"p95\" => [2.82, 2.79, 2.8, 2.79, 2.79, 2.77, 2.75, 2.77, 2.76, 2.75  …  1.74, 1.79, 1.87, 1.95, 2.02, 2.12, 2.22, 2.32, 2.43, 2.53],\"p25\" => [1.35, 1.39, 1.41, 1.45, 1.46, 1.49, 1.53, 1.56, 1.58, 1.6  …  1.15, 1.19, 1.26, 1.33, 1.42, 1.51, 1.61, 1.69, 1.75, 1.78],\"p05\" => [0.78, 0.8, 0.81, 0.85, 0.87, 0.91, 0.97, 1.02, 1.1, 1.11  …  0.91, 0.96, 1.01, 1.09, 1.16, 1.26, 1.34, 1.44, 1.48, 1.49],\"rt\" => [1.79, 1.8, 1.81, 1.83, 1.85, 1.86, 1.88, 1.9, 1.92, 1.94  …  1.32, 1.37, 1.44, 1.51, 1.6, 1.69, 1.79, 1.88, 1.95, 2.0],\"p75\" => [2.2, 2.22, 2.21, 2.22, 2.23, 2.23, 2.24, 2.25, 2.27, 2.27  …  1.49, 1.55, 1.62, 1.7, 1.78, 1.87, 1.97, 2.06, 2.15, 2.21],\"std\" => [0.62, 0.61, 0.6, 0.59, 0.57, 0.56, 0.54, 0.53, 0.51, 0.5  …  0.26, 0.26, 0.26, 0.26, 0.26, 0.26, 0.27, 0.27, 0.29, 0.31])\n",
       " Dict{String,Array{Any,1}}(\"p95\" => [2.82, 2.82, 2.82, 2.81, 2.8, 2.77, 2.78, 2.75, 2.75, 2.73  …  1.66, 1.69, 1.72, 1.81, 1.88, 1.93, 2.02, 2.1, 2.18, 2.25],\"p25\" => [1.34, 1.36, 1.39, 1.42, 1.44, 1.48, 1.49, 1.51, 1.55, 1.57  …  1.06, 1.1, 1.14, 1.2, 1.25, 1.31, 1.38, 1.44, 1.49, 1.52],\"p05\" => [0.76, 0.81, 0.82, 0.88, 0.91, 0.96, 1.01, 1.07, 1.12, 1.14  …  0.82, 0.86, 0.89, 0.94, 0.99, 1.06, 1.12, 1.15, 1.18, 1.19],\"rt\" => [1.78, 1.8, 1.81, 1.82, 1.84, 1.85, 1.87, 1.89, 1.9, 1.92  …  1.24, 1.27, 1.31, 1.37, 1.43, 1.5, 1.57, 1.64, 1.69, 1.73],\"p75\" => [2.22, 2.21, 2.2, 2.21, 2.22, 2.23, 2.25, 2.25, 2.26, 2.25  …  1.42, 1.45, 1.49, 1.54, 1.6, 1.68, 1.76, 1.85, 1.91, 1.95],\"std\" => [0.63, 0.62, 0.61, 0.59, 0.58, 0.56, 0.54, 0.53, 0.51, 0.49  …  0.25, 0.25, 0.26, 0.26, 0.27, 0.27, 0.28, 0.29, 0.31, 0.32])\n",
       " Dict{String,Array{Any,1}}(\"p95\" => [2.84, 2.8, 2.79, 2.8, 2.79, 2.78, 2.76, 2.76, 2.76, 2.74  …  1.58, 1.59, 1.62, 1.66, 1.7, 1.76, 1.83, 1.88, 1.97, 2.02],\"p25\" => [1.29, 1.31, 1.35, 1.38, 1.41, 1.43, 1.47, 1.49, 1.51, 1.55  …  0.97, 0.99, 1.0, 1.03, 1.07, 1.11, 1.16, 1.2, 1.23, 1.24],\"p05\" => [0.75, 0.8, 0.83, 0.85, 0.87, 0.92, 0.95, 1.01, 1.06, 1.07  …  0.7, 0.71, 0.75, 0.77, 0.81, 0.85, 0.85, 0.91, 0.94, 0.93],\"rt\" => [1.75, 1.77, 1.78, 1.8, 1.81, 1.83, 1.85, 1.87, 1.89, 1.9  …  1.15, 1.16, 1.18, 1.21, 1.25, 1.3, 1.36, 1.4, 1.44, 1.47],\"p75\" => [2.17, 2.18, 2.19, 2.21, 2.21, 2.21, 2.22, 2.23, 2.23, 2.22  …  1.33, 1.34, 1.37, 1.39, 1.43, 1.49, 1.55, 1.61, 1.66, 1.7],\"std\" => [0.63, 0.62, 0.6, 0.6, 0.58, 0.57, 0.55, 0.53, 0.52, 0.5  …  0.27, 0.27, 0.27, 0.27, 0.27, 0.28, 0.29, 0.3, 0.32, 0.33])\n",
       " Dict{String,Array{Any,1}}(\"p95\" => [2.89, 2.87, 2.87, 2.84, 2.81, 2.82, 2.82, 2.82, 2.82, 2.79  …  1.51, 1.53, 1.54, 1.55, 1.6, 1.61, 1.67, 1.7, 1.71, 1.78],\"p25\" => [1.33, 1.35, 1.38, 1.41, 1.42, 1.47, 1.5, 1.53, 1.56, 1.58  …  0.9, 0.91, 0.91, 0.92, 0.94, 0.95, 0.98, 0.99, 1.0, 1.0],\"p05\" => [0.75, 0.74, 0.79, 0.86, 0.88, 0.91, 0.95, 1.0, 1.06, 1.13  …  0.63, 0.66, 0.67, 0.66, 0.67, 0.68, 0.7, 0.7, 0.68, 0.65],\"rt\" => [1.8, 1.81, 1.83, 1.84, 1.85, 1.87, 1.89, 1.91, 1.93, 1.94  …  1.08, 1.1, 1.1, 1.11, 1.13, 1.14, 1.17, 1.2, 1.21, 1.22],\"p75\" => [2.25, 2.25, 2.25, 2.25, 2.26, 2.28, 2.28, 2.27, 2.28, 2.28  …  1.26, 1.29, 1.29, 1.3, 1.31, 1.33, 1.37, 1.4, 1.42, 1.46],\"std\" => [0.66, 0.65, 0.63, 0.61, 0.6, 0.58, 0.57, 0.55, 0.53, 0.51  …  0.27, 0.27, 0.27, 0.27, 0.28, 0.29, 0.29, 0.3, 0.32, 0.34])\n",
       " Dict{String,Array{Any,1}}(\"p95\" => [2.84, 2.82, 2.81, 2.81, 2.81, 2.78, 2.78, 2.78, 2.76, 2.74  …  1.45, 1.46, 1.5, 1.5, 1.52, 1.5, 1.53, 1.54, 1.59, 1.61],\"p25\" => [1.34, 1.38, 1.38, 1.42, 1.43, 1.46, 1.51, 1.52, 1.54, 1.57  …  0.82, 0.83, 0.85, 0.84, 0.85, 0.83, 0.84, 0.85, 0.85, 0.82],\"p05\" => [0.68, 0.74, 0.78, 0.83, 0.9, 0.92, 0.94, 0.98, 1.03, 1.08  …  0.55, 0.59, 0.59, 0.58, 0.58, 0.56, 0.54, 0.53, 0.5, 0.45],\"rt\" => [1.77, 1.79, 1.8, 1.82, 1.83, 1.85, 1.87, 1.88, 1.9, 1.91  …  1.0, 1.03, 1.04, 1.04, 1.04, 1.04, 1.04, 1.05, 1.06, 1.05],\"p75\" => [2.21, 2.21, 2.23, 2.23, 2.23, 2.24, 2.24, 2.26, 2.26, 2.27  …  1.18, 1.22, 1.23, 1.23, 1.23, 1.23, 1.25, 1.27, 1.28, 1.29],\"std\" => [0.64, 0.63, 0.61, 0.6, 0.58, 0.57, 0.55, 0.54, 0.52, 0.51  …  0.27, 0.27, 0.28, 0.28, 0.29, 0.29, 0.3, 0.31, 0.33, 0.35])"
      ]
     },
     "execution_count": 87,
     "metadata": {},
     "output_type": "execute_result"
    }
   ],
   "source": [
    "tn = dailies_for_state(\"tn\")\n",
    "tn_results = []\n",
    "for ending = 0:10\n",
    "    push!(tn_results, run_for_state(map(x -> trunc(Int, round(x)), truefilter(tn[1:end-ending], 5))))\n",
    "end\n",
    "tn_results"
   ]
  },
  {
   "cell_type": "code",
   "execution_count": null,
   "metadata": {},
   "outputs": [],
   "source": []
  }
 ],
 "metadata": {
  "kernelspec": {
   "display_name": "Julia 1.4.0",
   "language": "julia",
   "name": "julia-1.4"
  },
  "language_info": {
   "file_extension": ".jl",
   "mimetype": "application/julia",
   "name": "julia",
   "version": "1.4.0"
  }
 },
 "nbformat": 4,
 "nbformat_minor": 4
}
